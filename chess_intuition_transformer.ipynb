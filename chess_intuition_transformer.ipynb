{
 "cells": [
  {
   "cell_type": "code",
   "execution_count": 1,
   "id": "b3c0c10f",
   "metadata": {},
   "outputs": [
    {
     "name": "stdout",
     "output_type": "stream",
     "text": [
      "datasets: 3.5.0\n",
      "torch: 2.4.1+cu124\n",
      "numpy: 2.2.5\n",
      "tqdm: 4.67.1\n"
     ]
    }
   ],
   "source": [
    "try: import datasets; print(f\"datasets: {datasets.__version__}\") \n",
    "except ImportError: print(\"datasets: Not installed.\") \n",
    "try: import torch; print(f\"torch: {torch.__version__}\") \n",
    "except ImportError: print(\"torch: Not installed.\") \n",
    "try: import numpy; print(f\"numpy: {numpy.__version__}\") \n",
    "except ImportError: print(\"numpy: Not installed.\") \n",
    "try: import tqdm; print(f\"tqdm: {tqdm.__version__}\") \n",
    "except ImportError: print(\"tqdm: Not installed.\") "
   ]
  },
  {
   "cell_type": "code",
   "execution_count": 1,
   "id": "c1f35039",
   "metadata": {},
   "outputs": [],
   "source": [
    "from datasets import load_dataset, load_from_disk, DatasetDict, Dataset\n",
    "import torch\n",
    "import torch.nn as nn\n",
    "from torch.optim.lr_scheduler import CosineAnnealingLR\n",
    "import os\n",
    "import numpy as np\n",
    "# import torch.nn.functional as F\n",
    "from torch.utils.data import DataLoader\n",
    "from preprocessing import add_representations, fen_to_piece_maps, fen_to_token_ids\n",
    "from tqdm import tqdm\n",
    "\n",
    "torch.set_float32_matmul_precision('medium')"
   ]
  },
  {
   "cell_type": "code",
   "execution_count": 2,
   "id": "c91a00b6",
   "metadata": {},
   "outputs": [],
   "source": [
    "DEVICE = torch.device(\"cuda\" if torch.cuda.is_available() else \"cpu\")\n",
    "if DEVICE == torch.device(\"cpu\"):\n",
    "    print(\"Using CPU, not recommended\")"
   ]
  },
  {
   "cell_type": "code",
   "execution_count": 3,
   "id": "5e585da0",
   "metadata": {},
   "outputs": [],
   "source": [
    "def collate_fn(batch):\n",
    "    batch_fens = [example['fen'] for example in batch]\n",
    "    labels = torch.tensor(\n",
    "        [example['target'] for example in batch],\n",
    "        dtype=torch.float32\n",
    "    )\n",
    "    inputs = torch.stack([\n",
    "        torch.tensor(fen_to_token_ids(fen), dtype=torch.long)\n",
    "        for fen in batch_fens\n",
    "    ])\n",
    "    return inputs, labels"
   ]
  },
  {
   "cell_type": "code",
   "execution_count": 13,
   "id": "e540892a",
   "metadata": {},
   "outputs": [],
   "source": [
    "train_dataset = load_from_disk(os.path.join(os.getcwd(), \"processed_data/lichess_db_eval_split/train\"))\n",
    "val_dataset = load_from_disk(os.path.join(os.getcwd(), \"processed_data/lichess_db_eval_split/validation\"))\n",
    "test_dataset = load_from_disk(os.path.join(os.getcwd(), \"processed_data/lichess_db_eval_split/test\"))\n",
    "\n",
    "num_training_examples = len(train_dataset)\n",
    "\n",
    "train_dataset = train_dataset.to_iterable_dataset(num_shards=32)\n",
    "val_dataset = val_dataset.to_iterable_dataset()\n",
    "test_dataset = test_dataset.to_iterable_dataset()\n",
    "\n",
    "train_dataset = train_dataset.shuffle(buffer_size=10000)\n",
    "val_dataset = val_dataset.shuffle(buffer_size=10000)\n",
    "test_dataset = test_dataset.shuffle(buffer_size=10000)"
   ]
  },
  {
   "cell_type": "code",
   "execution_count": 14,
   "id": "bbcfe5c9-3327-4e14-99fe-1eabe7f3f5e7",
   "metadata": {},
   "outputs": [],
   "source": [
    "# dataset = load_from_disk(os.path.join(os.getcwd(), \"processed_data/lichess_db_eval_part1\"))\n",
    "\n",
    "# # Split the dataset into train, validation, and test sets\n",
    "# train_size = int(0.98 * len(dataset))\n",
    "# val_size = int(0.01 * len(dataset))\n",
    "# test_size = len(dataset) - train_size - val_size\n",
    "\n",
    "# train_dataset = dataset.select(range(train_size))\n",
    "# val_dataset = dataset.select(range(train_size, train_size + val_size))\n",
    "# test_dataset = dataset.select(range(train_size + val_size, len(dataset)))\n",
    "# num_training_examples = len(train_dataset)\n",
    "\n",
    "# train_dataset = dataset.select(range(train_size))\n",
    "# val_dataset = dataset.select(range(train_size, train_size + val_size))\n",
    "# test_dataset = dataset.select(range(train_size + val_size, len(dataset)))\n",
    "\n",
    "# # Create a DatasetDict\n",
    "# dataset_dict = DatasetDict({\n",
    "#     'train': train_dataset,\n",
    "#     'validation': val_dataset,\n",
    "#     'test': test_dataset\n",
    "# })\n",
    "\n",
    "# # Save the DatasetDict to disk\n",
    "# dataset_dict.save_to_disk(os.path.join(os.getcwd(), \"processed_data/lichess_db_eval_split\"))\n",
    "\n",
    "# Convert to iterable datasets\n",
    "# train_dataset = train_dataset.dataset.to_iterable_dataset(num_shards=32)\n",
    "# val_dataset = val_dataset.dataset.to_iterable_dataset()\n",
    "# test_dataset = test_dataset.dataset.to_iterable_dataset()\n",
    "\n",
    "# train_dataset = train_dataset.shuffle(buffer_size=10000)\n",
    "# val_dataset = val_dataset.shuffle(buffer_size=10000)\n",
    "# test_dataset = test_dataset.shuffle(buffer_size=10000)"
   ]
  },
  {
   "cell_type": "code",
   "execution_count": 15,
   "id": "17fe26fc",
   "metadata": {},
   "outputs": [],
   "source": [
    "train_loader = DataLoader(train_dataset, batch_size=256, collate_fn=collate_fn)\n",
    "val_loader = DataLoader(val_dataset, batch_size=256, collate_fn=collate_fn)\n",
    "test_loader = DataLoader(test_dataset, batch_size=256, collate_fn=collate_fn)"
   ]
  },
  {
   "cell_type": "code",
   "execution_count": 19,
   "id": "2d5f5ba2",
   "metadata": {},
   "outputs": [],
   "source": [
    "class ChessEvalTransformer(nn.Module):\n",
    "    def __init__(self, vocab_size=31, d_model=64, n_heads=2, n_layers=2):      # vocab size is 31 because there are 12 piece tokens, 16 castling tokens, 2 side-to-move tokens + '0'\n",
    "        super().__init__()\n",
    "        seq_len = 64 + 1 + 1\n",
    "        self.embed = nn.Embedding(vocab_size, d_model)\n",
    "        self.pos_embed = nn.Embedding(seq_len, d_model)\n",
    "        encoder_layer = nn.TransformerEncoderLayer(\n",
    "            d_model, n_heads, dim_feedforward=d_model*4, dropout=0.5\n",
    "        )\n",
    "        self.transformer = nn.TransformerEncoder(encoder_layer, n_layers)\n",
    "        self.norm = nn.LayerNorm(d_model)\n",
    "        self.reg_head = nn.Sequential(\n",
    "            nn.Linear(d_model, d_model//2),\n",
    "            nn.ReLU(),\n",
    "            nn.Dropout(0.6),\n",
    "            nn.Linear(d_model//2, 1)\n",
    "        )\n",
    "\n",
    "    def forward(self, x):\n",
    "        # x: (B, 66)\n",
    "        B, L = x.size()\n",
    "\n",
    "        tok_emb = self.embed(x)                     # (B,66,d)\n",
    "        pos = torch.arange(L, device=DEVICE)\n",
    "        pos_emb = self.pos_embed(pos).unsqueeze(0)  # (1,66,d)\n",
    "\n",
    "        h = tok_emb + pos_emb                       # (B,66,d)\n",
    "        h = self.transformer(h.permute(1,0,2))      # (66,B,d)     - transformer expects (seq, batch, d)\n",
    "        h = h.mean(dim=0)                           # (B,d)\n",
    "        h = self.norm(h)\n",
    "\n",
    "        out = self.reg_head(h).squeeze(-1)          # (B,)\n",
    "        return torch.tanh(out)                      # in the range [-1,1]"
   ]
  },
  {
   "cell_type": "code",
   "execution_count": 20,
   "id": "9d4ef74b",
   "metadata": {},
   "outputs": [
    {
     "name": "stdout",
     "output_type": "stream",
     "text": [
      "689064\n"
     ]
    }
   ],
   "source": [
    "NUM_EPOCHS = 3\n",
    "total_iters = NUM_EPOCHS * ((num_training_examples // 256) + 1)\n",
    "print(total_iters)\n",
    "\n",
    "model = ChessEvalTransformer().to(DEVICE)\n",
    "optimizer = torch.optim.AdamW(model.parameters(), lr=3e-4, weight_decay=2e-2)\n",
    "scheduler = CosineAnnealingLR(optimizer, T_max=total_iters, eta_min=5e-5)\n",
    "criterion = nn.MSELoss()\n",
    "\n",
    "steps, train_losses, train_maes, val_losses, val_maes = [], [], [], [], []       # for tracking performance"
   ]
  },
  {
   "cell_type": "code",
   "execution_count": 21,
   "id": "0c04a37e",
   "metadata": {},
   "outputs": [
    {
     "name": "stderr",
     "output_type": "stream",
     "text": [
      "Epoch 1: 1015it [00:10, 94.98it/s]"
     ]
    },
    {
     "name": "stdout",
     "output_type": "stream",
     "text": [
      "Step 1000 — train_loss: 0.1369, train_mae: 0.2265\n"
     ]
    },
    {
     "name": "stderr",
     "output_type": "stream",
     "text": [
      "Epoch 1: 2016it [00:20, 92.25it/s]"
     ]
    },
    {
     "name": "stdout",
     "output_type": "stream",
     "text": [
      "Step 2000 — train_loss: 0.1285, train_mae: 0.2191\n"
     ]
    },
    {
     "name": "stderr",
     "output_type": "stream",
     "text": [
      "Epoch 1: 3017it [00:31, 99.35it/s] "
     ]
    },
    {
     "name": "stdout",
     "output_type": "stream",
     "text": [
      "Step 3000 — train_loss: 0.1243, train_mae: 0.2157\n"
     ]
    },
    {
     "name": "stderr",
     "output_type": "stream",
     "text": [
      "Epoch 1: 4013it [00:41, 99.52it/s]"
     ]
    },
    {
     "name": "stdout",
     "output_type": "stream",
     "text": [
      "Step 4000 — train_loss: 0.1209, train_mae: 0.2129\n"
     ]
    },
    {
     "name": "stderr",
     "output_type": "stream",
     "text": [
      "Epoch 1: 4994it [00:51, 93.01it/s]"
     ]
    },
    {
     "name": "stdout",
     "output_type": "stream",
     "text": [
      "Step 5000 — train_loss: 0.1174, train_mae: 0.2095\n"
     ]
    },
    {
     "name": "stderr",
     "output_type": "stream",
     "text": [
      "Epoch 1: 5014it [01:05,  3.31it/s]"
     ]
    },
    {
     "name": "stdout",
     "output_type": "stream",
     "text": [
      "Validating! Step 5000 — train_loss: 0.1174, train_mae: 0.2095, val_loss: 0.1129, val_mae: 0.2189, current_LR: 0.0003\n",
      "Saved new best model after 5000 iters\n",
      "--------Validation MAE improved to 0.218859--------\n"
     ]
    },
    {
     "name": "stderr",
     "output_type": "stream",
     "text": [
      "Epoch 1: 6018it [01:15, 96.96it/s] "
     ]
    },
    {
     "name": "stdout",
     "output_type": "stream",
     "text": [
      "Step 6000 — train_loss: 0.1170, train_mae: 0.2099\n"
     ]
    },
    {
     "name": "stderr",
     "output_type": "stream",
     "text": [
      "Epoch 1: 7015it [01:25, 96.17it/s] "
     ]
    },
    {
     "name": "stdout",
     "output_type": "stream",
     "text": [
      "Step 7000 — train_loss: 0.1130, train_mae: 0.2057\n"
     ]
    },
    {
     "name": "stderr",
     "output_type": "stream",
     "text": [
      "Epoch 1: 8010it [01:36, 93.11it/s] "
     ]
    },
    {
     "name": "stdout",
     "output_type": "stream",
     "text": [
      "Step 8000 — train_loss: 0.1130, train_mae: 0.2080\n"
     ]
    },
    {
     "name": "stderr",
     "output_type": "stream",
     "text": [
      "Epoch 1: 9018it [01:46, 93.59it/s] "
     ]
    },
    {
     "name": "stdout",
     "output_type": "stream",
     "text": [
      "Step 9000 — train_loss: 0.1129, train_mae: 0.2091\n"
     ]
    },
    {
     "name": "stderr",
     "output_type": "stream",
     "text": [
      "Epoch 1: 9999it [01:56, 104.94it/s]"
     ]
    },
    {
     "name": "stdout",
     "output_type": "stream",
     "text": [
      "Step 10000 — train_loss: 0.1123, train_mae: 0.2098\n"
     ]
    },
    {
     "name": "stderr",
     "output_type": "stream",
     "text": [
      "Epoch 1: 10012it [02:11,  3.09it/s]"
     ]
    },
    {
     "name": "stdout",
     "output_type": "stream",
     "text": [
      "Validating! Step 10000 — train_loss: 0.1123, train_mae: 0.2098, val_loss: 0.1076, val_mae: 0.2119, current_LR: 0.0003\n",
      "Saved new best model after 10000 iters\n",
      "--------Validation MAE improved to 0.211902--------\n"
     ]
    },
    {
     "name": "stderr",
     "output_type": "stream",
     "text": [
      "Epoch 1: 11019it [02:19, 120.27it/s]"
     ]
    },
    {
     "name": "stdout",
     "output_type": "stream",
     "text": [
      "Step 11000 — train_loss: 0.1114, train_mae: 0.2096\n"
     ]
    },
    {
     "name": "stderr",
     "output_type": "stream",
     "text": [
      "Epoch 1: 12018it [02:28, 120.93it/s]"
     ]
    },
    {
     "name": "stdout",
     "output_type": "stream",
     "text": [
      "Step 12000 — train_loss: 0.1111, train_mae: 0.2099\n"
     ]
    },
    {
     "name": "stderr",
     "output_type": "stream",
     "text": [
      "Epoch 1: 13016it [02:36, 120.38it/s]"
     ]
    },
    {
     "name": "stdout",
     "output_type": "stream",
     "text": [
      "Step 13000 — train_loss: 0.1105, train_mae: 0.2098\n"
     ]
    },
    {
     "name": "stderr",
     "output_type": "stream",
     "text": [
      "Epoch 1: 14017it [02:44, 121.45it/s]"
     ]
    },
    {
     "name": "stdout",
     "output_type": "stream",
     "text": [
      "Step 14000 — train_loss: 0.1100, train_mae: 0.2098\n"
     ]
    },
    {
     "name": "stderr",
     "output_type": "stream",
     "text": [
      "Epoch 1: 14996it [02:53, 93.05it/s] "
     ]
    },
    {
     "name": "stdout",
     "output_type": "stream",
     "text": [
      "Step 15000 — train_loss: 0.1098, train_mae: 0.2098\n"
     ]
    },
    {
     "name": "stderr",
     "output_type": "stream",
     "text": [
      "Epoch 1: 15010it [03:07,  2.91it/s]"
     ]
    },
    {
     "name": "stdout",
     "output_type": "stream",
     "text": [
      "Validating! Step 15000 — train_loss: 0.1098, train_mae: 0.2098, val_loss: 0.1096, val_mae: 0.2126, current_LR: 0.0003\n",
      "--------No significant MAE improvement for 5000 iterations--------\n"
     ]
    },
    {
     "name": "stderr",
     "output_type": "stream",
     "text": [
      "Epoch 1: 16012it [03:17, 98.75it/s] "
     ]
    },
    {
     "name": "stdout",
     "output_type": "stream",
     "text": [
      "Step 16000 — train_loss: 0.1093, train_mae: 0.2092\n"
     ]
    },
    {
     "name": "stderr",
     "output_type": "stream",
     "text": [
      "Epoch 1: 17016it [03:27, 99.49it/s] "
     ]
    },
    {
     "name": "stdout",
     "output_type": "stream",
     "text": [
      "Step 17000 — train_loss: 0.1088, train_mae: 0.2089\n"
     ]
    },
    {
     "name": "stderr",
     "output_type": "stream",
     "text": [
      "Epoch 1: 18009it [03:38, 89.69it/s] "
     ]
    },
    {
     "name": "stdout",
     "output_type": "stream",
     "text": [
      "Step 18000 — train_loss: 0.1083, train_mae: 0.2085\n"
     ]
    },
    {
     "name": "stderr",
     "output_type": "stream",
     "text": [
      "Epoch 1: 19018it [03:48, 99.17it/s] "
     ]
    },
    {
     "name": "stdout",
     "output_type": "stream",
     "text": [
      "Step 19000 — train_loss: 0.1080, train_mae: 0.2083\n"
     ]
    },
    {
     "name": "stderr",
     "output_type": "stream",
     "text": [
      "Epoch 1: 19995it [03:58, 98.90it/s] "
     ]
    },
    {
     "name": "stdout",
     "output_type": "stream",
     "text": [
      "Step 20000 — train_loss: 0.1077, train_mae: 0.2083\n"
     ]
    },
    {
     "name": "stderr",
     "output_type": "stream",
     "text": [
      "Epoch 1: 20009it [04:12,  2.89it/s]"
     ]
    },
    {
     "name": "stdout",
     "output_type": "stream",
     "text": [
      "Validating! Step 20000 — train_loss: 0.1077, train_mae: 0.2083, val_loss: 0.1015, val_mae: 0.2040, current_LR: 0.0003\n",
      "Saved new best model after 20000 iters\n",
      "--------Validation MAE improved to 0.204021--------\n"
     ]
    },
    {
     "name": "stderr",
     "output_type": "stream",
     "text": [
      "Epoch 1: 21023it [04:22, 113.95it/s]"
     ]
    },
    {
     "name": "stdout",
     "output_type": "stream",
     "text": [
      "Step 21000 — train_loss: 0.1076, train_mae: 0.2083\n"
     ]
    },
    {
     "name": "stderr",
     "output_type": "stream",
     "text": [
      "Epoch 1: 22012it [04:32, 93.11it/s] "
     ]
    },
    {
     "name": "stdout",
     "output_type": "stream",
     "text": [
      "Step 22000 — train_loss: 0.1073, train_mae: 0.2080\n"
     ]
    },
    {
     "name": "stderr",
     "output_type": "stream",
     "text": [
      "Epoch 1: 23011it [04:43, 92.96it/s]"
     ]
    },
    {
     "name": "stdout",
     "output_type": "stream",
     "text": [
      "Step 23000 — train_loss: 0.1072, train_mae: 0.2082\n"
     ]
    },
    {
     "name": "stderr",
     "output_type": "stream",
     "text": [
      "Epoch 1: 24012it [04:52, 96.34it/s] "
     ]
    },
    {
     "name": "stdout",
     "output_type": "stream",
     "text": [
      "Step 24000 — train_loss: 0.1070, train_mae: 0.2081\n"
     ]
    },
    {
     "name": "stderr",
     "output_type": "stream",
     "text": [
      "Epoch 1: 24999it [05:02, 102.98it/s]"
     ]
    },
    {
     "name": "stdout",
     "output_type": "stream",
     "text": [
      "Step 25000 — train_loss: 0.1066, train_mae: 0.2078\n"
     ]
    },
    {
     "name": "stderr",
     "output_type": "stream",
     "text": [
      "Epoch 1: 25010it [05:16,  2.78it/s] "
     ]
    },
    {
     "name": "stdout",
     "output_type": "stream",
     "text": [
      "Validating! Step 25000 — train_loss: 0.1066, train_mae: 0.2078, val_loss: 0.1019, val_mae: 0.2011, current_LR: 0.0003\n",
      "--------Validation MAE improved to 0.201128--------\n"
     ]
    },
    {
     "name": "stderr",
     "output_type": "stream",
     "text": [
      "Epoch 1: 26013it [05:26, 96.51it/s] "
     ]
    },
    {
     "name": "stdout",
     "output_type": "stream",
     "text": [
      "Step 26000 — train_loss: 0.1063, train_mae: 0.2075\n"
     ]
    },
    {
     "name": "stderr",
     "output_type": "stream",
     "text": [
      "Epoch 1: 27019it [05:36, 100.86it/s]"
     ]
    },
    {
     "name": "stdout",
     "output_type": "stream",
     "text": [
      "Step 27000 — train_loss: 0.1060, train_mae: 0.2074\n"
     ]
    },
    {
     "name": "stderr",
     "output_type": "stream",
     "text": [
      "Epoch 1: 28016it [05:46, 100.38it/s]"
     ]
    },
    {
     "name": "stdout",
     "output_type": "stream",
     "text": [
      "Step 28000 — train_loss: 0.1056, train_mae: 0.2071\n"
     ]
    },
    {
     "name": "stderr",
     "output_type": "stream",
     "text": [
      "Epoch 1: 29020it [05:56, 101.73it/s]"
     ]
    },
    {
     "name": "stdout",
     "output_type": "stream",
     "text": [
      "Step 29000 — train_loss: 0.1053, train_mae: 0.2069\n"
     ]
    },
    {
     "name": "stderr",
     "output_type": "stream",
     "text": [
      "Epoch 1: 29998it [06:06, 95.80it/s] "
     ]
    },
    {
     "name": "stdout",
     "output_type": "stream",
     "text": [
      "Step 30000 — train_loss: 0.1061, train_mae: 0.2076\n"
     ]
    },
    {
     "name": "stderr",
     "output_type": "stream",
     "text": [
      "Epoch 1: 30010it [06:20,  2.77it/s]"
     ]
    },
    {
     "name": "stdout",
     "output_type": "stream",
     "text": [
      "Validating! Step 30000 — train_loss: 0.1061, train_mae: 0.2076, val_loss: 0.1160, val_mae: 0.2222, current_LR: 0.0003\n",
      "--------No significant MAE improvement for 5000 iterations--------\n"
     ]
    },
    {
     "name": "stderr",
     "output_type": "stream",
     "text": [
      "Epoch 1: 31015it [06:31, 93.43it/s] "
     ]
    },
    {
     "name": "stdout",
     "output_type": "stream",
     "text": [
      "Step 31000 — train_loss: 0.1062, train_mae: 0.2076\n"
     ]
    },
    {
     "name": "stderr",
     "output_type": "stream",
     "text": [
      "Epoch 1: 32016it [06:42, 94.70it/s]"
     ]
    },
    {
     "name": "stdout",
     "output_type": "stream",
     "text": [
      "Step 32000 — train_loss: 0.1063, train_mae: 0.2077\n"
     ]
    },
    {
     "name": "stderr",
     "output_type": "stream",
     "text": [
      "Epoch 1: 33013it [06:52, 93.22it/s] "
     ]
    },
    {
     "name": "stdout",
     "output_type": "stream",
     "text": [
      "Step 33000 — train_loss: 0.1063, train_mae: 0.2076\n"
     ]
    },
    {
     "name": "stderr",
     "output_type": "stream",
     "text": [
      "Epoch 1: 34011it [07:01, 99.20it/s] "
     ]
    },
    {
     "name": "stdout",
     "output_type": "stream",
     "text": [
      "Step 34000 — train_loss: 0.1061, train_mae: 0.2073\n"
     ]
    },
    {
     "name": "stderr",
     "output_type": "stream",
     "text": [
      "Epoch 1: 34996it [07:11, 99.27it/s] "
     ]
    },
    {
     "name": "stdout",
     "output_type": "stream",
     "text": [
      "Step 35000 — train_loss: 0.1062, train_mae: 0.2074\n"
     ]
    },
    {
     "name": "stderr",
     "output_type": "stream",
     "text": [
      "Epoch 1: 35016it [07:25,  3.29it/s]"
     ]
    },
    {
     "name": "stdout",
     "output_type": "stream",
     "text": [
      "Validating! Step 35000 — train_loss: 0.1062, train_mae: 0.2074, val_loss: 0.1157, val_mae: 0.2182, current_LR: 0.0003\n",
      "--------No significant MAE improvement for 10000 iterations--------\n"
     ]
    },
    {
     "name": "stderr",
     "output_type": "stream",
     "text": [
      "Epoch 1: 36019it [07:34, 121.32it/s]"
     ]
    },
    {
     "name": "stdout",
     "output_type": "stream",
     "text": [
      "Step 36000 — train_loss: 0.1061, train_mae: 0.2072\n"
     ]
    },
    {
     "name": "stderr",
     "output_type": "stream",
     "text": [
      "Epoch 1: 37013it [07:43, 94.67it/s] "
     ]
    },
    {
     "name": "stdout",
     "output_type": "stream",
     "text": [
      "Step 37000 — train_loss: 0.1058, train_mae: 0.2069\n"
     ]
    },
    {
     "name": "stderr",
     "output_type": "stream",
     "text": [
      "Epoch 1: 38016it [07:54, 93.68it/s]"
     ]
    },
    {
     "name": "stdout",
     "output_type": "stream",
     "text": [
      "Step 38000 — train_loss: 0.1057, train_mae: 0.2069\n"
     ]
    },
    {
     "name": "stderr",
     "output_type": "stream",
     "text": [
      "Epoch 1: 39013it [08:04, 103.64it/s]"
     ]
    },
    {
     "name": "stdout",
     "output_type": "stream",
     "text": [
      "Step 39000 — train_loss: 0.1055, train_mae: 0.2067\n"
     ]
    },
    {
     "name": "stderr",
     "output_type": "stream",
     "text": [
      "Epoch 1: 39992it [08:14, 95.42it/s] "
     ]
    },
    {
     "name": "stdout",
     "output_type": "stream",
     "text": [
      "Step 40000 — train_loss: 0.1053, train_mae: 0.2066\n"
     ]
    },
    {
     "name": "stderr",
     "output_type": "stream",
     "text": [
      "Epoch 1: 40010it [08:28,  3.18it/s]"
     ]
    },
    {
     "name": "stdout",
     "output_type": "stream",
     "text": [
      "Validating! Step 40000 — train_loss: 0.1053, train_mae: 0.2066, val_loss: 0.0994, val_mae: 0.2032, current_LR: 0.0003\n",
      "Saved new best model after 40000 iters\n",
      "--------No significant MAE improvement for 15000 iterations--------\n"
     ]
    },
    {
     "name": "stderr",
     "output_type": "stream",
     "text": [
      "Epoch 1: 41013it [08:38, 98.77it/s] "
     ]
    },
    {
     "name": "stdout",
     "output_type": "stream",
     "text": [
      "Step 41000 — train_loss: 0.1052, train_mae: 0.2066\n"
     ]
    },
    {
     "name": "stderr",
     "output_type": "stream",
     "text": [
      "Epoch 1: 42017it [08:48, 93.41it/s] "
     ]
    },
    {
     "name": "stdout",
     "output_type": "stream",
     "text": [
      "Step 42000 — train_loss: 0.1049, train_mae: 0.2063\n"
     ]
    },
    {
     "name": "stderr",
     "output_type": "stream",
     "text": [
      "Epoch 1: 43013it [08:58, 93.40it/s] "
     ]
    },
    {
     "name": "stdout",
     "output_type": "stream",
     "text": [
      "Step 43000 — train_loss: 0.1047, train_mae: 0.2061\n"
     ]
    },
    {
     "name": "stderr",
     "output_type": "stream",
     "text": [
      "Epoch 1: 44015it [09:09, 96.26it/s] "
     ]
    },
    {
     "name": "stdout",
     "output_type": "stream",
     "text": [
      "Step 44000 — train_loss: 0.1045, train_mae: 0.2060\n"
     ]
    },
    {
     "name": "stderr",
     "output_type": "stream",
     "text": [
      "Epoch 1: 44991it [09:18, 93.42it/s] "
     ]
    },
    {
     "name": "stdout",
     "output_type": "stream",
     "text": [
      "Step 45000 — train_loss: 0.1042, train_mae: 0.2058\n"
     ]
    },
    {
     "name": "stderr",
     "output_type": "stream",
     "text": [
      "Epoch 1: 45010it [09:33,  3.23it/s]"
     ]
    },
    {
     "name": "stdout",
     "output_type": "stream",
     "text": [
      "Validating! Step 45000 — train_loss: 0.1042, train_mae: 0.2058, val_loss: 0.0979, val_mae: 0.1973, current_LR: 0.0003\n",
      "Saved new best model after 45000 iters\n",
      "--------Validation MAE improved to 0.197280--------\n"
     ]
    },
    {
     "name": "stderr",
     "output_type": "stream",
     "text": [
      "Epoch 1: 46011it [09:43, 93.10it/s]"
     ]
    },
    {
     "name": "stdout",
     "output_type": "stream",
     "text": [
      "Step 46000 — train_loss: 0.1040, train_mae: 0.2057\n"
     ]
    },
    {
     "name": "stderr",
     "output_type": "stream",
     "text": [
      "Epoch 1: 47010it [09:54, 93.35it/s] "
     ]
    },
    {
     "name": "stdout",
     "output_type": "stream",
     "text": [
      "Step 47000 — train_loss: 0.1039, train_mae: 0.2055\n"
     ]
    },
    {
     "name": "stderr",
     "output_type": "stream",
     "text": [
      "Epoch 1: 48019it [10:04, 100.12it/s]"
     ]
    },
    {
     "name": "stdout",
     "output_type": "stream",
     "text": [
      "Step 48000 — train_loss: 0.1038, train_mae: 0.2055\n"
     ]
    },
    {
     "name": "stderr",
     "output_type": "stream",
     "text": [
      "Epoch 1: 49010it [10:14, 94.32it/s] "
     ]
    },
    {
     "name": "stdout",
     "output_type": "stream",
     "text": [
      "Step 49000 — train_loss: 0.1037, train_mae: 0.2054\n"
     ]
    },
    {
     "name": "stderr",
     "output_type": "stream",
     "text": [
      "Epoch 1: 49992it [10:25, 109.72it/s]"
     ]
    },
    {
     "name": "stdout",
     "output_type": "stream",
     "text": [
      "Step 50000 — train_loss: 0.1035, train_mae: 0.2054\n"
     ]
    },
    {
     "name": "stderr",
     "output_type": "stream",
     "text": [
      "Epoch 1: 50010it [10:39,  3.46it/s] "
     ]
    },
    {
     "name": "stdout",
     "output_type": "stream",
     "text": [
      "Validating! Step 50000 — train_loss: 0.1035, train_mae: 0.2054, val_loss: 0.0990, val_mae: 0.1991, current_LR: 0.0003\n",
      "--------No significant MAE improvement for 5000 iterations--------\n"
     ]
    },
    {
     "name": "stderr",
     "output_type": "stream",
     "text": [
      "Epoch 1: 51014it [10:48, 99.02it/s] "
     ]
    },
    {
     "name": "stdout",
     "output_type": "stream",
     "text": [
      "Step 51000 — train_loss: 0.1034, train_mae: 0.2052\n"
     ]
    },
    {
     "name": "stderr",
     "output_type": "stream",
     "text": [
      "Epoch 1: 52013it [10:58, 97.98it/s] "
     ]
    },
    {
     "name": "stdout",
     "output_type": "stream",
     "text": [
      "Step 52000 — train_loss: 0.1032, train_mae: 0.2047\n"
     ]
    },
    {
     "name": "stderr",
     "output_type": "stream",
     "text": [
      "Epoch 1: 53013it [11:08, 104.07it/s]"
     ]
    },
    {
     "name": "stdout",
     "output_type": "stream",
     "text": [
      "Step 53000 — train_loss: 0.1031, train_mae: 0.2046\n"
     ]
    },
    {
     "name": "stderr",
     "output_type": "stream",
     "text": [
      "Epoch 1: 54012it [11:19, 99.05it/s] "
     ]
    },
    {
     "name": "stdout",
     "output_type": "stream",
     "text": [
      "Step 54000 — train_loss: 0.1026, train_mae: 0.2040\n"
     ]
    },
    {
     "name": "stderr",
     "output_type": "stream",
     "text": [
      "Epoch 1: 54991it [11:29, 94.71it/s] "
     ]
    },
    {
     "name": "stdout",
     "output_type": "stream",
     "text": [
      "Step 55000 — train_loss: 0.1026, train_mae: 0.2039\n"
     ]
    },
    {
     "name": "stderr",
     "output_type": "stream",
     "text": [
      "Epoch 1: 55012it [11:43,  3.44it/s]"
     ]
    },
    {
     "name": "stdout",
     "output_type": "stream",
     "text": [
      "Validating! Step 55000 — train_loss: 0.1026, train_mae: 0.2039, val_loss: 0.0994, val_mae: 0.1982, current_LR: 0.0003\n",
      "--------No significant MAE improvement for 10000 iterations--------\n"
     ]
    },
    {
     "name": "stderr",
     "output_type": "stream",
     "text": [
      "Epoch 1: 56013it [11:52, 99.59it/s] "
     ]
    },
    {
     "name": "stdout",
     "output_type": "stream",
     "text": [
      "Step 56000 — train_loss: 0.1025, train_mae: 0.2038\n"
     ]
    },
    {
     "name": "stderr",
     "output_type": "stream",
     "text": [
      "Epoch 1: 57019it [12:02, 99.34it/s]"
     ]
    },
    {
     "name": "stdout",
     "output_type": "stream",
     "text": [
      "Step 57000 — train_loss: 0.1024, train_mae: 0.2036\n"
     ]
    },
    {
     "name": "stderr",
     "output_type": "stream",
     "text": [
      "Epoch 1: 58022it [12:10, 122.14it/s]"
     ]
    },
    {
     "name": "stdout",
     "output_type": "stream",
     "text": [
      "Step 58000 — train_loss: 0.1021, train_mae: 0.2032\n"
     ]
    },
    {
     "name": "stderr",
     "output_type": "stream",
     "text": [
      "Epoch 1: 59015it [12:19, 122.02it/s]"
     ]
    },
    {
     "name": "stdout",
     "output_type": "stream",
     "text": [
      "Step 59000 — train_loss: 0.1022, train_mae: 0.2033\n"
     ]
    },
    {
     "name": "stderr",
     "output_type": "stream",
     "text": [
      "Epoch 1: 59999it [12:28, 120.84it/s]"
     ]
    },
    {
     "name": "stdout",
     "output_type": "stream",
     "text": [
      "Step 60000 — train_loss: 0.1021, train_mae: 0.2032\n"
     ]
    },
    {
     "name": "stderr",
     "output_type": "stream",
     "text": [
      "Epoch 1: 60012it [12:42,  3.37it/s] "
     ]
    },
    {
     "name": "stdout",
     "output_type": "stream",
     "text": [
      "Validating! Step 60000 — train_loss: 0.1021, train_mae: 0.2032, val_loss: 0.0978, val_mae: 0.1975, current_LR: 0.0003\n",
      "Saved new best model after 60000 iters\n",
      "--------No significant MAE improvement for 15000 iterations--------\n"
     ]
    },
    {
     "name": "stderr",
     "output_type": "stream",
     "text": [
      "Epoch 1: 61014it [12:52, 99.79it/s]"
     ]
    },
    {
     "name": "stdout",
     "output_type": "stream",
     "text": [
      "Step 61000 — train_loss: 0.1021, train_mae: 0.2032\n"
     ]
    },
    {
     "name": "stderr",
     "output_type": "stream",
     "text": [
      "Epoch 1: 62021it [13:01, 119.41it/s]"
     ]
    },
    {
     "name": "stdout",
     "output_type": "stream",
     "text": [
      "Step 62000 — train_loss: 0.1021, train_mae: 0.2032\n"
     ]
    },
    {
     "name": "stderr",
     "output_type": "stream",
     "text": [
      "Epoch 1: 63015it [13:11, 101.17it/s]"
     ]
    },
    {
     "name": "stdout",
     "output_type": "stream",
     "text": [
      "Step 63000 — train_loss: 0.1020, train_mae: 0.2031\n"
     ]
    },
    {
     "name": "stderr",
     "output_type": "stream",
     "text": [
      "Epoch 1: 64012it [13:21, 99.32it/s] "
     ]
    },
    {
     "name": "stdout",
     "output_type": "stream",
     "text": [
      "Step 64000 — train_loss: 0.1020, train_mae: 0.2031\n"
     ]
    },
    {
     "name": "stderr",
     "output_type": "stream",
     "text": [
      "Epoch 1: 64994it [13:31, 116.43it/s]"
     ]
    },
    {
     "name": "stdout",
     "output_type": "stream",
     "text": [
      "Step 65000 — train_loss: 0.1019, train_mae: 0.2030\n"
     ]
    },
    {
     "name": "stderr",
     "output_type": "stream",
     "text": [
      "Epoch 1: 65016it [13:45,  3.81it/s] "
     ]
    },
    {
     "name": "stdout",
     "output_type": "stream",
     "text": [
      "Validating! Step 65000 — train_loss: 0.1019, train_mae: 0.2030, val_loss: 0.0947, val_mae: 0.1922, current_LR: 0.0003\n",
      "Saved new best model after 65000 iters\n",
      "--------Validation MAE improved to 0.192239--------\n"
     ]
    },
    {
     "name": "stderr",
     "output_type": "stream",
     "text": [
      "Epoch 1: 66020it [13:55, 120.96it/s]"
     ]
    },
    {
     "name": "stdout",
     "output_type": "stream",
     "text": [
      "Step 66000 — train_loss: 0.1018, train_mae: 0.2029\n"
     ]
    },
    {
     "name": "stderr",
     "output_type": "stream",
     "text": [
      "Epoch 1: 67022it [14:04, 115.60it/s]"
     ]
    },
    {
     "name": "stdout",
     "output_type": "stream",
     "text": [
      "Step 67000 — train_loss: 0.1017, train_mae: 0.2028\n"
     ]
    },
    {
     "name": "stderr",
     "output_type": "stream",
     "text": [
      "Epoch 1: 68014it [14:14, 93.77it/s] "
     ]
    },
    {
     "name": "stdout",
     "output_type": "stream",
     "text": [
      "Step 68000 — train_loss: 0.1016, train_mae: 0.2028\n"
     ]
    },
    {
     "name": "stderr",
     "output_type": "stream",
     "text": [
      "Epoch 1: 69013it [14:24, 98.98it/s] "
     ]
    },
    {
     "name": "stdout",
     "output_type": "stream",
     "text": [
      "Step 69000 — train_loss: 0.1016, train_mae: 0.2028\n"
     ]
    },
    {
     "name": "stderr",
     "output_type": "stream",
     "text": [
      "Epoch 1: 69998it [14:34, 100.39it/s]"
     ]
    },
    {
     "name": "stdout",
     "output_type": "stream",
     "text": [
      "Step 70000 — train_loss: 0.1015, train_mae: 0.2027\n"
     ]
    },
    {
     "name": "stderr",
     "output_type": "stream",
     "text": [
      "Epoch 1: 70012it [14:48,  3.11it/s] "
     ]
    },
    {
     "name": "stdout",
     "output_type": "stream",
     "text": [
      "Validating! Step 70000 — train_loss: 0.1015, train_mae: 0.2027, val_loss: 0.0962, val_mae: 0.1931, current_LR: 0.0003\n",
      "--------No significant MAE improvement for 5000 iterations--------\n"
     ]
    },
    {
     "name": "stderr",
     "output_type": "stream",
     "text": [
      "Epoch 1: 71010it [14:58, 99.45it/s] "
     ]
    },
    {
     "name": "stdout",
     "output_type": "stream",
     "text": [
      "Step 71000 — train_loss: 0.1013, train_mae: 0.2025\n"
     ]
    },
    {
     "name": "stderr",
     "output_type": "stream",
     "text": [
      "Epoch 1: 72013it [15:08, 94.76it/s] "
     ]
    },
    {
     "name": "stdout",
     "output_type": "stream",
     "text": [
      "Step 72000 — train_loss: 0.1012, train_mae: 0.2024\n"
     ]
    },
    {
     "name": "stderr",
     "output_type": "stream",
     "text": [
      "Epoch 1: 73010it [15:17, 90.33it/s] "
     ]
    },
    {
     "name": "stdout",
     "output_type": "stream",
     "text": [
      "Step 73000 — train_loss: 0.1012, train_mae: 0.2024\n"
     ]
    },
    {
     "name": "stderr",
     "output_type": "stream",
     "text": [
      "Epoch 1: 74010it [15:29, 95.40it/s]"
     ]
    },
    {
     "name": "stdout",
     "output_type": "stream",
     "text": [
      "Step 74000 — train_loss: 0.1012, train_mae: 0.2024\n"
     ]
    },
    {
     "name": "stderr",
     "output_type": "stream",
     "text": [
      "Epoch 1: 74994it [15:40, 94.32it/s]"
     ]
    },
    {
     "name": "stdout",
     "output_type": "stream",
     "text": [
      "Step 75000 — train_loss: 0.1011, train_mae: 0.2023\n"
     ]
    },
    {
     "name": "stderr",
     "output_type": "stream",
     "text": [
      "Epoch 1: 75014it [15:54,  3.16it/s]"
     ]
    },
    {
     "name": "stdout",
     "output_type": "stream",
     "text": [
      "Validating! Step 75000 — train_loss: 0.1011, train_mae: 0.2023, val_loss: 0.0980, val_mae: 0.1981, current_LR: 0.0003\n",
      "--------No significant MAE improvement for 10000 iterations--------\n"
     ]
    },
    {
     "name": "stderr",
     "output_type": "stream",
     "text": [
      "Epoch 1: 76012it [16:05, 98.75it/s] "
     ]
    },
    {
     "name": "stdout",
     "output_type": "stream",
     "text": [
      "Step 76000 — train_loss: 0.1012, train_mae: 0.2024\n"
     ]
    },
    {
     "name": "stderr",
     "output_type": "stream",
     "text": [
      "Epoch 1: 77016it [16:14, 95.08it/s] "
     ]
    },
    {
     "name": "stdout",
     "output_type": "stream",
     "text": [
      "Step 77000 — train_loss: 0.1011, train_mae: 0.2023\n"
     ]
    },
    {
     "name": "stderr",
     "output_type": "stream",
     "text": [
      "Epoch 1: 78011it [16:24, 89.09it/s] "
     ]
    },
    {
     "name": "stdout",
     "output_type": "stream",
     "text": [
      "Step 78000 — train_loss: 0.1011, train_mae: 0.2022\n"
     ]
    },
    {
     "name": "stderr",
     "output_type": "stream",
     "text": [
      "Epoch 1: 79022it [16:35, 118.59it/s]"
     ]
    },
    {
     "name": "stdout",
     "output_type": "stream",
     "text": [
      "Step 79000 — train_loss: 0.1010, train_mae: 0.2022\n"
     ]
    },
    {
     "name": "stderr",
     "output_type": "stream",
     "text": [
      "Epoch 1: 79993it [16:44, 101.48it/s]"
     ]
    },
    {
     "name": "stdout",
     "output_type": "stream",
     "text": [
      "Step 80000 — train_loss: 0.1008, train_mae: 0.2020\n"
     ]
    },
    {
     "name": "stderr",
     "output_type": "stream",
     "text": [
      "Epoch 1: 80009it [16:59,  3.06it/s] "
     ]
    },
    {
     "name": "stdout",
     "output_type": "stream",
     "text": [
      "Validating! Step 80000 — train_loss: 0.1008, train_mae: 0.2020, val_loss: 0.0973, val_mae: 0.1940, current_LR: 0.0003\n",
      "--------No significant MAE improvement for 15000 iterations--------\n"
     ]
    },
    {
     "name": "stderr",
     "output_type": "stream",
     "text": [
      "Epoch 1: 81013it [17:09, 94.11it/s] "
     ]
    },
    {
     "name": "stdout",
     "output_type": "stream",
     "text": [
      "Step 81000 — train_loss: 0.1007, train_mae: 0.2020\n"
     ]
    },
    {
     "name": "stderr",
     "output_type": "stream",
     "text": [
      "Epoch 1: 82015it [17:19, 97.59it/s] "
     ]
    },
    {
     "name": "stdout",
     "output_type": "stream",
     "text": [
      "Step 82000 — train_loss: 0.1006, train_mae: 0.2019\n"
     ]
    },
    {
     "name": "stderr",
     "output_type": "stream",
     "text": [
      "Epoch 1: 83018it [17:30, 99.47it/s]"
     ]
    },
    {
     "name": "stdout",
     "output_type": "stream",
     "text": [
      "Step 83000 — train_loss: 0.1005, train_mae: 0.2018\n"
     ]
    },
    {
     "name": "stderr",
     "output_type": "stream",
     "text": [
      "Epoch 1: 84013it [17:40, 99.15it/s]"
     ]
    },
    {
     "name": "stdout",
     "output_type": "stream",
     "text": [
      "Step 84000 — train_loss: 0.1005, train_mae: 0.2018\n"
     ]
    },
    {
     "name": "stderr",
     "output_type": "stream",
     "text": [
      "Epoch 1: 84995it [17:50, 99.27it/s]"
     ]
    },
    {
     "name": "stdout",
     "output_type": "stream",
     "text": [
      "Step 85000 — train_loss: 0.1004, train_mae: 0.2018\n"
     ]
    },
    {
     "name": "stderr",
     "output_type": "stream",
     "text": [
      "Epoch 1: 85015it [18:04,  3.24it/s]"
     ]
    },
    {
     "name": "stdout",
     "output_type": "stream",
     "text": [
      "Validating! Step 85000 — train_loss: 0.1004, train_mae: 0.2018, val_loss: 0.0946, val_mae: 0.1941, current_LR: 0.0003\n",
      "Saved new best model after 85000 iters\n",
      "--------No significant MAE improvement for 20000 iterations--------\n"
     ]
    },
    {
     "name": "stderr",
     "output_type": "stream",
     "text": [
      "Epoch 1: 86012it [18:14, 98.94it/s] "
     ]
    },
    {
     "name": "stdout",
     "output_type": "stream",
     "text": [
      "Step 86000 — train_loss: 0.1004, train_mae: 0.2018\n"
     ]
    },
    {
     "name": "stderr",
     "output_type": "stream",
     "text": [
      "Epoch 1: 87012it [18:24, 94.71it/s]"
     ]
    },
    {
     "name": "stdout",
     "output_type": "stream",
     "text": [
      "Step 87000 — train_loss: 0.1003, train_mae: 0.2017\n"
     ]
    },
    {
     "name": "stderr",
     "output_type": "stream",
     "text": [
      "Epoch 1: 88012it [18:35, 97.78it/s] "
     ]
    },
    {
     "name": "stdout",
     "output_type": "stream",
     "text": [
      "Step 88000 — train_loss: 0.1002, train_mae: 0.2016\n"
     ]
    },
    {
     "name": "stderr",
     "output_type": "stream",
     "text": [
      "Epoch 1: 89011it [18:45, 99.11it/s] "
     ]
    },
    {
     "name": "stdout",
     "output_type": "stream",
     "text": [
      "Step 89000 — train_loss: 0.1001, train_mae: 0.2015\n"
     ]
    },
    {
     "name": "stderr",
     "output_type": "stream",
     "text": [
      "Epoch 1: 89990it [18:54, 107.14it/s]"
     ]
    },
    {
     "name": "stdout",
     "output_type": "stream",
     "text": [
      "Step 90000 — train_loss: 0.1000, train_mae: 0.2014\n"
     ]
    },
    {
     "name": "stderr",
     "output_type": "stream",
     "text": [
      "Epoch 1: 90010it [19:09,  3.57it/s] "
     ]
    },
    {
     "name": "stdout",
     "output_type": "stream",
     "text": [
      "Validating! Step 90000 — train_loss: 0.1000, train_mae: 0.2014, val_loss: 0.0957, val_mae: 0.1926, current_LR: 0.0003\n",
      "--------No significant MAE improvement for 25000 iterations--------\n"
     ]
    },
    {
     "name": "stderr",
     "output_type": "stream",
     "text": [
      "Epoch 1: 91014it [19:19, 104.64it/s]"
     ]
    },
    {
     "name": "stdout",
     "output_type": "stream",
     "text": [
      "Step 91000 — train_loss: 0.0999, train_mae: 0.2013\n"
     ]
    },
    {
     "name": "stderr",
     "output_type": "stream",
     "text": [
      "Epoch 1: 92018it [19:29, 99.15it/s] "
     ]
    },
    {
     "name": "stdout",
     "output_type": "stream",
     "text": [
      "Step 92000 — train_loss: 0.0998, train_mae: 0.2012\n"
     ]
    },
    {
     "name": "stderr",
     "output_type": "stream",
     "text": [
      "Epoch 1: 93019it [19:39, 95.55it/s] "
     ]
    },
    {
     "name": "stdout",
     "output_type": "stream",
     "text": [
      "Step 93000 — train_loss: 0.0998, train_mae: 0.2012\n"
     ]
    },
    {
     "name": "stderr",
     "output_type": "stream",
     "text": [
      "Epoch 1: 94016it [19:49, 100.73it/s]"
     ]
    },
    {
     "name": "stdout",
     "output_type": "stream",
     "text": [
      "Step 94000 — train_loss: 0.0997, train_mae: 0.2011\n"
     ]
    },
    {
     "name": "stderr",
     "output_type": "stream",
     "text": [
      "Epoch 1: 94992it [19:57, 120.94it/s]"
     ]
    },
    {
     "name": "stdout",
     "output_type": "stream",
     "text": [
      "Step 95000 — train_loss: 0.0997, train_mae: 0.2011\n"
     ]
    },
    {
     "name": "stderr",
     "output_type": "stream",
     "text": [
      "Epoch 1: 95010it [20:12,  3.60it/s] "
     ]
    },
    {
     "name": "stdout",
     "output_type": "stream",
     "text": [
      "Validating! Step 95000 — train_loss: 0.0997, train_mae: 0.2011, val_loss: 0.0946, val_mae: 0.1923, current_LR: 0.0003\n",
      "--------No significant MAE improvement for 30000 iterations--------\n"
     ]
    },
    {
     "name": "stderr",
     "output_type": "stream",
     "text": [
      "Epoch 1: 96013it [20:22, 94.69it/s]"
     ]
    },
    {
     "name": "stdout",
     "output_type": "stream",
     "text": [
      "Step 96000 — train_loss: 0.0997, train_mae: 0.2011\n"
     ]
    },
    {
     "name": "stderr",
     "output_type": "stream",
     "text": [
      "Epoch 1: 97011it [20:32, 97.83it/s] "
     ]
    },
    {
     "name": "stdout",
     "output_type": "stream",
     "text": [
      "Step 97000 — train_loss: 0.0996, train_mae: 0.2010\n"
     ]
    },
    {
     "name": "stderr",
     "output_type": "stream",
     "text": [
      "Epoch 1: 98013it [20:42, 100.10it/s]"
     ]
    },
    {
     "name": "stdout",
     "output_type": "stream",
     "text": [
      "Step 98000 — train_loss: 0.0996, train_mae: 0.2010\n"
     ]
    },
    {
     "name": "stderr",
     "output_type": "stream",
     "text": [
      "Epoch 1: 99019it [20:52, 102.32it/s]"
     ]
    },
    {
     "name": "stdout",
     "output_type": "stream",
     "text": [
      "Step 99000 — train_loss: 0.0995, train_mae: 0.2009\n"
     ]
    },
    {
     "name": "stderr",
     "output_type": "stream",
     "text": [
      "Epoch 1: 99991it [21:01, 106.91it/s]"
     ]
    },
    {
     "name": "stdout",
     "output_type": "stream",
     "text": [
      "Step 100000 — train_loss: 0.0994, train_mae: 0.2008\n"
     ]
    },
    {
     "name": "stderr",
     "output_type": "stream",
     "text": [
      "Epoch 1: 100012it [21:15,  3.72it/s]"
     ]
    },
    {
     "name": "stdout",
     "output_type": "stream",
     "text": [
      "Validating! Step 100000 — train_loss: 0.0994, train_mae: 0.2008, val_loss: 0.0936, val_mae: 0.1913, current_LR: 0.0003\n",
      "Saved new best model after 100000 iters\n",
      "--------Validation MAE improved to 0.191254--------\n"
     ]
    },
    {
     "name": "stderr",
     "output_type": "stream",
     "text": [
      "Epoch 1: 101018it [21:26, 93.45it/s]"
     ]
    },
    {
     "name": "stdout",
     "output_type": "stream",
     "text": [
      "Step 101000 — train_loss: 0.0994, train_mae: 0.2008\n"
     ]
    },
    {
     "name": "stderr",
     "output_type": "stream",
     "text": [
      "Epoch 1: 102009it [21:36, 93.05it/s]"
     ]
    },
    {
     "name": "stdout",
     "output_type": "stream",
     "text": [
      "Step 102000 — train_loss: 0.0993, train_mae: 0.2007\n"
     ]
    },
    {
     "name": "stderr",
     "output_type": "stream",
     "text": [
      "Epoch 1: 103016it [21:47, 98.69it/s] "
     ]
    },
    {
     "name": "stdout",
     "output_type": "stream",
     "text": [
      "Step 103000 — train_loss: 0.0993, train_mae: 0.2006\n"
     ]
    },
    {
     "name": "stderr",
     "output_type": "stream",
     "text": [
      "Epoch 1: 104016it [21:57, 99.64it/s] "
     ]
    },
    {
     "name": "stdout",
     "output_type": "stream",
     "text": [
      "Step 104000 — train_loss: 0.0992, train_mae: 0.2006\n"
     ]
    },
    {
     "name": "stderr",
     "output_type": "stream",
     "text": [
      "Epoch 1: 104991it [22:07, 99.07it/s]"
     ]
    },
    {
     "name": "stdout",
     "output_type": "stream",
     "text": [
      "Step 105000 — train_loss: 0.0992, train_mae: 0.2006\n"
     ]
    },
    {
     "name": "stderr",
     "output_type": "stream",
     "text": [
      "Epoch 1: 105010it [22:21,  3.23it/s]"
     ]
    },
    {
     "name": "stdout",
     "output_type": "stream",
     "text": [
      "Validating! Step 105000 — train_loss: 0.0992, train_mae: 0.2006, val_loss: 0.0935, val_mae: 0.1885, current_LR: 0.0003\n",
      "Saved new best model after 105000 iters\n",
      "--------Validation MAE improved to 0.188488--------\n"
     ]
    },
    {
     "name": "stderr",
     "output_type": "stream",
     "text": [
      "Epoch 1: 106015it [22:31, 99.24it/s]"
     ]
    },
    {
     "name": "stdout",
     "output_type": "stream",
     "text": [
      "Step 106000 — train_loss: 0.0992, train_mae: 0.2005\n"
     ]
    },
    {
     "name": "stderr",
     "output_type": "stream",
     "text": [
      "Epoch 1: 107017it [22:42, 100.25it/s]"
     ]
    },
    {
     "name": "stdout",
     "output_type": "stream",
     "text": [
      "Step 107000 — train_loss: 0.0992, train_mae: 0.2005\n"
     ]
    },
    {
     "name": "stderr",
     "output_type": "stream",
     "text": [
      "Epoch 1: 108012it [22:52, 99.30it/s] "
     ]
    },
    {
     "name": "stdout",
     "output_type": "stream",
     "text": [
      "Step 108000 — train_loss: 0.0991, train_mae: 0.2004\n"
     ]
    },
    {
     "name": "stderr",
     "output_type": "stream",
     "text": [
      "Epoch 1: 109016it [23:02, 100.44it/s]"
     ]
    },
    {
     "name": "stdout",
     "output_type": "stream",
     "text": [
      "Step 109000 — train_loss: 0.0990, train_mae: 0.2003\n"
     ]
    },
    {
     "name": "stderr",
     "output_type": "stream",
     "text": [
      "Epoch 1: 109997it [23:10, 121.28it/s]"
     ]
    },
    {
     "name": "stdout",
     "output_type": "stream",
     "text": [
      "Step 110000 — train_loss: 0.0989, train_mae: 0.2002\n"
     ]
    },
    {
     "name": "stderr",
     "output_type": "stream",
     "text": [
      "Epoch 1: 110022it [23:24,  4.19it/s] "
     ]
    },
    {
     "name": "stdout",
     "output_type": "stream",
     "text": [
      "Validating! Step 110000 — train_loss: 0.0989, train_mae: 0.2002, val_loss: 0.0921, val_mae: 0.1904, current_LR: 0.0003\n",
      "Saved new best model after 110000 iters\n",
      "--------No significant MAE improvement for 5000 iterations--------\n"
     ]
    },
    {
     "name": "stderr",
     "output_type": "stream",
     "text": [
      "Epoch 1: 111016it [23:34, 96.64it/s] "
     ]
    },
    {
     "name": "stdout",
     "output_type": "stream",
     "text": [
      "Step 111000 — train_loss: 0.0988, train_mae: 0.2001\n"
     ]
    },
    {
     "name": "stderr",
     "output_type": "stream",
     "text": [
      "Epoch 1: 112017it [23:44, 96.09it/s]"
     ]
    },
    {
     "name": "stdout",
     "output_type": "stream",
     "text": [
      "Step 112000 — train_loss: 0.0987, train_mae: 0.2001\n"
     ]
    },
    {
     "name": "stderr",
     "output_type": "stream",
     "text": [
      "Epoch 1: 113017it [23:55, 94.72it/s]"
     ]
    },
    {
     "name": "stdout",
     "output_type": "stream",
     "text": [
      "Step 113000 — train_loss: 0.0987, train_mae: 0.2000\n"
     ]
    },
    {
     "name": "stderr",
     "output_type": "stream",
     "text": [
      "Epoch 1: 114013it [24:05, 98.40it/s] "
     ]
    },
    {
     "name": "stdout",
     "output_type": "stream",
     "text": [
      "Step 114000 — train_loss: 0.0987, train_mae: 0.2000\n"
     ]
    },
    {
     "name": "stderr",
     "output_type": "stream",
     "text": [
      "Epoch 1: 114999it [24:15, 99.41it/s] "
     ]
    },
    {
     "name": "stdout",
     "output_type": "stream",
     "text": [
      "Step 115000 — train_loss: 0.0986, train_mae: 0.2000\n"
     ]
    },
    {
     "name": "stderr",
     "output_type": "stream",
     "text": [
      "Epoch 1: 115010it [24:29,  2.75it/s]"
     ]
    },
    {
     "name": "stdout",
     "output_type": "stream",
     "text": [
      "Validating! Step 115000 — train_loss: 0.0986, train_mae: 0.2000, val_loss: 0.0946, val_mae: 0.1920, current_LR: 0.0003\n",
      "--------No significant MAE improvement for 10000 iterations--------\n"
     ]
    },
    {
     "name": "stderr",
     "output_type": "stream",
     "text": [
      "Epoch 1: 116014it [24:39, 91.76it/s] "
     ]
    },
    {
     "name": "stdout",
     "output_type": "stream",
     "text": [
      "Step 116000 — train_loss: 0.0985, train_mae: 0.1999\n"
     ]
    },
    {
     "name": "stderr",
     "output_type": "stream",
     "text": [
      "Epoch 1: 117015it [24:50, 93.24it/s]"
     ]
    },
    {
     "name": "stdout",
     "output_type": "stream",
     "text": [
      "Step 117000 — train_loss: 0.0984, train_mae: 0.1998\n"
     ]
    },
    {
     "name": "stderr",
     "output_type": "stream",
     "text": [
      "Epoch 1: 118020it [25:00, 99.88it/s] "
     ]
    },
    {
     "name": "stdout",
     "output_type": "stream",
     "text": [
      "Step 118000 — train_loss: 0.0984, train_mae: 0.1999\n"
     ]
    },
    {
     "name": "stderr",
     "output_type": "stream",
     "text": [
      "Epoch 1: 119019it [25:10, 99.49it/s] "
     ]
    },
    {
     "name": "stdout",
     "output_type": "stream",
     "text": [
      "Step 119000 — train_loss: 0.0984, train_mae: 0.1998\n"
     ]
    },
    {
     "name": "stderr",
     "output_type": "stream",
     "text": [
      "Epoch 1: 119991it [25:20, 99.20it/s] "
     ]
    },
    {
     "name": "stdout",
     "output_type": "stream",
     "text": [
      "Step 120000 — train_loss: 0.0984, train_mae: 0.1998\n"
     ]
    },
    {
     "name": "stderr",
     "output_type": "stream",
     "text": [
      "Epoch 1: 120011it [25:34,  3.31it/s]"
     ]
    },
    {
     "name": "stdout",
     "output_type": "stream",
     "text": [
      "Validating! Step 120000 — train_loss: 0.0984, train_mae: 0.1998, val_loss: 0.0975, val_mae: 0.1914, current_LR: 0.0003\n",
      "--------No significant MAE improvement for 15000 iterations--------\n"
     ]
    },
    {
     "name": "stderr",
     "output_type": "stream",
     "text": [
      "Epoch 1: 121019it [25:44, 117.77it/s]"
     ]
    },
    {
     "name": "stdout",
     "output_type": "stream",
     "text": [
      "Step 121000 — train_loss: 0.0984, train_mae: 0.1998\n"
     ]
    },
    {
     "name": "stderr",
     "output_type": "stream",
     "text": [
      "Epoch 1: 122019it [25:54, 94.85it/s] "
     ]
    },
    {
     "name": "stdout",
     "output_type": "stream",
     "text": [
      "Step 122000 — train_loss: 0.0984, train_mae: 0.1998\n"
     ]
    },
    {
     "name": "stderr",
     "output_type": "stream",
     "text": [
      "Epoch 1: 123014it [26:04, 100.27it/s]"
     ]
    },
    {
     "name": "stdout",
     "output_type": "stream",
     "text": [
      "Step 123000 — train_loss: 0.0984, train_mae: 0.1997\n"
     ]
    },
    {
     "name": "stderr",
     "output_type": "stream",
     "text": [
      "Epoch 1: 124010it [26:14, 93.31it/s] "
     ]
    },
    {
     "name": "stdout",
     "output_type": "stream",
     "text": [
      "Step 124000 — train_loss: 0.0984, train_mae: 0.1998\n"
     ]
    },
    {
     "name": "stderr",
     "output_type": "stream",
     "text": [
      "Epoch 1: 124990it [26:24, 99.51it/s] "
     ]
    },
    {
     "name": "stdout",
     "output_type": "stream",
     "text": [
      "Step 125000 — train_loss: 0.0983, train_mae: 0.1997\n"
     ]
    },
    {
     "name": "stderr",
     "output_type": "stream",
     "text": [
      "Epoch 1: 125010it [26:38,  3.34it/s]"
     ]
    },
    {
     "name": "stdout",
     "output_type": "stream",
     "text": [
      "Validating! Step 125000 — train_loss: 0.0983, train_mae: 0.1997, val_loss: 0.0925, val_mae: 0.1901, current_LR: 0.0003\n",
      "--------No significant MAE improvement for 20000 iterations--------\n"
     ]
    },
    {
     "name": "stderr",
     "output_type": "stream",
     "text": [
      "Epoch 1: 126012it [26:48, 100.21it/s]"
     ]
    },
    {
     "name": "stdout",
     "output_type": "stream",
     "text": [
      "Step 126000 — train_loss: 0.0983, train_mae: 0.1997\n"
     ]
    },
    {
     "name": "stderr",
     "output_type": "stream",
     "text": [
      "Epoch 1: 127010it [26:58, 101.42it/s]"
     ]
    },
    {
     "name": "stdout",
     "output_type": "stream",
     "text": [
      "Step 127000 — train_loss: 0.0983, train_mae: 0.1996\n"
     ]
    },
    {
     "name": "stderr",
     "output_type": "stream",
     "text": [
      "Epoch 1: 128024it [27:08, 121.14it/s]"
     ]
    },
    {
     "name": "stdout",
     "output_type": "stream",
     "text": [
      "Step 128000 — train_loss: 0.0983, train_mae: 0.1996\n"
     ]
    },
    {
     "name": "stderr",
     "output_type": "stream",
     "text": [
      "Epoch 1: 129019it [27:17, 100.91it/s]"
     ]
    },
    {
     "name": "stdout",
     "output_type": "stream",
     "text": [
      "Step 129000 — train_loss: 0.0982, train_mae: 0.1995\n"
     ]
    },
    {
     "name": "stderr",
     "output_type": "stream",
     "text": [
      "Epoch 1: 129994it [27:28, 86.94it/s] "
     ]
    },
    {
     "name": "stdout",
     "output_type": "stream",
     "text": [
      "Step 130000 — train_loss: 0.0982, train_mae: 0.1995\n"
     ]
    },
    {
     "name": "stderr",
     "output_type": "stream",
     "text": [
      "Epoch 1: 130010it [27:42,  3.03it/s]"
     ]
    },
    {
     "name": "stdout",
     "output_type": "stream",
     "text": [
      "Validating! Step 130000 — train_loss: 0.0982, train_mae: 0.1995, val_loss: 0.0935, val_mae: 0.1895, current_LR: 0.0003\n",
      "--------No significant MAE improvement for 25000 iterations--------\n"
     ]
    },
    {
     "name": "stderr",
     "output_type": "stream",
     "text": [
      "Epoch 1: 131011it [27:52, 99.31it/s] "
     ]
    },
    {
     "name": "stdout",
     "output_type": "stream",
     "text": [
      "Step 131000 — train_loss: 0.0982, train_mae: 0.1995\n"
     ]
    },
    {
     "name": "stderr",
     "output_type": "stream",
     "text": [
      "Epoch 1: 132017it [28:02, 99.41it/s] "
     ]
    },
    {
     "name": "stdout",
     "output_type": "stream",
     "text": [
      "Step 132000 — train_loss: 0.0981, train_mae: 0.1994\n"
     ]
    },
    {
     "name": "stderr",
     "output_type": "stream",
     "text": [
      "Epoch 1: 133013it [28:11, 108.41it/s]"
     ]
    },
    {
     "name": "stdout",
     "output_type": "stream",
     "text": [
      "Step 133000 — train_loss: 0.0981, train_mae: 0.1994\n"
     ]
    },
    {
     "name": "stderr",
     "output_type": "stream",
     "text": [
      "Epoch 1: 134013it [28:21, 96.70it/s] "
     ]
    },
    {
     "name": "stdout",
     "output_type": "stream",
     "text": [
      "Step 134000 — train_loss: 0.0981, train_mae: 0.1995\n"
     ]
    },
    {
     "name": "stderr",
     "output_type": "stream",
     "text": [
      "Epoch 1: 134990it [28:31, 95.05it/s] "
     ]
    },
    {
     "name": "stdout",
     "output_type": "stream",
     "text": [
      "Step 135000 — train_loss: 0.0981, train_mae: 0.1994\n"
     ]
    },
    {
     "name": "stderr",
     "output_type": "stream",
     "text": [
      "Epoch 1: 135010it [28:46,  3.35it/s]"
     ]
    },
    {
     "name": "stdout",
     "output_type": "stream",
     "text": [
      "Validating! Step 135000 — train_loss: 0.0981, train_mae: 0.1994, val_loss: 0.0944, val_mae: 0.1913, current_LR: 0.0003\n",
      "--------No significant MAE improvement for 30000 iterations--------\n"
     ]
    },
    {
     "name": "stderr",
     "output_type": "stream",
     "text": [
      "Epoch 1: 136014it [28:55, 107.25it/s]"
     ]
    },
    {
     "name": "stdout",
     "output_type": "stream",
     "text": [
      "Step 136000 — train_loss: 0.0982, train_mae: 0.1995\n"
     ]
    },
    {
     "name": "stderr",
     "output_type": "stream",
     "text": [
      "Epoch 1: 137014it [29:05, 97.50it/s] "
     ]
    },
    {
     "name": "stdout",
     "output_type": "stream",
     "text": [
      "Step 137000 — train_loss: 0.0982, train_mae: 0.1995\n"
     ]
    },
    {
     "name": "stderr",
     "output_type": "stream",
     "text": [
      "Epoch 1: 138010it [29:15, 95.39it/s] "
     ]
    },
    {
     "name": "stdout",
     "output_type": "stream",
     "text": [
      "Step 138000 — train_loss: 0.0982, train_mae: 0.1995\n"
     ]
    },
    {
     "name": "stderr",
     "output_type": "stream",
     "text": [
      "Epoch 1: 139020it [29:25, 100.14it/s]"
     ]
    },
    {
     "name": "stdout",
     "output_type": "stream",
     "text": [
      "Step 139000 — train_loss: 0.0981, train_mae: 0.1994\n"
     ]
    },
    {
     "name": "stderr",
     "output_type": "stream",
     "text": [
      "Epoch 1: 139995it [29:34, 98.76it/s] "
     ]
    },
    {
     "name": "stdout",
     "output_type": "stream",
     "text": [
      "Step 140000 — train_loss: 0.0981, train_mae: 0.1994\n"
     ]
    },
    {
     "name": "stderr",
     "output_type": "stream",
     "text": [
      "Epoch 1: 140010it [29:48,  2.98it/s]"
     ]
    },
    {
     "name": "stdout",
     "output_type": "stream",
     "text": [
      "Validating! Step 140000 — train_loss: 0.0981, train_mae: 0.1994, val_loss: 0.0937, val_mae: 0.1918, current_LR: 0.0003\n",
      "--------No significant MAE improvement for 35000 iterations--------\n"
     ]
    },
    {
     "name": "stderr",
     "output_type": "stream",
     "text": [
      "Epoch 1: 141015it [29:58, 93.56it/s] "
     ]
    },
    {
     "name": "stdout",
     "output_type": "stream",
     "text": [
      "Step 141000 — train_loss: 0.0981, train_mae: 0.1994\n"
     ]
    },
    {
     "name": "stderr",
     "output_type": "stream",
     "text": [
      "Epoch 1: 142015it [30:08, 116.82it/s]"
     ]
    },
    {
     "name": "stdout",
     "output_type": "stream",
     "text": [
      "Step 142000 — train_loss: 0.0980, train_mae: 0.1993\n"
     ]
    },
    {
     "name": "stderr",
     "output_type": "stream",
     "text": [
      "Epoch 1: 143011it [30:17, 99.81it/s] "
     ]
    },
    {
     "name": "stdout",
     "output_type": "stream",
     "text": [
      "Step 143000 — train_loss: 0.0979, train_mae: 0.1993\n"
     ]
    },
    {
     "name": "stderr",
     "output_type": "stream",
     "text": [
      "Epoch 1: 144013it [30:27, 114.35it/s]"
     ]
    },
    {
     "name": "stdout",
     "output_type": "stream",
     "text": [
      "Step 144000 — train_loss: 0.0979, train_mae: 0.1992\n"
     ]
    },
    {
     "name": "stderr",
     "output_type": "stream",
     "text": [
      "Epoch 1: 144990it [30:36, 110.25it/s]"
     ]
    },
    {
     "name": "stdout",
     "output_type": "stream",
     "text": [
      "Step 145000 — train_loss: 0.0979, train_mae: 0.1992\n"
     ]
    },
    {
     "name": "stderr",
     "output_type": "stream",
     "text": [
      "Epoch 1: 144999it [30:50, 78.34it/s] "
     ]
    },
    {
     "name": "stdout",
     "output_type": "stream",
     "text": [
      "Validating! Step 145000 — train_loss: 0.0979, train_mae: 0.1992, val_loss: 0.0903, val_mae: 0.1890, current_LR: 0.0003\n",
      "Saved new best model after 145000 iters\n",
      "--------No significant MAE improvement for 40000 iterations--------\n",
      "Early stopping at 145000 iterations (no significant MAE improvement)\n",
      "Done training\n"
     ]
    },
    {
     "name": "stderr",
     "output_type": "stream",
     "text": [
      "\n"
     ]
    }
   ],
   "source": [
    "best_val_loss = float('inf')\n",
    "best_val_mae = float('inf')\n",
    "num_iterations = 0\n",
    "patience_counter = 0    # Count iterations without sufficient improvement\n",
    "PATIENCE = 40000        # How many iterations to wait, noting that total_iters is around 117k for 3 epochs and batch size of 256\n",
    "MIN_IMPROVEMENT = 5e-4  # Minimum improvement required for early stopping to not trigger\n",
    "VAL_ITERS = 5000\n",
    "LOG_ITERS = 1000\n",
    "\n",
    "early_stop = False\n",
    "\n",
    "for epoch in range(1, NUM_EPOCHS + 1):\n",
    "    if early_stop:\n",
    "        break\n",
    "\n",
    "    model.train()\n",
    "    total_loss = 0.0\n",
    "    total_mae = 0.0\n",
    "\n",
    "    for inputs, labels in tqdm(train_loader, desc=f\"Epoch {epoch}\"):\n",
    "        inputs, labels = inputs.to(DEVICE), labels.to(DEVICE)\n",
    "        optimizer.zero_grad()\n",
    "        preds = model(inputs)\n",
    "        loss = criterion(preds, labels)\n",
    "        loss.backward()\n",
    "        optimizer.step()\n",
    "        scheduler.step()   \n",
    "\n",
    "        batch_loss = loss.item()\n",
    "        batch_mae = torch.mean(torch.abs(preds - labels)).item()\n",
    "\n",
    "        total_loss += batch_loss * inputs.size(0)\n",
    "        total_mae += batch_mae * inputs.size(0)\n",
    "        num_iterations += 1\n",
    "\n",
    "        # Every 1000 steps, log training loss and MAE\n",
    "        if num_iterations % LOG_ITERS == 0:\n",
    "            avg_train_loss = total_loss / (num_iterations * train_loader.batch_size)\n",
    "            avg_train_mae = total_mae / (num_iterations * train_loader.batch_size)\n",
    "            print(f\"Step {num_iterations} — train_loss: {avg_train_loss:.4f}, train_mae: {avg_train_mae:.4f}\")\n",
    "\n",
    "        # Every 5000 steps, run validation and record performance\n",
    "        if num_iterations % VAL_ITERS == 0:\n",
    "            model.eval()\n",
    "            val_loss_sum = 0.0\n",
    "            val_mae_sum = 0.0\n",
    "            total_samples = 0\n",
    "            with torch.no_grad():\n",
    "                for val_inputs, val_labels in val_loader:\n",
    "                    val_inputs, val_labels = val_inputs.to(DEVICE), val_labels.to(DEVICE)\n",
    "                    val_pred = model(val_inputs)\n",
    "                    val_loss = criterion(val_pred, val_labels)\n",
    "                    val_mae = torch.mean(torch.abs(val_pred - val_labels))\n",
    "\n",
    "                    val_loss_sum += val_loss.item() * val_inputs.size(0)\n",
    "                    val_mae_sum += val_mae.item() * val_inputs.size(0)\n",
    "                    total_samples += val_inputs.size(0)\n",
    "\n",
    "            avg_val_loss = val_loss_sum / total_samples\n",
    "            avg_val_mae = val_mae_sum / total_samples\n",
    "\n",
    "            print(f\"Validating! Step {num_iterations} — train_loss: {avg_train_loss:.4f}, train_mae: {avg_train_mae:.4f}, val_loss: {avg_val_loss:.4f}, val_mae: {avg_val_mae:.4f}, current_LR: {scheduler.get_last_lr()[0]:.4f}\")\n",
    "\n",
    "            steps.append(num_iterations)\n",
    "            train_losses.append(avg_train_loss)\n",
    "            train_maes.append(avg_train_mae)\n",
    "            val_losses.append(avg_val_loss)\n",
    "            val_maes.append(avg_val_mae)\n",
    "\n",
    "            # Checkpoint best\n",
    "            if avg_val_loss < best_val_loss:\n",
    "                best_val_loss = avg_val_loss\n",
    "                torch.save(model.state_dict(), \"best_chess_transformer.pth\")\n",
    "                print(f\"Saved new best model after {num_iterations} iters\")\n",
    "            \n",
    "            # Check if validation MAE improved by 0.0005 at least\n",
    "            if avg_val_mae + MIN_IMPROVEMENT < best_val_mae:\n",
    "                best_val_mae = avg_val_mae\n",
    "                patience_counter = 0  # Reset patience\n",
    "                print(f\"--------Validation MAE improved to {best_val_mae:.6f}--------\")\n",
    "            else:\n",
    "                patience_counter += VAL_ITERS  # because we validate after every VAL_ITERS \n",
    "                print(f\"--------No significant MAE improvement for {patience_counter} iterations--------\")\n",
    "\n",
    "            # Early stopping\n",
    "            if patience_counter >= PATIENCE:\n",
    "                print(f\"Early stopping at {num_iterations} iterations (no significant MAE improvement)\")\n",
    "                early_stop = True\n",
    "                break\n",
    "\n",
    "            model.train() \n",
    "\n",
    "print(\"Done training\")"
   ]
  },
  {
   "cell_type": "code",
   "execution_count": 22,
   "id": "0cdcdce9",
   "metadata": {},
   "outputs": [
    {
     "name": "stdout",
     "output_type": "stream",
     "text": [
      "Test results: test_loss: 0.0886, test_mae: 0.1902\n"
     ]
    }
   ],
   "source": [
    "model.eval()\n",
    "test_loss_sum = 0.0\n",
    "test_mae_sum = 0.0\n",
    "total_samples = 0\n",
    "with torch.no_grad():\n",
    "    for test_inputs, test_labels in test_loader:\n",
    "        test_inputs, test_labels = test_inputs.to(DEVICE), test_labels.to(DEVICE)\n",
    "        test_pred = model(test_inputs)\n",
    "        test_loss = criterion(test_pred, test_labels)\n",
    "        test_mae = torch.mean(torch.abs(test_pred - test_labels))\n",
    "\n",
    "        test_loss_sum += test_loss.item() * test_inputs.size(0)\n",
    "        test_mae_sum += test_mae.item() * test_inputs.size(0)\n",
    "\n",
    "        total_samples += test_inputs.size(0)\n",
    "\n",
    "avg_test_loss = test_loss_sum / total_samples\n",
    "avg_test_mae = test_mae_sum / total_samples\n",
    "\n",
    "print(f\"Test results: test_loss: {avg_test_loss:.4f}, test_mae: {avg_test_mae:.4f}\")\n"
   ]
  },
  {
   "cell_type": "code",
   "execution_count": 25,
   "id": "7b1e7303-6e1b-4624-b369-dcdb295fcc7a",
   "metadata": {},
   "outputs": [
    {
     "data": {
      "image/png": "[encoded data removed]",
      "text/plain": [
       "<Figure size 1200x600 with 1 Axes>"
      ]
     },
     "metadata": {},
     "output_type": "display_data"
    },
    {
     "data": {
      "image/png": "[encoded data removed]",
      "text/plain": [
       "<Figure size 1200x600 with 1 Axes>"
      ]
     },
     "metadata": {},
     "output_type": "display_data"
    }
   ],
   "source": [
    "import matplotlib.pyplot as plt\n",
    "\n",
    "# --- Plotting Loss Curves ---\n",
    "plt.figure(figsize=(12, 6)) # Set the figure size\n",
    "# Use steps for the x-axis if you have them, otherwise use range(len(val_losses))\n",
    "plt.plot(steps, train_losses, label='Train Loss at Validation Step')\n",
    "plt.plot(steps, val_losses, label='Validation Loss')\n",
    "plt.xlabel('Training Steps')\n",
    "plt.ylabel('Loss')\n",
    "plt.title('Training and Validation Loss Curves vs. Steps')\n",
    "plt.legend()\n",
    "plt.grid(True) # Add a grid for better readability\n",
    "plt.tight_layout() # Adjust layout\n",
    "\n",
    "# --- Plotting MAE Curves ---\n",
    "plt.figure(figsize=(12, 6)) # Set the figure size\n",
    "# Use steps for the x-axis if you have them, otherwise use range(len(val_maes))\n",
    "plt.plot(steps, train_maes, label='Train MAE at Validation Step')\n",
    "plt.plot(steps, val_maes, label='Validation MAE')\n",
    "plt.xlabel('Training Steps')\n",
    "plt.ylabel('MAE')\n",
    "plt.title('Training and Validation MAE Curves vs. Steps')\n",
    "plt.legend()\n",
    "plt.grid(True) # Add a grid for better readability\n",
    "plt.tight_layout() # Adjust layout"
   ]
  },
  {
   "cell_type": "code",
   "execution_count": 37,
   "id": "54e1ad8d-e61c-49b4-b4c3-4bd37fbdfea4",
   "metadata": {},
   "outputs": [],
   "source": [
    "def collate_fn(batch):\n",
    "    batch_fens = [example['fen'] for example in batch]\n",
    "    labels = torch.tensor(\n",
    "        [example['target'] for example in batch],\n",
    "        dtype=torch.float32\n",
    "    )\n",
    "\n",
    "    winning_labels = []\n",
    "    inputs = []\n",
    "\n",
    "    for example in batch:\n",
    "        fen = example['fen']\n",
    "        target = example['target']\n",
    "        \n",
    "        # Parse side to move\n",
    "        stm = fen.split()[1]  # 'w' or 'b'\n",
    "\n",
    "        # Compute winning label\n",
    "        if (stm == 'w' and target > 0) or (stm == 'b' and target < 0):\n",
    "            winning = 1\n",
    "        else:\n",
    "            winning = 0\n",
    "\n",
    "        winning_labels.append(winning)\n",
    "\n",
    "        # Process input\n",
    "        inputs.append(torch.tensor(fen_to_token_ids(fen), dtype=torch.long))  # NOTE: long (int64) for token ids\n",
    "\n",
    "    inputs = torch.stack(inputs)  # Shape: (batch_size, 66)\n",
    "    winning_labels = torch.tensor(winning_labels, dtype=torch.float32)  # float32 for BCEWithLogitsLoss\n",
    "\n",
    "    return inputs, labels, winning_labels\n",
    "\n",
    "train_loader = DataLoader(train_dataset, batch_size=256, collate_fn=collate_fn)\n",
    "val_loader = DataLoader(val_dataset, batch_size=256, collate_fn=collate_fn)\n",
    "test_loader = DataLoader(test_dataset, batch_size=256, collate_fn=collate_fn)"
   ]
  },
  {
   "cell_type": "code",
   "execution_count": 38,
   "id": "cc65deba-68ae-417e-a592-7b8743c6e096",
   "metadata": {},
   "outputs": [],
   "source": [
    "class ChessEvalMultiTaskTransformer(nn.Module):\n",
    "    def __init__(self, vocab_size=31, d_model=64, n_heads=4, n_layers=3):\n",
    "        super().__init__()\n",
    "        seq_len = 64 + 1 + 1  # 64 squares + 1 side-to-move + 1 castling info\n",
    "        self.embed = nn.Embedding(vocab_size, d_model)\n",
    "        self.pos_embed = nn.Embedding(seq_len, d_model)\n",
    "        \n",
    "        encoder_layer = nn.TransformerEncoderLayer(\n",
    "            d_model, n_heads, dim_feedforward=d_model*4, dropout=0.3\n",
    "        )\n",
    "        self.transformer = nn.TransformerEncoder(encoder_layer, n_layers)\n",
    "        self.norm = nn.LayerNorm(d_model)\n",
    "\n",
    "        # Two heads\n",
    "        self.reg_head = nn.Sequential(\n",
    "            nn.Linear(d_model, d_model // 2),\n",
    "            nn.ReLU(),\n",
    "            nn.Dropout(0.3),\n",
    "            nn.Linear(d_model // 2, 1)\n",
    "        )\n",
    "        self.win_head = nn.Sequential(\n",
    "            nn.Linear(d_model, d_model // 2),\n",
    "            nn.ReLU(),\n",
    "            nn.Dropout(0.3),\n",
    "            nn.Linear(d_model // 2, 1)\n",
    "        )\n",
    "\n",
    "    def forward(self, x):\n",
    "        # x: (B, 66)\n",
    "        B, L = x.size()\n",
    "\n",
    "        tok_emb = self.embed(x)                    # (B, 66, d_model)\n",
    "        pos = torch.arange(L, device=x.device)\n",
    "        pos_emb = self.pos_embed(pos).unsqueeze(0) # (1, 66, d_model)\n",
    "\n",
    "        h = tok_emb + pos_emb                      # (B, 66, d_model)\n",
    "        h = self.transformer(h.permute(1, 0, 2))    # (66, B, d_model)\n",
    "        h = h.mean(dim=0)                           # (B, d_model)\n",
    "        h = self.norm(h)\n",
    "\n",
    "        eval_pred = torch.tanh(self.reg_head(h)).squeeze(-1)  # (B,)\n",
    "        win_pred = self.win_head(h).squeeze(-1)               # (B,) — raw logits (no activation)\n",
    "\n",
    "        return eval_pred, win_pred"
   ]
  },
  {
   "cell_type": "code",
   "execution_count": 42,
   "id": "236c88fe-c8dd-47eb-afda-6a48e794d06f",
   "metadata": {},
   "outputs": [
    {
     "name": "stdout",
     "output_type": "stream",
     "text": [
      "torch.Size([32]) torch.Size([32])\n"
     ]
    }
   ],
   "source": [
    "input_tensor = torch.randint(0, 31, (32, 66), dtype=torch.long)\n",
    "\n",
    "model = ChessEvalMultiTaskTransformer()\n",
    "output = model(input_tensor)\n",
    "\n",
    "print(output[0].shape, output[1].shape)"
   ]
  },
  {
   "cell_type": "code",
   "execution_count": 45,
   "id": "54481793-a49f-488b-8f3e-7adb79fbe7ce",
   "metadata": {},
   "outputs": [
    {
     "name": "stdout",
     "output_type": "stream",
     "text": [
      "229688\n"
     ]
    }
   ],
   "source": [
    "NUM_EPOCHS = 1\n",
    "total_iters = NUM_EPOCHS * ((num_training_examples // 256) + 1)\n",
    "print(total_iters)\n",
    "\n",
    "model = ChessEvalMultiTaskTransformer(d_model = 128, n_heads = 4, n_layers = 4).to(DEVICE)\n",
    "optimizer = torch.optim.AdamW(model.parameters(), lr=3e-4, weight_decay=2e-2)\n",
    "scheduler = CosineAnnealingLR(optimizer, T_max=total_iters, eta_min=5e-5)\n",
    "eval_criterion = nn.MSELoss()\n",
    "win_criterion = nn.BCEWithLogitsLoss()"
   ]
  },
  {
   "cell_type": "code",
   "execution_count": 46,
   "id": "ae882400-270a-425a-9599-37a16d04e47f",
   "metadata": {},
   "outputs": [
    {
     "name": "stderr",
     "output_type": "stream",
     "text": [
      "Epoch 1: 1011it [00:14, 67.70it/s]"
     ]
    },
    {
     "name": "stdout",
     "output_type": "stream",
     "text": [
      "Step 1000 — train_loss: 0.6652, train_mae: 0.2070, train_win_acc: 0.7011\n"
     ]
    },
    {
     "name": "stderr",
     "output_type": "stream",
     "text": [
      "Epoch 1: 2013it [00:29, 67.55it/s]"
     ]
    },
    {
     "name": "stdout",
     "output_type": "stream",
     "text": [
      "Step 2000 — train_loss: 0.6397, train_mae: 0.2032, train_win_acc: 0.7207\n"
     ]
    },
    {
     "name": "stderr",
     "output_type": "stream",
     "text": [
      "Epoch 1: 3008it [00:44, 62.76it/s]"
     ]
    },
    {
     "name": "stdout",
     "output_type": "stream",
     "text": [
      "Step 3000 — train_loss: 0.6333, train_mae: 0.2013, train_win_acc: 0.7255\n"
     ]
    },
    {
     "name": "stderr",
     "output_type": "stream",
     "text": [
      "Epoch 1: 4011it [01:00, 70.75it/s]"
     ]
    },
    {
     "name": "stdout",
     "output_type": "stream",
     "text": [
      "Step 4000 — train_loss: 0.6266, train_mae: 0.1995, train_win_acc: 0.7291\n"
     ]
    },
    {
     "name": "stderr",
     "output_type": "stream",
     "text": [
      "Epoch 1: 4998it [01:15, 67.31it/s]"
     ]
    },
    {
     "name": "stdout",
     "output_type": "stream",
     "text": [
      "Step 5000 — train_loss: 0.6212, train_mae: 0.1969, train_win_acc: 0.7312\n"
     ]
    },
    {
     "name": "stderr",
     "output_type": "stream",
     "text": [
      "Epoch 1: 5007it [01:32,  1.64it/s]"
     ]
    },
    {
     "name": "stdout",
     "output_type": "stream",
     "text": [
      "\n",
      "[Validation] Step 5000 — train_loss: 0.6212, train_mae: 0.1969, train_win_acc: 0.7312, val_loss: 0.1170, val_mae: 0.2270, val_win_acc: 0.6985, LR: 0.000300\n",
      "Saved new best model after 5000 iters\n",
      "--------Validation MAE improved to 0.226951--------\n"
     ]
    },
    {
     "name": "stderr",
     "output_type": "stream",
     "text": [
      "Epoch 1: 6009it [01:47, 62.24it/s]"
     ]
    },
    {
     "name": "stdout",
     "output_type": "stream",
     "text": [
      "Step 6000 — train_loss: 0.6185, train_mae: 0.1976, train_win_acc: 0.7336\n"
     ]
    },
    {
     "name": "stderr",
     "output_type": "stream",
     "text": [
      "Epoch 1: 7013it [02:02, 67.74it/s]"
     ]
    },
    {
     "name": "stdout",
     "output_type": "stream",
     "text": [
      "Step 7000 — train_loss: 0.6131, train_mae: 0.1939, train_win_acc: 0.7358\n"
     ]
    },
    {
     "name": "stderr",
     "output_type": "stream",
     "text": [
      "Epoch 1: 8007it [02:16, 67.05it/s]"
     ]
    },
    {
     "name": "stdout",
     "output_type": "stream",
     "text": [
      "Step 8000 — train_loss: 0.6116, train_mae: 0.1959, train_win_acc: 0.7371\n"
     ]
    },
    {
     "name": "stderr",
     "output_type": "stream",
     "text": [
      "Epoch 1: 9008it [02:31, 67.18it/s]"
     ]
    },
    {
     "name": "stdout",
     "output_type": "stream",
     "text": [
      "Step 9000 — train_loss: 0.6112, train_mae: 0.1970, train_win_acc: 0.7376\n"
     ]
    },
    {
     "name": "stderr",
     "output_type": "stream",
     "text": [
      "Epoch 1: 9993it [02:45, 78.66it/s]"
     ]
    },
    {
     "name": "stdout",
     "output_type": "stream",
     "text": [
      "Step 10000 — train_loss: 0.6089, train_mae: 0.1973, train_win_acc: 0.7391\n"
     ]
    },
    {
     "name": "stderr",
     "output_type": "stream",
     "text": [
      "Epoch 1: 10007it [03:02,  2.02it/s]"
     ]
    },
    {
     "name": "stdout",
     "output_type": "stream",
     "text": [
      "\n",
      "[Validation] Step 10000 — train_loss: 0.6089, train_mae: 0.1973, train_win_acc: 0.7391, val_loss: 0.0983, val_mae: 0.2012, val_win_acc: 0.7286, LR: 0.000299\n",
      "Saved new best model after 10000 iters\n",
      "--------Validation MAE improved to 0.201196--------\n"
     ]
    },
    {
     "name": "stderr",
     "output_type": "stream",
     "text": [
      "Epoch 1: 11009it [03:18, 62.01it/s]"
     ]
    },
    {
     "name": "stdout",
     "output_type": "stream",
     "text": [
      "Step 11000 — train_loss: 0.6084, train_mae: 0.1971, train_win_acc: 0.7393\n"
     ]
    },
    {
     "name": "stderr",
     "output_type": "stream",
     "text": [
      "Epoch 1: 12015it [03:32, 78.77it/s]"
     ]
    },
    {
     "name": "stdout",
     "output_type": "stream",
     "text": [
      "Step 12000 — train_loss: 0.6072, train_mae: 0.1974, train_win_acc: 0.7400\n"
     ]
    },
    {
     "name": "stderr",
     "output_type": "stream",
     "text": [
      "Epoch 1: 13008it [03:47, 67.31it/s]"
     ]
    },
    {
     "name": "stdout",
     "output_type": "stream",
     "text": [
      "Step 13000 — train_loss: 0.6058, train_mae: 0.1971, train_win_acc: 0.7406\n"
     ]
    },
    {
     "name": "stderr",
     "output_type": "stream",
     "text": [
      "Epoch 1: 14009it [04:02, 66.81it/s]"
     ]
    },
    {
     "name": "stdout",
     "output_type": "stream",
     "text": [
      "Step 14000 — train_loss: 0.6040, train_mae: 0.1970, train_win_acc: 0.7417\n"
     ]
    },
    {
     "name": "stderr",
     "output_type": "stream",
     "text": [
      "Epoch 1: 14996it [04:17, 66.57it/s]"
     ]
    },
    {
     "name": "stdout",
     "output_type": "stream",
     "text": [
      "Step 15000 — train_loss: 0.6027, train_mae: 0.1969, train_win_acc: 0.7424\n"
     ]
    },
    {
     "name": "stderr",
     "output_type": "stream",
     "text": [
      "Epoch 1: 15007it [04:34,  1.79it/s]"
     ]
    },
    {
     "name": "stdout",
     "output_type": "stream",
     "text": [
      "\n",
      "[Validation] Step 15000 — train_loss: 0.6027, train_mae: 0.1969, train_win_acc: 0.7424, val_loss: 0.1001, val_mae: 0.2036, val_win_acc: 0.7266, LR: 0.000297\n",
      "--------No significant MAE improvement for 5000 iterations--------\n"
     ]
    },
    {
     "name": "stderr",
     "output_type": "stream",
     "text": [
      "Epoch 1: 16007it [04:49, 66.96it/s]"
     ]
    },
    {
     "name": "stdout",
     "output_type": "stream",
     "text": [
      "Step 16000 — train_loss: 0.6015, train_mae: 0.1962, train_win_acc: 0.7429\n"
     ]
    },
    {
     "name": "stderr",
     "output_type": "stream",
     "text": [
      "Epoch 1: 17015it [05:03, 78.51it/s]"
     ]
    },
    {
     "name": "stdout",
     "output_type": "stream",
     "text": [
      "Step 17000 — train_loss: 0.6001, train_mae: 0.1959, train_win_acc: 0.7437\n"
     ]
    },
    {
     "name": "stderr",
     "output_type": "stream",
     "text": [
      "Epoch 1: 18011it [05:16, 64.69it/s]"
     ]
    },
    {
     "name": "stdout",
     "output_type": "stream",
     "text": [
      "Step 18000 — train_loss: 0.5987, train_mae: 0.1955, train_win_acc: 0.7444\n"
     ]
    },
    {
     "name": "stderr",
     "output_type": "stream",
     "text": [
      "Epoch 1: 19009it [05:31, 74.84it/s]"
     ]
    },
    {
     "name": "stdout",
     "output_type": "stream",
     "text": [
      "Step 19000 — train_loss: 0.5974, train_mae: 0.1952, train_win_acc: 0.7451\n"
     ]
    },
    {
     "name": "stderr",
     "output_type": "stream",
     "text": [
      "Epoch 1: 19993it [05:45, 66.72it/s]"
     ]
    },
    {
     "name": "stdout",
     "output_type": "stream",
     "text": [
      "Step 20000 — train_loss: 0.5957, train_mae: 0.1950, train_win_acc: 0.7461\n"
     ]
    },
    {
     "name": "stderr",
     "output_type": "stream",
     "text": [
      "Epoch 1: 20007it [06:02,  1.92it/s]"
     ]
    },
    {
     "name": "stdout",
     "output_type": "stream",
     "text": [
      "\n",
      "[Validation] Step 20000 — train_loss: 0.5957, train_mae: 0.1950, train_win_acc: 0.7461, val_loss: 0.0994, val_mae: 0.1989, val_win_acc: 0.7338, LR: 0.000295\n",
      "--------Validation MAE improved to 0.198884--------\n"
     ]
    },
    {
     "name": "stderr",
     "output_type": "stream",
     "text": [
      "Epoch 1: 21010it [06:18, 63.52it/s]"
     ]
    },
    {
     "name": "stdout",
     "output_type": "stream",
     "text": [
      "Step 21000 — train_loss: 0.5943, train_mae: 0.1947, train_win_acc: 0.7468\n"
     ]
    },
    {
     "name": "stderr",
     "output_type": "stream",
     "text": [
      "Epoch 1: 22009it [06:32, 68.96it/s]"
     ]
    },
    {
     "name": "stdout",
     "output_type": "stream",
     "text": [
      "Step 22000 — train_loss: 0.5932, train_mae: 0.1944, train_win_acc: 0.7474\n"
     ]
    },
    {
     "name": "stderr",
     "output_type": "stream",
     "text": [
      "Epoch 1: 23014it [06:45, 78.51it/s]"
     ]
    },
    {
     "name": "stdout",
     "output_type": "stream",
     "text": [
      "Step 23000 — train_loss: 0.5925, train_mae: 0.1944, train_win_acc: 0.7479\n"
     ]
    },
    {
     "name": "stderr",
     "output_type": "stream",
     "text": [
      "Epoch 1: 24014it [06:58, 78.45it/s]"
     ]
    },
    {
     "name": "stdout",
     "output_type": "stream",
     "text": [
      "Step 24000 — train_loss: 0.5916, train_mae: 0.1942, train_win_acc: 0.7483\n"
     ]
    },
    {
     "name": "stderr",
     "output_type": "stream",
     "text": [
      "Epoch 1: 24992it [07:11, 79.00it/s]"
     ]
    },
    {
     "name": "stdout",
     "output_type": "stream",
     "text": [
      "Step 25000 — train_loss: 0.5909, train_mae: 0.1938, train_win_acc: 0.7487\n"
     ]
    },
    {
     "name": "stderr",
     "output_type": "stream",
     "text": [
      "Epoch 1: 25007it [07:28,  2.12it/s]"
     ]
    },
    {
     "name": "stdout",
     "output_type": "stream",
     "text": [
      "\n",
      "[Validation] Step 25000 — train_loss: 0.5909, train_mae: 0.1938, train_win_acc: 0.7487, val_loss: 0.0952, val_mae: 0.1912, val_win_acc: 0.7419, LR: 0.000293\n",
      "Saved new best model after 25000 iters\n",
      "--------Validation MAE improved to 0.191197--------\n"
     ]
    },
    {
     "name": "stderr",
     "output_type": "stream",
     "text": [
      "Epoch 1: 26011it [07:43, 64.00it/s]"
     ]
    },
    {
     "name": "stdout",
     "output_type": "stream",
     "text": [
      "Step 26000 — train_loss: 0.5902, train_mae: 0.1935, train_win_acc: 0.7490\n"
     ]
    },
    {
     "name": "stderr",
     "output_type": "stream",
     "text": [
      "Epoch 1: 27013it [07:58, 67.61it/s]"
     ]
    },
    {
     "name": "stdout",
     "output_type": "stream",
     "text": [
      "Step 27000 — train_loss: 0.5888, train_mae: 0.1931, train_win_acc: 0.7498\n"
     ]
    },
    {
     "name": "stderr",
     "output_type": "stream",
     "text": [
      "Epoch 1: 28007it [08:13, 67.29it/s]"
     ]
    },
    {
     "name": "stdout",
     "output_type": "stream",
     "text": [
      "Step 28000 — train_loss: 0.5873, train_mae: 0.1928, train_win_acc: 0.7507\n"
     ]
    },
    {
     "name": "stderr",
     "output_type": "stream",
     "text": [
      "Epoch 1: 29013it [08:27, 73.26it/s]"
     ]
    },
    {
     "name": "stdout",
     "output_type": "stream",
     "text": [
      "Step 29000 — train_loss: 0.5861, train_mae: 0.1925, train_win_acc: 0.7514\n"
     ]
    },
    {
     "name": "stderr",
     "output_type": "stream",
     "text": [
      "Epoch 1: 29997it [08:41, 68.60it/s]"
     ]
    },
    {
     "name": "stdout",
     "output_type": "stream",
     "text": [
      "Step 30000 — train_loss: 0.5827, train_mae: 0.1928, train_win_acc: 0.7541\n"
     ]
    },
    {
     "name": "stderr",
     "output_type": "stream",
     "text": [
      "Epoch 1: 30007it [08:58,  1.70it/s]"
     ]
    },
    {
     "name": "stdout",
     "output_type": "stream",
     "text": [
      "\n",
      "[Validation] Step 30000 — train_loss: 0.5827, train_mae: 0.1928, train_win_acc: 0.7541, val_loss: 0.1077, val_mae: 0.2080, val_win_acc: 0.7258, LR: 0.000290\n",
      "--------No significant MAE improvement for 5000 iterations--------\n"
     ]
    },
    {
     "name": "stderr",
     "output_type": "stream",
     "text": [
      "Epoch 1: 31006it [09:12, 66.31it/s]"
     ]
    },
    {
     "name": "stdout",
     "output_type": "stream",
     "text": [
      "Step 31000 — train_loss: 0.5816, train_mae: 0.1927, train_win_acc: 0.7549\n"
     ]
    },
    {
     "name": "stderr",
     "output_type": "stream",
     "text": [
      "Epoch 1: 32008it [09:27, 69.52it/s]"
     ]
    },
    {
     "name": "stdout",
     "output_type": "stream",
     "text": [
      "Step 32000 — train_loss: 0.5809, train_mae: 0.1927, train_win_acc: 0.7554\n"
     ]
    },
    {
     "name": "stderr",
     "output_type": "stream",
     "text": [
      "Epoch 1: 33012it [09:42, 62.32it/s]"
     ]
    },
    {
     "name": "stdout",
     "output_type": "stream",
     "text": [
      "Step 33000 — train_loss: 0.5804, train_mae: 0.1925, train_win_acc: 0.7557\n"
     ]
    },
    {
     "name": "stderr",
     "output_type": "stream",
     "text": [
      "Epoch 1: 34009it [09:58, 62.63it/s]"
     ]
    },
    {
     "name": "stdout",
     "output_type": "stream",
     "text": [
      "Step 34000 — train_loss: 0.5797, train_mae: 0.1922, train_win_acc: 0.7561\n"
     ]
    },
    {
     "name": "stderr",
     "output_type": "stream",
     "text": [
      "Epoch 1: 34996it [10:14, 62.72it/s]"
     ]
    },
    {
     "name": "stdout",
     "output_type": "stream",
     "text": [
      "Step 35000 — train_loss: 0.5792, train_mae: 0.1922, train_win_acc: 0.7565\n"
     ]
    },
    {
     "name": "stderr",
     "output_type": "stream",
     "text": [
      "Epoch 1: 35007it [10:31,  1.74it/s]"
     ]
    },
    {
     "name": "stdout",
     "output_type": "stream",
     "text": [
      "\n",
      "[Validation] Step 35000 — train_loss: 0.5792, train_mae: 0.1922, train_win_acc: 0.7565, val_loss: 0.0938, val_mae: 0.1896, val_win_acc: 0.7487, LR: 0.000286\n",
      "Saved new best model after 35000 iters\n",
      "--------Validation MAE improved to 0.189600--------\n"
     ]
    },
    {
     "name": "stderr",
     "output_type": "stream",
     "text": [
      "Epoch 1: 36008it [10:46, 66.68it/s]"
     ]
    },
    {
     "name": "stdout",
     "output_type": "stream",
     "text": [
      "Step 36000 — train_loss: 0.5784, train_mae: 0.1919, train_win_acc: 0.7569\n"
     ]
    },
    {
     "name": "stderr",
     "output_type": "stream",
     "text": [
      "Epoch 1: 37012it [11:00, 68.64it/s]"
     ]
    },
    {
     "name": "stdout",
     "output_type": "stream",
     "text": [
      "Step 37000 — train_loss: 0.5778, train_mae: 0.1916, train_win_acc: 0.7572\n"
     ]
    },
    {
     "name": "stderr",
     "output_type": "stream",
     "text": [
      "Epoch 1: 38006it [11:15, 62.17it/s]"
     ]
    },
    {
     "name": "stdout",
     "output_type": "stream",
     "text": [
      "Step 38000 — train_loss: 0.5765, train_mae: 0.1915, train_win_acc: 0.7579\n"
     ]
    },
    {
     "name": "stderr",
     "output_type": "stream",
     "text": [
      "Epoch 1: 39010it [11:31, 62.64it/s]"
     ]
    },
    {
     "name": "stdout",
     "output_type": "stream",
     "text": [
      "Step 39000 — train_loss: 0.5757, train_mae: 0.1912, train_win_acc: 0.7583\n"
     ]
    },
    {
     "name": "stderr",
     "output_type": "stream",
     "text": [
      "Epoch 1: 39997it [11:47, 62.38it/s]"
     ]
    },
    {
     "name": "stdout",
     "output_type": "stream",
     "text": [
      "Step 40000 — train_loss: 0.5747, train_mae: 0.1910, train_win_acc: 0.7589\n"
     ]
    },
    {
     "name": "stderr",
     "output_type": "stream",
     "text": [
      "Epoch 1: 40007it [12:04,  1.69it/s]"
     ]
    },
    {
     "name": "stdout",
     "output_type": "stream",
     "text": [
      "\n",
      "[Validation] Step 40000 — train_loss: 0.5747, train_mae: 0.1910, train_win_acc: 0.7589, val_loss: 0.0932, val_mae: 0.1920, val_win_acc: 0.7434, LR: 0.000282\n",
      "Saved new best model after 40000 iters\n",
      "--------No significant MAE improvement for 5000 iterations--------\n"
     ]
    },
    {
     "name": "stderr",
     "output_type": "stream",
     "text": [
      "Epoch 1: 41009it [12:19, 62.19it/s]"
     ]
    },
    {
     "name": "stdout",
     "output_type": "stream",
     "text": [
      "Step 41000 — train_loss: 0.5736, train_mae: 0.1909, train_win_acc: 0.7596\n"
     ]
    },
    {
     "name": "stderr",
     "output_type": "stream",
     "text": [
      "Epoch 1: 42011it [12:34, 66.87it/s]"
     ]
    },
    {
     "name": "stdout",
     "output_type": "stream",
     "text": [
      "Step 42000 — train_loss: 0.5731, train_mae: 0.1905, train_win_acc: 0.7597\n"
     ]
    },
    {
     "name": "stderr",
     "output_type": "stream",
     "text": [
      "Epoch 1: 43013it [12:49, 66.78it/s]"
     ]
    },
    {
     "name": "stdout",
     "output_type": "stream",
     "text": [
      "Step 43000 — train_loss: 0.5724, train_mae: 0.1902, train_win_acc: 0.7600\n"
     ]
    },
    {
     "name": "stderr",
     "output_type": "stream",
     "text": [
      "Epoch 1: 44009it [13:03, 66.91it/s]"
     ]
    },
    {
     "name": "stdout",
     "output_type": "stream",
     "text": [
      "Step 44000 — train_loss: 0.5717, train_mae: 0.1900, train_win_acc: 0.7604\n"
     ]
    },
    {
     "name": "stderr",
     "output_type": "stream",
     "text": [
      "Epoch 1: 44996it [13:19, 66.38it/s]"
     ]
    },
    {
     "name": "stdout",
     "output_type": "stream",
     "text": [
      "Step 45000 — train_loss: 0.5711, train_mae: 0.1897, train_win_acc: 0.7607\n"
     ]
    },
    {
     "name": "stderr",
     "output_type": "stream",
     "text": [
      "Epoch 1: 45008it [13:36,  1.84it/s]"
     ]
    },
    {
     "name": "stdout",
     "output_type": "stream",
     "text": [
      "\n",
      "[Validation] Step 45000 — train_loss: 0.5711, train_mae: 0.1897, train_win_acc: 0.7607, val_loss: 0.0895, val_mae: 0.1872, val_win_acc: 0.7540, LR: 0.000277\n",
      "Saved new best model after 45000 iters\n",
      "--------Validation MAE improved to 0.187189--------\n"
     ]
    },
    {
     "name": "stderr",
     "output_type": "stream",
     "text": [
      "Epoch 1: 46009it [13:51, 66.57it/s]"
     ]
    },
    {
     "name": "stdout",
     "output_type": "stream",
     "text": [
      "Step 46000 — train_loss: 0.5706, train_mae: 0.1895, train_win_acc: 0.7609\n"
     ]
    },
    {
     "name": "stderr",
     "output_type": "stream",
     "text": [
      "Epoch 1: 47009it [14:06, 68.02it/s]"
     ]
    },
    {
     "name": "stdout",
     "output_type": "stream",
     "text": [
      "Step 47000 — train_loss: 0.5700, train_mae: 0.1893, train_win_acc: 0.7612\n"
     ]
    },
    {
     "name": "stderr",
     "output_type": "stream",
     "text": [
      "Epoch 1: 48012it [14:22, 62.44it/s]"
     ]
    },
    {
     "name": "stdout",
     "output_type": "stream",
     "text": [
      "Step 48000 — train_loss: 0.5697, train_mae: 0.1892, train_win_acc: 0.7613\n"
     ]
    },
    {
     "name": "stderr",
     "output_type": "stream",
     "text": [
      "Epoch 1: 49006it [14:37, 63.78it/s]"
     ]
    },
    {
     "name": "stdout",
     "output_type": "stream",
     "text": [
      "Step 49000 — train_loss: 0.5690, train_mae: 0.1890, train_win_acc: 0.7617\n"
     ]
    },
    {
     "name": "stderr",
     "output_type": "stream",
     "text": [
      "Epoch 1: 49997it [14:52, 63.78it/s]"
     ]
    },
    {
     "name": "stdout",
     "output_type": "stream",
     "text": [
      "Step 50000 — train_loss: 0.5687, train_mae: 0.1889, train_win_acc: 0.7619\n"
     ]
    },
    {
     "name": "stderr",
     "output_type": "stream",
     "text": [
      "Epoch 1: 50007it [15:09,  1.68it/s]"
     ]
    },
    {
     "name": "stdout",
     "output_type": "stream",
     "text": [
      "\n",
      "[Validation] Step 50000 — train_loss: 0.5687, train_mae: 0.1889, train_win_acc: 0.7619, val_loss: 0.0894, val_mae: 0.1874, val_win_acc: 0.7540, LR: 0.000272\n",
      "Saved new best model after 50000 iters\n",
      "--------No significant MAE improvement for 5000 iterations--------\n"
     ]
    },
    {
     "name": "stderr",
     "output_type": "stream",
     "text": [
      "Epoch 1: 51007it [15:24, 61.88it/s]"
     ]
    },
    {
     "name": "stdout",
     "output_type": "stream",
     "text": [
      "Step 51000 — train_loss: 0.5680, train_mae: 0.1886, train_win_acc: 0.7623\n"
     ]
    },
    {
     "name": "stderr",
     "output_type": "stream",
     "text": [
      "Epoch 1: 52009it [15:39, 67.11it/s]"
     ]
    },
    {
     "name": "stdout",
     "output_type": "stream",
     "text": [
      "Step 52000 — train_loss: 0.5672, train_mae: 0.1882, train_win_acc: 0.7626\n"
     ]
    },
    {
     "name": "stderr",
     "output_type": "stream",
     "text": [
      "Epoch 1: 53010it [15:55, 60.57it/s]"
     ]
    },
    {
     "name": "stdout",
     "output_type": "stream",
     "text": [
      "Step 53000 — train_loss: 0.5666, train_mae: 0.1880, train_win_acc: 0.7630\n"
     ]
    },
    {
     "name": "stderr",
     "output_type": "stream",
     "text": [
      "Epoch 1: 54011it [16:11, 60.43it/s]"
     ]
    },
    {
     "name": "stdout",
     "output_type": "stream",
     "text": [
      "Step 54000 — train_loss: 0.5657, train_mae: 0.1873, train_win_acc: 0.7634\n"
     ]
    },
    {
     "name": "stderr",
     "output_type": "stream",
     "text": [
      "Epoch 1: 54995it [16:26, 67.28it/s]"
     ]
    },
    {
     "name": "stdout",
     "output_type": "stream",
     "text": [
      "Step 55000 — train_loss: 0.5643, train_mae: 0.1872, train_win_acc: 0.7643\n"
     ]
    },
    {
     "name": "stderr",
     "output_type": "stream",
     "text": [
      "Epoch 1: 55007it [16:43,  1.81it/s]"
     ]
    },
    {
     "name": "stdout",
     "output_type": "stream",
     "text": [
      "\n",
      "[Validation] Step 55000 — train_loss: 0.5643, train_mae: 0.1872, train_win_acc: 0.7643, val_loss: 0.0984, val_mae: 0.1925, val_win_acc: 0.7457, LR: 0.000266\n",
      "--------No significant MAE improvement for 10000 iterations--------\n"
     ]
    },
    {
     "name": "stderr",
     "output_type": "stream",
     "text": [
      "Epoch 1: 56007it [16:58, 66.12it/s]"
     ]
    },
    {
     "name": "stdout",
     "output_type": "stream",
     "text": [
      "Step 56000 — train_loss: 0.5637, train_mae: 0.1871, train_win_acc: 0.7647\n"
     ]
    },
    {
     "name": "stderr",
     "output_type": "stream",
     "text": [
      "Epoch 1: 57011it [17:12, 67.35it/s]"
     ]
    },
    {
     "name": "stdout",
     "output_type": "stream",
     "text": [
      "Step 57000 — train_loss: 0.5631, train_mae: 0.1868, train_win_acc: 0.7649\n"
     ]
    },
    {
     "name": "stderr",
     "output_type": "stream",
     "text": [
      "Epoch 1: 58007it [17:27, 67.47it/s]"
     ]
    },
    {
     "name": "stdout",
     "output_type": "stream",
     "text": [
      "Step 58000 — train_loss: 0.5627, train_mae: 0.1864, train_win_acc: 0.7650\n"
     ]
    },
    {
     "name": "stderr",
     "output_type": "stream",
     "text": [
      "Epoch 1: 59008it [17:41, 78.69it/s]"
     ]
    },
    {
     "name": "stdout",
     "output_type": "stream",
     "text": [
      "Step 59000 — train_loss: 0.5624, train_mae: 0.1864, train_win_acc: 0.7652\n"
     ]
    },
    {
     "name": "stderr",
     "output_type": "stream",
     "text": [
      "Epoch 1: 59999it [17:57, 72.35it/s]"
     ]
    },
    {
     "name": "stdout",
     "output_type": "stream",
     "text": [
      "Step 60000 — train_loss: 0.5621, train_mae: 0.1863, train_win_acc: 0.7655\n"
     ]
    },
    {
     "name": "stderr",
     "output_type": "stream",
     "text": [
      "Epoch 1: 60007it [18:14,  1.68it/s]"
     ]
    },
    {
     "name": "stdout",
     "output_type": "stream",
     "text": [
      "\n",
      "[Validation] Step 60000 — train_loss: 0.5621, train_mae: 0.1863, train_win_acc: 0.7655, val_loss: 0.0957, val_mae: 0.1910, val_win_acc: 0.7553, LR: 0.000260\n",
      "--------No significant MAE improvement for 15000 iterations--------\n"
     ]
    },
    {
     "name": "stderr",
     "output_type": "stream",
     "text": [
      "Epoch 1: 61012it [18:29, 64.47it/s]"
     ]
    },
    {
     "name": "stdout",
     "output_type": "stream",
     "text": [
      "Step 61000 — train_loss: 0.5616, train_mae: 0.1862, train_win_acc: 0.7657\n"
     ]
    },
    {
     "name": "stderr",
     "output_type": "stream",
     "text": [
      "Epoch 1: 62014it [18:44, 76.38it/s]"
     ]
    },
    {
     "name": "stdout",
     "output_type": "stream",
     "text": [
      "Step 62000 — train_loss: 0.5613, train_mae: 0.1861, train_win_acc: 0.7659\n"
     ]
    },
    {
     "name": "stderr",
     "output_type": "stream",
     "text": [
      "Epoch 1: 63011it [18:58, 64.90it/s]"
     ]
    },
    {
     "name": "stdout",
     "output_type": "stream",
     "text": [
      "Step 63000 — train_loss: 0.5608, train_mae: 0.1860, train_win_acc: 0.7662\n"
     ]
    },
    {
     "name": "stderr",
     "output_type": "stream",
     "text": [
      "Epoch 1: 64009it [19:12, 78.02it/s]"
     ]
    },
    {
     "name": "stdout",
     "output_type": "stream",
     "text": [
      "Step 64000 — train_loss: 0.5606, train_mae: 0.1859, train_win_acc: 0.7664\n"
     ]
    },
    {
     "name": "stderr",
     "output_type": "stream",
     "text": [
      "Epoch 1: 64997it [19:26, 68.26it/s]"
     ]
    },
    {
     "name": "stdout",
     "output_type": "stream",
     "text": [
      "Step 65000 — train_loss: 0.5603, train_mae: 0.1858, train_win_acc: 0.7665\n"
     ]
    },
    {
     "name": "stderr",
     "output_type": "stream",
     "text": [
      "Epoch 1: 65007it [19:43,  1.71it/s]"
     ]
    },
    {
     "name": "stdout",
     "output_type": "stream",
     "text": [
      "\n",
      "[Validation] Step 65000 — train_loss: 0.5603, train_mae: 0.1858, train_win_acc: 0.7665, val_loss: 0.0877, val_mae: 0.1826, val_win_acc: 0.7551, LR: 0.000254\n",
      "Saved new best model after 65000 iters\n",
      "--------Validation MAE improved to 0.182594--------\n"
     ]
    },
    {
     "name": "stderr",
     "output_type": "stream",
     "text": [
      "Epoch 1: 66013it [19:58, 75.18it/s]"
     ]
    },
    {
     "name": "stdout",
     "output_type": "stream",
     "text": [
      "Step 66000 — train_loss: 0.5599, train_mae: 0.1856, train_win_acc: 0.7667\n"
     ]
    },
    {
     "name": "stderr",
     "output_type": "stream",
     "text": [
      "Epoch 1: 67008it [20:12, 63.18it/s]"
     ]
    },
    {
     "name": "stdout",
     "output_type": "stream",
     "text": [
      "Step 67000 — train_loss: 0.5594, train_mae: 0.1855, train_win_acc: 0.7670\n"
     ]
    },
    {
     "name": "stderr",
     "output_type": "stream",
     "text": [
      "Epoch 1: 68012it [20:27, 75.03it/s]"
     ]
    },
    {
     "name": "stdout",
     "output_type": "stream",
     "text": [
      "Step 68000 — train_loss: 0.5589, train_mae: 0.1853, train_win_acc: 0.7672\n"
     ]
    },
    {
     "name": "stderr",
     "output_type": "stream",
     "text": [
      "Epoch 1: 69015it [20:41, 72.23it/s]"
     ]
    },
    {
     "name": "stdout",
     "output_type": "stream",
     "text": [
      "Step 69000 — train_loss: 0.5587, train_mae: 0.1853, train_win_acc: 0.7673\n"
     ]
    },
    {
     "name": "stderr",
     "output_type": "stream",
     "text": [
      "Epoch 1: 69998it [20:55, 78.74it/s]"
     ]
    },
    {
     "name": "stdout",
     "output_type": "stream",
     "text": [
      "Step 70000 — train_loss: 0.5583, train_mae: 0.1851, train_win_acc: 0.7675\n"
     ]
    },
    {
     "name": "stderr",
     "output_type": "stream",
     "text": [
      "Epoch 1: 70008it [21:12,  1.83it/s]"
     ]
    },
    {
     "name": "stdout",
     "output_type": "stream",
     "text": [
      "\n",
      "[Validation] Step 70000 — train_loss: 0.5583, train_mae: 0.1851, train_win_acc: 0.7675, val_loss: 0.0908, val_mae: 0.1832, val_win_acc: 0.7581, LR: 0.000247\n",
      "--------No significant MAE improvement for 5000 iterations--------\n"
     ]
    },
    {
     "name": "stderr",
     "output_type": "stream",
     "text": [
      "Epoch 1: 71007it [21:26, 67.64it/s]"
     ]
    },
    {
     "name": "stdout",
     "output_type": "stream",
     "text": [
      "Step 71000 — train_loss: 0.5578, train_mae: 0.1849, train_win_acc: 0.7677\n"
     ]
    },
    {
     "name": "stderr",
     "output_type": "stream",
     "text": [
      "Epoch 1: 72014it [21:41, 71.68it/s]"
     ]
    },
    {
     "name": "stdout",
     "output_type": "stream",
     "text": [
      "Step 72000 — train_loss: 0.5572, train_mae: 0.1847, train_win_acc: 0.7680\n"
     ]
    },
    {
     "name": "stderr",
     "output_type": "stream",
     "text": [
      "Epoch 1: 73007it [21:55, 67.63it/s]"
     ]
    },
    {
     "name": "stdout",
     "output_type": "stream",
     "text": [
      "Step 73000 — train_loss: 0.5568, train_mae: 0.1846, train_win_acc: 0.7682\n"
     ]
    },
    {
     "name": "stderr",
     "output_type": "stream",
     "text": [
      "Epoch 1: 74012it [22:11, 63.91it/s]"
     ]
    },
    {
     "name": "stdout",
     "output_type": "stream",
     "text": [
      "Step 74000 — train_loss: 0.5565, train_mae: 0.1846, train_win_acc: 0.7684\n"
     ]
    },
    {
     "name": "stderr",
     "output_type": "stream",
     "text": [
      "Epoch 1: 74998it [22:26, 67.85it/s]"
     ]
    },
    {
     "name": "stdout",
     "output_type": "stream",
     "text": [
      "Step 75000 — train_loss: 0.5560, train_mae: 0.1845, train_win_acc: 0.7687\n"
     ]
    },
    {
     "name": "stderr",
     "output_type": "stream",
     "text": [
      "Epoch 1: 75007it [22:43,  1.71it/s]"
     ]
    },
    {
     "name": "stdout",
     "output_type": "stream",
     "text": [
      "\n",
      "[Validation] Step 75000 — train_loss: 0.5560, train_mae: 0.1845, train_win_acc: 0.7687, val_loss: 0.0932, val_mae: 0.1883, val_win_acc: 0.7586, LR: 0.000240\n",
      "--------No significant MAE improvement for 10000 iterations--------\n"
     ]
    },
    {
     "name": "stderr",
     "output_type": "stream",
     "text": [
      "Epoch 1: 76006it [22:58, 64.09it/s]"
     ]
    },
    {
     "name": "stdout",
     "output_type": "stream",
     "text": [
      "Step 76000 — train_loss: 0.5557, train_mae: 0.1845, train_win_acc: 0.7689\n"
     ]
    },
    {
     "name": "stderr",
     "output_type": "stream",
     "text": [
      "Epoch 1: 77010it [23:14, 62.44it/s]"
     ]
    },
    {
     "name": "stdout",
     "output_type": "stream",
     "text": [
      "Step 77000 — train_loss: 0.5552, train_mae: 0.1843, train_win_acc: 0.7691\n"
     ]
    },
    {
     "name": "stderr",
     "output_type": "stream",
     "text": [
      "Epoch 1: 78011it [23:30, 67.26it/s]"
     ]
    },
    {
     "name": "stdout",
     "output_type": "stream",
     "text": [
      "Step 78000 — train_loss: 0.5547, train_mae: 0.1842, train_win_acc: 0.7694\n"
     ]
    },
    {
     "name": "stderr",
     "output_type": "stream",
     "text": [
      "Epoch 1: 79010it [23:45, 78.16it/s]"
     ]
    },
    {
     "name": "stdout",
     "output_type": "stream",
     "text": [
      "Step 79000 — train_loss: 0.5543, train_mae: 0.1841, train_win_acc: 0.7696\n"
     ]
    },
    {
     "name": "stderr",
     "output_type": "stream",
     "text": [
      "Epoch 1: 79998it [23:59, 64.45it/s]"
     ]
    },
    {
     "name": "stdout",
     "output_type": "stream",
     "text": [
      "Step 80000 — train_loss: 0.5538, train_mae: 0.1839, train_win_acc: 0.7698\n"
     ]
    },
    {
     "name": "stderr",
     "output_type": "stream",
     "text": [
      "Epoch 1: 80007it [24:16,  1.68it/s]"
     ]
    },
    {
     "name": "stdout",
     "output_type": "stream",
     "text": [
      "\n",
      "[Validation] Step 80000 — train_loss: 0.5538, train_mae: 0.1839, train_win_acc: 0.7698, val_loss: 0.0959, val_mae: 0.1883, val_win_acc: 0.7606, LR: 0.000232\n",
      "--------No significant MAE improvement for 15000 iterations--------\n"
     ]
    },
    {
     "name": "stderr",
     "output_type": "stream",
     "text": [
      "Epoch 1: 81008it [24:32, 61.61it/s]"
     ]
    },
    {
     "name": "stdout",
     "output_type": "stream",
     "text": [
      "Step 81000 — train_loss: 0.5532, train_mae: 0.1837, train_win_acc: 0.7701\n"
     ]
    },
    {
     "name": "stderr",
     "output_type": "stream",
     "text": [
      "Epoch 1: 82009it [24:47, 66.84it/s]"
     ]
    },
    {
     "name": "stdout",
     "output_type": "stream",
     "text": [
      "Step 82000 — train_loss: 0.5528, train_mae: 0.1836, train_win_acc: 0.7703\n"
     ]
    },
    {
     "name": "stderr",
     "output_type": "stream",
     "text": [
      "Epoch 1: 83010it [25:03, 62.35it/s]"
     ]
    },
    {
     "name": "stdout",
     "output_type": "stream",
     "text": [
      "Step 83000 — train_loss: 0.5524, train_mae: 0.1834, train_win_acc: 0.7705\n"
     ]
    },
    {
     "name": "stderr",
     "output_type": "stream",
     "text": [
      "Epoch 1: 84010it [25:18, 63.24it/s]"
     ]
    },
    {
     "name": "stdout",
     "output_type": "stream",
     "text": [
      "Step 84000 — train_loss: 0.5520, train_mae: 0.1834, train_win_acc: 0.7707\n"
     ]
    },
    {
     "name": "stderr",
     "output_type": "stream",
     "text": [
      "Epoch 1: 84997it [25:33, 67.21it/s]"
     ]
    },
    {
     "name": "stdout",
     "output_type": "stream",
     "text": [
      "Step 85000 — train_loss: 0.5517, train_mae: 0.1833, train_win_acc: 0.7709\n"
     ]
    },
    {
     "name": "stderr",
     "output_type": "stream",
     "text": [
      "Epoch 1: 85007it [25:50,  1.70it/s]"
     ]
    },
    {
     "name": "stdout",
     "output_type": "stream",
     "text": [
      "\n",
      "[Validation] Step 85000 — train_loss: 0.5517, train_mae: 0.1833, train_win_acc: 0.7709, val_loss: 0.0882, val_mae: 0.1816, val_win_acc: 0.7632, LR: 0.000225\n",
      "--------Validation MAE improved to 0.181603--------\n"
     ]
    },
    {
     "name": "stderr",
     "output_type": "stream",
     "text": [
      "Epoch 1: 86011it [26:05, 62.13it/s]"
     ]
    },
    {
     "name": "stdout",
     "output_type": "stream",
     "text": [
      "Step 86000 — train_loss: 0.5513, train_mae: 0.1832, train_win_acc: 0.7711\n"
     ]
    },
    {
     "name": "stderr",
     "output_type": "stream",
     "text": [
      "Epoch 1: 87010it [26:21, 74.07it/s]"
     ]
    },
    {
     "name": "stdout",
     "output_type": "stream",
     "text": [
      "Step 87000 — train_loss: 0.5509, train_mae: 0.1831, train_win_acc: 0.7713\n"
     ]
    },
    {
     "name": "stderr",
     "output_type": "stream",
     "text": [
      "Epoch 1: 88007it [26:37, 63.66it/s]"
     ]
    },
    {
     "name": "stdout",
     "output_type": "stream",
     "text": [
      "Step 88000 — train_loss: 0.5505, train_mae: 0.1829, train_win_acc: 0.7715\n"
     ]
    },
    {
     "name": "stderr",
     "output_type": "stream",
     "text": [
      "Epoch 1: 89011it [26:52, 67.53it/s]"
     ]
    },
    {
     "name": "stdout",
     "output_type": "stream",
     "text": [
      "Step 89000 — train_loss: 0.5498, train_mae: 0.1827, train_win_acc: 0.7719\n"
     ]
    },
    {
     "name": "stderr",
     "output_type": "stream",
     "text": [
      "Epoch 1: 89999it [27:07, 66.96it/s]"
     ]
    },
    {
     "name": "stdout",
     "output_type": "stream",
     "text": [
      "Step 90000 — train_loss: 0.5494, train_mae: 0.1826, train_win_acc: 0.7721\n"
     ]
    },
    {
     "name": "stderr",
     "output_type": "stream",
     "text": [
      "Epoch 1: 90007it [27:24,  1.59it/s]"
     ]
    },
    {
     "name": "stdout",
     "output_type": "stream",
     "text": [
      "\n",
      "[Validation] Step 90000 — train_loss: 0.5494, train_mae: 0.1826, train_win_acc: 0.7721, val_loss: 0.0907, val_mae: 0.1828, val_win_acc: 0.7637, LR: 0.000217\n",
      "--------No significant MAE improvement for 5000 iterations--------\n"
     ]
    },
    {
     "name": "stderr",
     "output_type": "stream",
     "text": [
      "Epoch 1: 91007it [27:40, 52.86it/s]"
     ]
    },
    {
     "name": "stdout",
     "output_type": "stream",
     "text": [
      "Step 91000 — train_loss: 0.5490, train_mae: 0.1825, train_win_acc: 0.7723\n"
     ]
    },
    {
     "name": "stderr",
     "output_type": "stream",
     "text": [
      "Epoch 1: 92013it [27:57, 76.93it/s]"
     ]
    },
    {
     "name": "stdout",
     "output_type": "stream",
     "text": [
      "Step 92000 — train_loss: 0.5485, train_mae: 0.1824, train_win_acc: 0.7725\n"
     ]
    },
    {
     "name": "stderr",
     "output_type": "stream",
     "text": [
      "Epoch 1: 93007it [28:12, 58.05it/s]"
     ]
    },
    {
     "name": "stdout",
     "output_type": "stream",
     "text": [
      "Step 93000 — train_loss: 0.5482, train_mae: 0.1823, train_win_acc: 0.7727\n"
     ]
    },
    {
     "name": "stderr",
     "output_type": "stream",
     "text": [
      "Epoch 1: 94011it [28:29, 56.22it/s]"
     ]
    },
    {
     "name": "stdout",
     "output_type": "stream",
     "text": [
      "Step 94000 — train_loss: 0.5480, train_mae: 0.1822, train_win_acc: 0.7728\n"
     ]
    },
    {
     "name": "stderr",
     "output_type": "stream",
     "text": [
      "Epoch 1: 94999it [28:44, 65.14it/s]"
     ]
    },
    {
     "name": "stdout",
     "output_type": "stream",
     "text": [
      "Step 95000 — train_loss: 0.5478, train_mae: 0.1821, train_win_acc: 0.7729\n"
     ]
    },
    {
     "name": "stderr",
     "output_type": "stream",
     "text": [
      "Epoch 1: 95006it [29:02,  1.47it/s]"
     ]
    },
    {
     "name": "stdout",
     "output_type": "stream",
     "text": [
      "\n",
      "[Validation] Step 95000 — train_loss: 0.5478, train_mae: 0.1821, train_win_acc: 0.7729, val_loss: 0.0893, val_mae: 0.1831, val_win_acc: 0.7600, LR: 0.000209\n",
      "--------No significant MAE improvement for 10000 iterations--------\n"
     ]
    },
    {
     "name": "stderr",
     "output_type": "stream",
     "text": [
      "Epoch 1: 96012it [29:18, 61.61it/s]"
     ]
    },
    {
     "name": "stdout",
     "output_type": "stream",
     "text": [
      "Step 96000 — train_loss: 0.5475, train_mae: 0.1820, train_win_acc: 0.7731\n"
     ]
    },
    {
     "name": "stderr",
     "output_type": "stream",
     "text": [
      "Epoch 1: 97013it [29:33, 67.03it/s]"
     ]
    },
    {
     "name": "stdout",
     "output_type": "stream",
     "text": [
      "Step 97000 — train_loss: 0.5471, train_mae: 0.1819, train_win_acc: 0.7733\n"
     ]
    },
    {
     "name": "stderr",
     "output_type": "stream",
     "text": [
      "Epoch 1: 98009it [29:48, 70.30it/s]"
     ]
    },
    {
     "name": "stdout",
     "output_type": "stream",
     "text": [
      "Step 98000 — train_loss: 0.5466, train_mae: 0.1818, train_win_acc: 0.7735\n"
     ]
    },
    {
     "name": "stderr",
     "output_type": "stream",
     "text": [
      "Epoch 1: 99011it [30:03, 66.78it/s]"
     ]
    },
    {
     "name": "stdout",
     "output_type": "stream",
     "text": [
      "Step 99000 — train_loss: 0.5463, train_mae: 0.1816, train_win_acc: 0.7737\n"
     ]
    },
    {
     "name": "stderr",
     "output_type": "stream",
     "text": [
      "Epoch 1: 99999it [30:18, 61.91it/s]"
     ]
    },
    {
     "name": "stdout",
     "output_type": "stream",
     "text": [
      "Step 100000 — train_loss: 0.5459, train_mae: 0.1815, train_win_acc: 0.7739\n"
     ]
    },
    {
     "name": "stderr",
     "output_type": "stream",
     "text": [
      "Epoch 1: 100008it [30:35,  1.66it/s]"
     ]
    },
    {
     "name": "stdout",
     "output_type": "stream",
     "text": [
      "\n",
      "[Validation] Step 100000 — train_loss: 0.5459, train_mae: 0.1815, train_win_acc: 0.7739, val_loss: 0.0895, val_mae: 0.1839, val_win_acc: 0.7653, LR: 0.000200\n",
      "--------No significant MAE improvement for 15000 iterations--------\n"
     ]
    },
    {
     "name": "stderr",
     "output_type": "stream",
     "text": [
      "Epoch 1: 101006it [30:51, 62.94it/s]"
     ]
    },
    {
     "name": "stdout",
     "output_type": "stream",
     "text": [
      "Step 101000 — train_loss: 0.5454, train_mae: 0.1814, train_win_acc: 0.7741\n"
     ]
    },
    {
     "name": "stderr",
     "output_type": "stream",
     "text": [
      "Epoch 1: 102008it [31:07, 63.50it/s]"
     ]
    },
    {
     "name": "stdout",
     "output_type": "stream",
     "text": [
      "Step 102000 — train_loss: 0.5450, train_mae: 0.1813, train_win_acc: 0.7744\n"
     ]
    },
    {
     "name": "stderr",
     "output_type": "stream",
     "text": [
      "Epoch 1: 103012it [31:22, 67.18it/s]"
     ]
    },
    {
     "name": "stdout",
     "output_type": "stream",
     "text": [
      "Step 103000 — train_loss: 0.5446, train_mae: 0.1812, train_win_acc: 0.7746\n"
     ]
    },
    {
     "name": "stderr",
     "output_type": "stream",
     "text": [
      "Epoch 1: 104011it [31:37, 65.76it/s]"
     ]
    },
    {
     "name": "stdout",
     "output_type": "stream",
     "text": [
      "Step 104000 — train_loss: 0.5442, train_mae: 0.1811, train_win_acc: 0.7748\n"
     ]
    },
    {
     "name": "stderr",
     "output_type": "stream",
     "text": [
      "Epoch 1: 104995it [31:51, 66.95it/s]"
     ]
    },
    {
     "name": "stdout",
     "output_type": "stream",
     "text": [
      "Step 105000 — train_loss: 0.5439, train_mae: 0.1811, train_win_acc: 0.7750\n"
     ]
    },
    {
     "name": "stderr",
     "output_type": "stream",
     "text": [
      "Epoch 1: 105007it [32:08,  1.79it/s]"
     ]
    },
    {
     "name": "stdout",
     "output_type": "stream",
     "text": [
      "\n",
      "[Validation] Step 105000 — train_loss: 0.5439, train_mae: 0.1811, train_win_acc: 0.7750, val_loss: 0.0923, val_mae: 0.1836, val_win_acc: 0.7628, LR: 0.000192\n",
      "--------No significant MAE improvement for 20000 iterations--------\n"
     ]
    },
    {
     "name": "stderr",
     "output_type": "stream",
     "text": [
      "Epoch 1: 106010it [32:23, 66.77it/s]"
     ]
    },
    {
     "name": "stdout",
     "output_type": "stream",
     "text": [
      "Step 106000 — train_loss: 0.5436, train_mae: 0.1810, train_win_acc: 0.7751\n"
     ]
    },
    {
     "name": "stderr",
     "output_type": "stream",
     "text": [
      "Epoch 1: 107008it [32:38, 66.51it/s]"
     ]
    },
    {
     "name": "stdout",
     "output_type": "stream",
     "text": [
      "Step 107000 — train_loss: 0.5433, train_mae: 0.1809, train_win_acc: 0.7752\n"
     ]
    },
    {
     "name": "stderr",
     "output_type": "stream",
     "text": [
      "Epoch 1: 108010it [32:54, 61.62it/s]"
     ]
    },
    {
     "name": "stdout",
     "output_type": "stream",
     "text": [
      "Step 108000 — train_loss: 0.5431, train_mae: 0.1807, train_win_acc: 0.7754\n"
     ]
    },
    {
     "name": "stderr",
     "output_type": "stream",
     "text": [
      "Epoch 1: 109012it [33:09, 67.15it/s]"
     ]
    },
    {
     "name": "stdout",
     "output_type": "stream",
     "text": [
      "Step 109000 — train_loss: 0.5427, train_mae: 0.1806, train_win_acc: 0.7755\n"
     ]
    },
    {
     "name": "stderr",
     "output_type": "stream",
     "text": [
      "Epoch 1: 109998it [33:24, 61.64it/s]"
     ]
    },
    {
     "name": "stdout",
     "output_type": "stream",
     "text": [
      "Step 110000 — train_loss: 0.5425, train_mae: 0.1805, train_win_acc: 0.7756\n"
     ]
    },
    {
     "name": "stderr",
     "output_type": "stream",
     "text": [
      "Epoch 1: 110007it [33:41,  1.63it/s]"
     ]
    },
    {
     "name": "stdout",
     "output_type": "stream",
     "text": [
      "\n",
      "[Validation] Step 110000 — train_loss: 0.5425, train_mae: 0.1805, train_win_acc: 0.7756, val_loss: 0.0852, val_mae: 0.1783, val_win_acc: 0.7654, LR: 0.000183\n",
      "Saved new best model after 110000 iters\n",
      "--------Validation MAE improved to 0.178339--------\n"
     ]
    },
    {
     "name": "stderr",
     "output_type": "stream",
     "text": [
      "Epoch 1: 111008it [33:57, 63.71it/s]"
     ]
    },
    {
     "name": "stdout",
     "output_type": "stream",
     "text": [
      "Step 111000 — train_loss: 0.5421, train_mae: 0.1804, train_win_acc: 0.7758\n"
     ]
    },
    {
     "name": "stderr",
     "output_type": "stream",
     "text": [
      "Epoch 1: 112010it [34:13, 60.89it/s]"
     ]
    },
    {
     "name": "stdout",
     "output_type": "stream",
     "text": [
      "Step 112000 — train_loss: 0.5417, train_mae: 0.1803, train_win_acc: 0.7760\n"
     ]
    },
    {
     "name": "stderr",
     "output_type": "stream",
     "text": [
      "Epoch 1: 113009it [34:29, 66.59it/s]"
     ]
    },
    {
     "name": "stdout",
     "output_type": "stream",
     "text": [
      "Step 113000 — train_loss: 0.5415, train_mae: 0.1802, train_win_acc: 0.7761\n"
     ]
    },
    {
     "name": "stderr",
     "output_type": "stream",
     "text": [
      "Epoch 1: 114013it [34:44, 63.86it/s]"
     ]
    },
    {
     "name": "stdout",
     "output_type": "stream",
     "text": [
      "Step 114000 — train_loss: 0.5412, train_mae: 0.1801, train_win_acc: 0.7763\n"
     ]
    },
    {
     "name": "stderr",
     "output_type": "stream",
     "text": [
      "Epoch 1: 114997it [34:59, 66.28it/s]"
     ]
    },
    {
     "name": "stdout",
     "output_type": "stream",
     "text": [
      "Step 115000 — train_loss: 0.5409, train_mae: 0.1800, train_win_acc: 0.7764\n"
     ]
    },
    {
     "name": "stderr",
     "output_type": "stream",
     "text": [
      "Epoch 1: 115007it [35:16,  1.69it/s]"
     ]
    },
    {
     "name": "stdout",
     "output_type": "stream",
     "text": [
      "\n",
      "[Validation] Step 115000 — train_loss: 0.5409, train_mae: 0.1800, train_win_acc: 0.7764, val_loss: 0.0877, val_mae: 0.1801, val_win_acc: 0.7703, LR: 0.000175\n",
      "--------No significant MAE improvement for 5000 iterations--------\n"
     ]
    },
    {
     "name": "stderr",
     "output_type": "stream",
     "text": [
      "Epoch 1: 116007it [35:31, 67.20it/s]"
     ]
    },
    {
     "name": "stdout",
     "output_type": "stream",
     "text": [
      "Step 116000 — train_loss: 0.5407, train_mae: 0.1799, train_win_acc: 0.7765\n"
     ]
    },
    {
     "name": "stderr",
     "output_type": "stream",
     "text": [
      "Epoch 1: 117014it [35:46, 73.98it/s]"
     ]
    },
    {
     "name": "stdout",
     "output_type": "stream",
     "text": [
      "Step 117000 — train_loss: 0.5404, train_mae: 0.1798, train_win_acc: 0.7767\n"
     ]
    },
    {
     "name": "stderr",
     "output_type": "stream",
     "text": [
      "Epoch 1: 118006it [36:01, 61.86it/s]"
     ]
    },
    {
     "name": "stdout",
     "output_type": "stream",
     "text": [
      "Step 118000 — train_loss: 0.5402, train_mae: 0.1798, train_win_acc: 0.7768\n"
     ]
    },
    {
     "name": "stderr",
     "output_type": "stream",
     "text": [
      "Epoch 1: 119008it [36:16, 66.67it/s]"
     ]
    },
    {
     "name": "stdout",
     "output_type": "stream",
     "text": [
      "Step 119000 — train_loss: 0.5400, train_mae: 0.1797, train_win_acc: 0.7769\n"
     ]
    },
    {
     "name": "stderr",
     "output_type": "stream",
     "text": [
      "Epoch 1: 119998it [36:32, 67.52it/s]"
     ]
    },
    {
     "name": "stdout",
     "output_type": "stream",
     "text": [
      "Step 120000 — train_loss: 0.5398, train_mae: 0.1797, train_win_acc: 0.7770\n"
     ]
    },
    {
     "name": "stderr",
     "output_type": "stream",
     "text": [
      "Epoch 1: 120007it [36:49,  1.65it/s]"
     ]
    },
    {
     "name": "stdout",
     "output_type": "stream",
     "text": [
      "\n",
      "[Validation] Step 120000 — train_loss: 0.5398, train_mae: 0.1797, train_win_acc: 0.7770, val_loss: 0.0919, val_mae: 0.1814, val_win_acc: 0.7704, LR: 0.000166\n",
      "--------No significant MAE improvement for 10000 iterations--------\n"
     ]
    },
    {
     "name": "stderr",
     "output_type": "stream",
     "text": [
      "Epoch 1: 121007it [37:04, 67.06it/s]"
     ]
    },
    {
     "name": "stdout",
     "output_type": "stream",
     "text": [
      "Step 121000 — train_loss: 0.5396, train_mae: 0.1796, train_win_acc: 0.7771\n"
     ]
    },
    {
     "name": "stderr",
     "output_type": "stream",
     "text": [
      "Epoch 1: 122009it [37:19, 66.14it/s]"
     ]
    },
    {
     "name": "stdout",
     "output_type": "stream",
     "text": [
      "Step 122000 — train_loss: 0.5394, train_mae: 0.1796, train_win_acc: 0.7772\n"
     ]
    },
    {
     "name": "stderr",
     "output_type": "stream",
     "text": [
      "Epoch 1: 123006it [37:34, 62.52it/s]"
     ]
    },
    {
     "name": "stdout",
     "output_type": "stream",
     "text": [
      "Step 123000 — train_loss: 0.5392, train_mae: 0.1795, train_win_acc: 0.7773\n"
     ]
    },
    {
     "name": "stderr",
     "output_type": "stream",
     "text": [
      "Epoch 1: 124013it [37:49, 66.85it/s]"
     ]
    },
    {
     "name": "stdout",
     "output_type": "stream",
     "text": [
      "Step 124000 — train_loss: 0.5390, train_mae: 0.1794, train_win_acc: 0.7774\n"
     ]
    },
    {
     "name": "stderr",
     "output_type": "stream",
     "text": [
      "Epoch 1: 124993it [38:04, 67.28it/s]"
     ]
    },
    {
     "name": "stdout",
     "output_type": "stream",
     "text": [
      "Step 125000 — train_loss: 0.5387, train_mae: 0.1794, train_win_acc: 0.7776\n"
     ]
    },
    {
     "name": "stderr",
     "output_type": "stream",
     "text": [
      "Epoch 1: 125007it [38:21,  1.93it/s]"
     ]
    },
    {
     "name": "stdout",
     "output_type": "stream",
     "text": [
      "\n",
      "[Validation] Step 125000 — train_loss: 0.5387, train_mae: 0.1794, train_win_acc: 0.7776, val_loss: 0.0860, val_mae: 0.1780, val_win_acc: 0.7684, LR: 0.000158\n",
      "--------No significant MAE improvement for 15000 iterations--------\n"
     ]
    },
    {
     "name": "stderr",
     "output_type": "stream",
     "text": [
      "Epoch 1: 126009it [38:36, 67.72it/s]"
     ]
    },
    {
     "name": "stdout",
     "output_type": "stream",
     "text": [
      "Step 126000 — train_loss: 0.5384, train_mae: 0.1793, train_win_acc: 0.7777\n"
     ]
    },
    {
     "name": "stderr",
     "output_type": "stream",
     "text": [
      "Epoch 1: 127010it [38:51, 66.81it/s]"
     ]
    },
    {
     "name": "stdout",
     "output_type": "stream",
     "text": [
      "Step 127000 — train_loss: 0.5382, train_mae: 0.1792, train_win_acc: 0.7778\n"
     ]
    },
    {
     "name": "stderr",
     "output_type": "stream",
     "text": [
      "Epoch 1: 128006it [39:05, 73.38it/s]"
     ]
    },
    {
     "name": "stdout",
     "output_type": "stream",
     "text": [
      "Step 128000 — train_loss: 0.5379, train_mae: 0.1791, train_win_acc: 0.7780\n"
     ]
    },
    {
     "name": "stderr",
     "output_type": "stream",
     "text": [
      "Epoch 1: 129010it [39:20, 66.88it/s]"
     ]
    },
    {
     "name": "stdout",
     "output_type": "stream",
     "text": [
      "Step 129000 — train_loss: 0.5377, train_mae: 0.1790, train_win_acc: 0.7781\n"
     ]
    },
    {
     "name": "stderr",
     "output_type": "stream",
     "text": [
      "Epoch 1: 129996it [39:34, 66.92it/s]"
     ]
    },
    {
     "name": "stdout",
     "output_type": "stream",
     "text": [
      "Step 130000 — train_loss: 0.5373, train_mae: 0.1789, train_win_acc: 0.7783\n"
     ]
    },
    {
     "name": "stderr",
     "output_type": "stream",
     "text": [
      "Epoch 1: 130007it [39:51,  1.73it/s]"
     ]
    },
    {
     "name": "stdout",
     "output_type": "stream",
     "text": [
      "\n",
      "[Validation] Step 130000 — train_loss: 0.5373, train_mae: 0.1789, train_win_acc: 0.7783, val_loss: 0.0881, val_mae: 0.1794, val_win_acc: 0.7682, LR: 0.000149\n",
      "--------No significant MAE improvement for 20000 iterations--------\n"
     ]
    },
    {
     "name": "stderr",
     "output_type": "stream",
     "text": [
      "Epoch 1: 131010it [40:05, 78.82it/s]"
     ]
    },
    {
     "name": "stdout",
     "output_type": "stream",
     "text": [
      "Step 131000 — train_loss: 0.5370, train_mae: 0.1789, train_win_acc: 0.7785\n"
     ]
    },
    {
     "name": "stderr",
     "output_type": "stream",
     "text": [
      "Epoch 1: 132008it [40:19, 67.07it/s]"
     ]
    },
    {
     "name": "stdout",
     "output_type": "stream",
     "text": [
      "Step 132000 — train_loss: 0.5368, train_mae: 0.1788, train_win_acc: 0.7786\n"
     ]
    },
    {
     "name": "stderr",
     "output_type": "stream",
     "text": [
      "Epoch 1: 133007it [40:33, 65.87it/s]"
     ]
    },
    {
     "name": "stdout",
     "output_type": "stream",
     "text": [
      "Step 133000 — train_loss: 0.5366, train_mae: 0.1788, train_win_acc: 0.7787\n"
     ]
    },
    {
     "name": "stderr",
     "output_type": "stream",
     "text": [
      "Epoch 1: 134009it [40:48, 62.42it/s]"
     ]
    },
    {
     "name": "stdout",
     "output_type": "stream",
     "text": [
      "Step 134000 — train_loss: 0.5364, train_mae: 0.1787, train_win_acc: 0.7788\n"
     ]
    },
    {
     "name": "stderr",
     "output_type": "stream",
     "text": [
      "Epoch 1: 134996it [41:03, 62.64it/s]"
     ]
    },
    {
     "name": "stdout",
     "output_type": "stream",
     "text": [
      "Step 135000 — train_loss: 0.5361, train_mae: 0.1787, train_win_acc: 0.7789\n"
     ]
    },
    {
     "name": "stderr",
     "output_type": "stream",
     "text": [
      "Epoch 1: 135007it [41:20,  1.76it/s]"
     ]
    },
    {
     "name": "stdout",
     "output_type": "stream",
     "text": [
      "\n",
      "[Validation] Step 135000 — train_loss: 0.5361, train_mae: 0.1787, train_win_acc: 0.7789, val_loss: 0.0908, val_mae: 0.1829, val_win_acc: 0.7721, LR: 0.000141\n",
      "--------No significant MAE improvement for 25000 iterations--------\n"
     ]
    },
    {
     "name": "stderr",
     "output_type": "stream",
     "text": [
      "Epoch 1: 136010it [41:36, 64.50it/s]"
     ]
    },
    {
     "name": "stdout",
     "output_type": "stream",
     "text": [
      "Step 136000 — train_loss: 0.5360, train_mae: 0.1787, train_win_acc: 0.7790\n"
     ]
    },
    {
     "name": "stderr",
     "output_type": "stream",
     "text": [
      "Epoch 1: 137008it [41:52, 64.24it/s]"
     ]
    },
    {
     "name": "stdout",
     "output_type": "stream",
     "text": [
      "Step 137000 — train_loss: 0.5357, train_mae: 0.1786, train_win_acc: 0.7792\n"
     ]
    },
    {
     "name": "stderr",
     "output_type": "stream",
     "text": [
      "Epoch 1: 138006it [42:08, 62.55it/s]"
     ]
    },
    {
     "name": "stdout",
     "output_type": "stream",
     "text": [
      "Step 138000 — train_loss: 0.5356, train_mae: 0.1786, train_win_acc: 0.7793\n"
     ]
    },
    {
     "name": "stderr",
     "output_type": "stream",
     "text": [
      "Epoch 1: 139007it [42:23, 67.30it/s]"
     ]
    },
    {
     "name": "stdout",
     "output_type": "stream",
     "text": [
      "Step 139000 — train_loss: 0.5354, train_mae: 0.1785, train_win_acc: 0.7794\n"
     ]
    },
    {
     "name": "stderr",
     "output_type": "stream",
     "text": [
      "Epoch 1: 139996it [42:37, 67.27it/s]"
     ]
    },
    {
     "name": "stdout",
     "output_type": "stream",
     "text": [
      "Step 140000 — train_loss: 0.5352, train_mae: 0.1785, train_win_acc: 0.7795\n"
     ]
    },
    {
     "name": "stderr",
     "output_type": "stream",
     "text": [
      "Epoch 1: 140008it [42:55,  1.79it/s]"
     ]
    },
    {
     "name": "stdout",
     "output_type": "stream",
     "text": [
      "\n",
      "[Validation] Step 140000 — train_loss: 0.5352, train_mae: 0.1785, train_win_acc: 0.7795, val_loss: 0.0844, val_mae: 0.1755, val_win_acc: 0.7773, LR: 0.000133\n",
      "Saved new best model after 140000 iters\n",
      "--------Validation MAE improved to 0.175525--------\n"
     ]
    },
    {
     "name": "stderr",
     "output_type": "stream",
     "text": [
      "Epoch 1: 141013it [43:10, 66.86it/s]"
     ]
    },
    {
     "name": "stdout",
     "output_type": "stream",
     "text": [
      "Step 141000 — train_loss: 0.5349, train_mae: 0.1784, train_win_acc: 0.7796\n"
     ]
    },
    {
     "name": "stderr",
     "output_type": "stream",
     "text": [
      "Epoch 1: 142009it [43:24, 61.42it/s]"
     ]
    },
    {
     "name": "stdout",
     "output_type": "stream",
     "text": [
      "Step 142000 — train_loss: 0.5346, train_mae: 0.1783, train_win_acc: 0.7797\n"
     ]
    },
    {
     "name": "stderr",
     "output_type": "stream",
     "text": [
      "Epoch 1: 143009it [43:40, 64.15it/s]"
     ]
    },
    {
     "name": "stdout",
     "output_type": "stream",
     "text": [
      "Step 143000 — train_loss: 0.5344, train_mae: 0.1782, train_win_acc: 0.7798\n"
     ]
    },
    {
     "name": "stderr",
     "output_type": "stream",
     "text": [
      "Epoch 1: 144009it [43:56, 64.36it/s]"
     ]
    },
    {
     "name": "stdout",
     "output_type": "stream",
     "text": [
      "Step 144000 — train_loss: 0.5341, train_mae: 0.1781, train_win_acc: 0.7799\n"
     ]
    },
    {
     "name": "stderr",
     "output_type": "stream",
     "text": [
      "Epoch 1: 144993it [44:11, 67.29it/s]"
     ]
    },
    {
     "name": "stdout",
     "output_type": "stream",
     "text": [
      "Step 145000 — train_loss: 0.5339, train_mae: 0.1780, train_win_acc: 0.7800\n"
     ]
    },
    {
     "name": "stderr",
     "output_type": "stream",
     "text": [
      "Epoch 1: 145007it [44:28,  1.91it/s]"
     ]
    },
    {
     "name": "stdout",
     "output_type": "stream",
     "text": [
      "\n",
      "[Validation] Step 145000 — train_loss: 0.5339, train_mae: 0.1780, train_win_acc: 0.7800, val_loss: 0.0836, val_mae: 0.1757, val_win_acc: 0.7773, LR: 0.000125\n",
      "Saved new best model after 145000 iters\n",
      "--------No significant MAE improvement for 5000 iterations--------\n"
     ]
    },
    {
     "name": "stderr",
     "output_type": "stream",
     "text": [
      "Epoch 1: 146011it [44:44, 62.73it/s]"
     ]
    },
    {
     "name": "stdout",
     "output_type": "stream",
     "text": [
      "Step 146000 — train_loss: 0.5337, train_mae: 0.1780, train_win_acc: 0.7802\n"
     ]
    },
    {
     "name": "stderr",
     "output_type": "stream",
     "text": [
      "Epoch 1: 147009it [44:59, 66.48it/s]"
     ]
    },
    {
     "name": "stdout",
     "output_type": "stream",
     "text": [
      "Step 147000 — train_loss: 0.5335, train_mae: 0.1779, train_win_acc: 0.7803\n"
     ]
    },
    {
     "name": "stderr",
     "output_type": "stream",
     "text": [
      "Epoch 1: 148013it [45:14, 66.87it/s]"
     ]
    },
    {
     "name": "stdout",
     "output_type": "stream",
     "text": [
      "Step 148000 — train_loss: 0.5334, train_mae: 0.1779, train_win_acc: 0.7803\n"
     ]
    },
    {
     "name": "stderr",
     "output_type": "stream",
     "text": [
      "Epoch 1: 149009it [45:28, 78.65it/s]"
     ]
    },
    {
     "name": "stdout",
     "output_type": "stream",
     "text": [
      "Step 149000 — train_loss: 0.5332, train_mae: 0.1778, train_win_acc: 0.7804\n"
     ]
    },
    {
     "name": "stderr",
     "output_type": "stream",
     "text": [
      "Epoch 1: 149997it [45:42, 67.05it/s]"
     ]
    },
    {
     "name": "stdout",
     "output_type": "stream",
     "text": [
      "Step 150000 — train_loss: 0.5330, train_mae: 0.1778, train_win_acc: 0.7805\n"
     ]
    },
    {
     "name": "stderr",
     "output_type": "stream",
     "text": [
      "Epoch 1: 150007it [45:59,  1.70it/s]"
     ]
    },
    {
     "name": "stdout",
     "output_type": "stream",
     "text": [
      "\n",
      "[Validation] Step 150000 — train_loss: 0.5330, train_mae: 0.1778, train_win_acc: 0.7805, val_loss: 0.0828, val_mae: 0.1722, val_win_acc: 0.7736, LR: 0.000117\n",
      "Saved new best model after 150000 iters\n",
      "--------Validation MAE improved to 0.172178--------\n"
     ]
    },
    {
     "name": "stderr",
     "output_type": "stream",
     "text": [
      "Epoch 1: 151010it [46:13, 78.43it/s]"
     ]
    },
    {
     "name": "stdout",
     "output_type": "stream",
     "text": [
      "Step 151000 — train_loss: 0.5328, train_mae: 0.1777, train_win_acc: 0.7806\n"
     ]
    },
    {
     "name": "stderr",
     "output_type": "stream",
     "text": [
      "Epoch 1: 152012it [46:28, 70.56it/s]"
     ]
    },
    {
     "name": "stdout",
     "output_type": "stream",
     "text": [
      "Step 152000 — train_loss: 0.5326, train_mae: 0.1776, train_win_acc: 0.7807\n"
     ]
    },
    {
     "name": "stderr",
     "output_type": "stream",
     "text": [
      "Epoch 1: 153008it [46:44, 65.61it/s]"
     ]
    },
    {
     "name": "stdout",
     "output_type": "stream",
     "text": [
      "Step 153000 — train_loss: 0.5323, train_mae: 0.1775, train_win_acc: 0.7809\n"
     ]
    },
    {
     "name": "stderr",
     "output_type": "stream",
     "text": [
      "Epoch 1: 154010it [46:59, 65.38it/s]"
     ]
    },
    {
     "name": "stdout",
     "output_type": "stream",
     "text": [
      "Step 154000 — train_loss: 0.5322, train_mae: 0.1774, train_win_acc: 0.7809\n"
     ]
    },
    {
     "name": "stderr",
     "output_type": "stream",
     "text": [
      "Epoch 1: 154993it [47:14, 63.97it/s]"
     ]
    },
    {
     "name": "stdout",
     "output_type": "stream",
     "text": [
      "Step 155000 — train_loss: 0.5320, train_mae: 0.1774, train_win_acc: 0.7810\n"
     ]
    },
    {
     "name": "stderr",
     "output_type": "stream",
     "text": [
      "Epoch 1: 155007it [47:31,  1.92it/s]"
     ]
    },
    {
     "name": "stdout",
     "output_type": "stream",
     "text": [
      "\n",
      "[Validation] Step 155000 — train_loss: 0.5320, train_mae: 0.1774, train_win_acc: 0.7810, val_loss: 0.0815, val_mae: 0.1733, val_win_acc: 0.7793, LR: 0.000110\n",
      "Saved new best model after 155000 iters\n",
      "--------No significant MAE improvement for 5000 iterations--------\n"
     ]
    },
    {
     "name": "stderr",
     "output_type": "stream",
     "text": [
      "Epoch 1: 156008it [47:47, 59.99it/s]"
     ]
    },
    {
     "name": "stdout",
     "output_type": "stream",
     "text": [
      "Step 156000 — train_loss: 0.5318, train_mae: 0.1773, train_win_acc: 0.7811\n"
     ]
    },
    {
     "name": "stderr",
     "output_type": "stream",
     "text": [
      "Epoch 1: 157011it [48:02, 66.79it/s]"
     ]
    },
    {
     "name": "stdout",
     "output_type": "stream",
     "text": [
      "Step 157000 — train_loss: 0.5316, train_mae: 0.1773, train_win_acc: 0.7812\n"
     ]
    },
    {
     "name": "stderr",
     "output_type": "stream",
     "text": [
      "Epoch 1: 158009it [48:17, 67.20it/s]"
     ]
    },
    {
     "name": "stdout",
     "output_type": "stream",
     "text": [
      "Step 158000 — train_loss: 0.5315, train_mae: 0.1772, train_win_acc: 0.7813\n"
     ]
    },
    {
     "name": "stderr",
     "output_type": "stream",
     "text": [
      "Epoch 1: 159010it [48:32, 66.44it/s]"
     ]
    },
    {
     "name": "stdout",
     "output_type": "stream",
     "text": [
      "Step 159000 — train_loss: 0.5313, train_mae: 0.1771, train_win_acc: 0.7814\n"
     ]
    },
    {
     "name": "stderr",
     "output_type": "stream",
     "text": [
      "Epoch 1: 159993it [48:47, 64.98it/s]"
     ]
    },
    {
     "name": "stdout",
     "output_type": "stream",
     "text": [
      "Step 160000 — train_loss: 0.5312, train_mae: 0.1771, train_win_acc: 0.7814\n"
     ]
    },
    {
     "name": "stderr",
     "output_type": "stream",
     "text": [
      "Epoch 1: 160006it [49:04,  1.87it/s]"
     ]
    },
    {
     "name": "stdout",
     "output_type": "stream",
     "text": [
      "\n",
      "[Validation] Step 160000 — train_loss: 0.5312, train_mae: 0.1771, train_win_acc: 0.7814, val_loss: 0.0837, val_mae: 0.1743, val_win_acc: 0.7776, LR: 0.000103\n",
      "--------No significant MAE improvement for 10000 iterations--------\n"
     ]
    },
    {
     "name": "stderr",
     "output_type": "stream",
     "text": [
      "Epoch 1: 161010it [49:19, 66.96it/s]"
     ]
    },
    {
     "name": "stdout",
     "output_type": "stream",
     "text": [
      "Step 161000 — train_loss: 0.5310, train_mae: 0.1770, train_win_acc: 0.7815\n"
     ]
    },
    {
     "name": "stderr",
     "output_type": "stream",
     "text": [
      "Epoch 1: 162006it [49:35, 62.39it/s]"
     ]
    },
    {
     "name": "stdout",
     "output_type": "stream",
     "text": [
      "Step 162000 — train_loss: 0.5309, train_mae: 0.1770, train_win_acc: 0.7816\n"
     ]
    },
    {
     "name": "stderr",
     "output_type": "stream",
     "text": [
      "Epoch 1: 163008it [49:50, 66.97it/s]"
     ]
    },
    {
     "name": "stdout",
     "output_type": "stream",
     "text": [
      "Step 163000 — train_loss: 0.5307, train_mae: 0.1769, train_win_acc: 0.7817\n"
     ]
    },
    {
     "name": "stderr",
     "output_type": "stream",
     "text": [
      "Epoch 1: 164010it [50:04, 78.98it/s]"
     ]
    },
    {
     "name": "stdout",
     "output_type": "stream",
     "text": [
      "Step 164000 — train_loss: 0.5305, train_mae: 0.1768, train_win_acc: 0.7818\n"
     ]
    },
    {
     "name": "stderr",
     "output_type": "stream",
     "text": [
      "Epoch 1: 164996it [50:19, 62.16it/s]"
     ]
    },
    {
     "name": "stdout",
     "output_type": "stream",
     "text": [
      "Step 165000 — train_loss: 0.5303, train_mae: 0.1768, train_win_acc: 0.7819\n"
     ]
    },
    {
     "name": "stderr",
     "output_type": "stream",
     "text": [
      "Epoch 1: 165007it [50:36,  1.76it/s]"
     ]
    },
    {
     "name": "stdout",
     "output_type": "stream",
     "text": [
      "\n",
      "[Validation] Step 165000 — train_loss: 0.5303, train_mae: 0.1768, train_win_acc: 0.7819, val_loss: 0.0858, val_mae: 0.1763, val_win_acc: 0.7748, LR: 0.000096\n",
      "--------No significant MAE improvement for 15000 iterations--------\n"
     ]
    },
    {
     "name": "stderr",
     "output_type": "stream",
     "text": [
      "Epoch 1: 166008it [50:52, 61.45it/s]"
     ]
    },
    {
     "name": "stdout",
     "output_type": "stream",
     "text": [
      "Step 166000 — train_loss: 0.5302, train_mae: 0.1767, train_win_acc: 0.7820\n"
     ]
    },
    {
     "name": "stderr",
     "output_type": "stream",
     "text": [
      "Epoch 1: 167008it [51:08, 71.43it/s]"
     ]
    },
    {
     "name": "stdout",
     "output_type": "stream",
     "text": [
      "Step 167000 — train_loss: 0.5300, train_mae: 0.1767, train_win_acc: 0.7820\n"
     ]
    },
    {
     "name": "stderr",
     "output_type": "stream",
     "text": [
      "Epoch 1: 168011it [51:23, 66.89it/s]"
     ]
    },
    {
     "name": "stdout",
     "output_type": "stream",
     "text": [
      "Step 168000 — train_loss: 0.5298, train_mae: 0.1766, train_win_acc: 0.7822\n"
     ]
    },
    {
     "name": "stderr",
     "output_type": "stream",
     "text": [
      "Epoch 1: 169009it [51:37, 78.37it/s]"
     ]
    },
    {
     "name": "stdout",
     "output_type": "stream",
     "text": [
      "Step 169000 — train_loss: 0.5296, train_mae: 0.1765, train_win_acc: 0.7822\n"
     ]
    },
    {
     "name": "stderr",
     "output_type": "stream",
     "text": [
      "Epoch 1: 169995it [51:50, 67.51it/s]"
     ]
    },
    {
     "name": "stdout",
     "output_type": "stream",
     "text": [
      "Step 170000 — train_loss: 0.5293, train_mae: 0.1764, train_win_acc: 0.7823\n"
     ]
    },
    {
     "name": "stderr",
     "output_type": "stream",
     "text": [
      "Epoch 1: 170007it [52:08,  1.82it/s]"
     ]
    },
    {
     "name": "stdout",
     "output_type": "stream",
     "text": [
      "\n",
      "[Validation] Step 170000 — train_loss: 0.5293, train_mae: 0.1764, train_win_acc: 0.7823, val_loss: 0.0849, val_mae: 0.1731, val_win_acc: 0.7798, LR: 0.000089\n",
      "--------No significant MAE improvement for 20000 iterations--------\n"
     ]
    },
    {
     "name": "stderr",
     "output_type": "stream",
     "text": [
      "Epoch 1: 171009it [52:23, 62.38it/s]"
     ]
    },
    {
     "name": "stdout",
     "output_type": "stream",
     "text": [
      "Step 171000 — train_loss: 0.5291, train_mae: 0.1763, train_win_acc: 0.7824\n"
     ]
    },
    {
     "name": "stderr",
     "output_type": "stream",
     "text": [
      "Epoch 1: 172012it [52:38, 63.25it/s]"
     ]
    },
    {
     "name": "stdout",
     "output_type": "stream",
     "text": [
      "Step 172000 — train_loss: 0.5289, train_mae: 0.1763, train_win_acc: 0.7825\n"
     ]
    },
    {
     "name": "stderr",
     "output_type": "stream",
     "text": [
      "Epoch 1: 173008it [52:53, 66.30it/s]"
     ]
    },
    {
     "name": "stdout",
     "output_type": "stream",
     "text": [
      "Step 173000 — train_loss: 0.5288, train_mae: 0.1762, train_win_acc: 0.7826\n"
     ]
    },
    {
     "name": "stderr",
     "output_type": "stream",
     "text": [
      "Epoch 1: 174010it [53:09, 67.16it/s]"
     ]
    },
    {
     "name": "stdout",
     "output_type": "stream",
     "text": [
      "Step 174000 — train_loss: 0.5286, train_mae: 0.1761, train_win_acc: 0.7827\n"
     ]
    },
    {
     "name": "stderr",
     "output_type": "stream",
     "text": [
      "Epoch 1: 174999it [53:23, 75.79it/s]"
     ]
    },
    {
     "name": "stdout",
     "output_type": "stream",
     "text": [
      "Step 175000 — train_loss: 0.5285, train_mae: 0.1761, train_win_acc: 0.7828\n"
     ]
    },
    {
     "name": "stderr",
     "output_type": "stream",
     "text": [
      "Epoch 1: 175007it [53:40,  1.72it/s]"
     ]
    },
    {
     "name": "stdout",
     "output_type": "stream",
     "text": [
      "\n",
      "[Validation] Step 175000 — train_loss: 0.5285, train_mae: 0.1761, train_win_acc: 0.7828, val_loss: 0.0823, val_mae: 0.1724, val_win_acc: 0.7811, LR: 0.000083\n",
      "--------No significant MAE improvement for 25000 iterations--------\n"
     ]
    },
    {
     "name": "stderr",
     "output_type": "stream",
     "text": [
      "Epoch 1: 176010it [53:55, 74.00it/s]"
     ]
    },
    {
     "name": "stdout",
     "output_type": "stream",
     "text": [
      "Step 176000 — train_loss: 0.5283, train_mae: 0.1760, train_win_acc: 0.7828\n"
     ]
    },
    {
     "name": "stderr",
     "output_type": "stream",
     "text": [
      "Epoch 1: 177008it [54:10, 65.22it/s]"
     ]
    },
    {
     "name": "stdout",
     "output_type": "stream",
     "text": [
      "Step 177000 — train_loss: 0.5281, train_mae: 0.1760, train_win_acc: 0.7829\n"
     ]
    },
    {
     "name": "stderr",
     "output_type": "stream",
     "text": [
      "Epoch 1: 178008it [54:24, 77.04it/s]"
     ]
    },
    {
     "name": "stdout",
     "output_type": "stream",
     "text": [
      "Step 178000 — train_loss: 0.5280, train_mae: 0.1759, train_win_acc: 0.7830\n"
     ]
    },
    {
     "name": "stderr",
     "output_type": "stream",
     "text": [
      "Epoch 1: 179012it [54:39, 78.17it/s]"
     ]
    },
    {
     "name": "stdout",
     "output_type": "stream",
     "text": [
      "Step 179000 — train_loss: 0.5279, train_mae: 0.1759, train_win_acc: 0.7830\n"
     ]
    },
    {
     "name": "stderr",
     "output_type": "stream",
     "text": [
      "Epoch 1: 179992it [54:53, 69.47it/s]"
     ]
    },
    {
     "name": "stdout",
     "output_type": "stream",
     "text": [
      "Step 180000 — train_loss: 0.5277, train_mae: 0.1758, train_win_acc: 0.7831\n"
     ]
    },
    {
     "name": "stderr",
     "output_type": "stream",
     "text": [
      "Epoch 1: 180007it [55:10,  2.05it/s]"
     ]
    },
    {
     "name": "stdout",
     "output_type": "stream",
     "text": [
      "\n",
      "[Validation] Step 180000 — train_loss: 0.5277, train_mae: 0.1758, train_win_acc: 0.7831, val_loss: 0.0804, val_mae: 0.1699, val_win_acc: 0.7826, LR: 0.000078\n",
      "Saved new best model after 180000 iters\n",
      "--------Validation MAE improved to 0.169874--------\n"
     ]
    },
    {
     "name": "stderr",
     "output_type": "stream",
     "text": [
      "Epoch 1: 181012it [55:26, 65.07it/s]"
     ]
    },
    {
     "name": "stdout",
     "output_type": "stream",
     "text": [
      "Step 181000 — train_loss: 0.5276, train_mae: 0.1758, train_win_acc: 0.7832\n"
     ]
    },
    {
     "name": "stderr",
     "output_type": "stream",
     "text": [
      "Epoch 1: 182010it [55:41, 64.43it/s]"
     ]
    },
    {
     "name": "stdout",
     "output_type": "stream",
     "text": [
      "Step 182000 — train_loss: 0.5274, train_mae: 0.1758, train_win_acc: 0.7833\n"
     ]
    },
    {
     "name": "stderr",
     "output_type": "stream",
     "text": [
      "Epoch 1: 183013it [55:56, 78.43it/s]"
     ]
    },
    {
     "name": "stdout",
     "output_type": "stream",
     "text": [
      "Step 183000 — train_loss: 0.5273, train_mae: 0.1757, train_win_acc: 0.7833\n"
     ]
    },
    {
     "name": "stderr",
     "output_type": "stream",
     "text": [
      "Epoch 1: 184013it [56:09, 75.68it/s]"
     ]
    },
    {
     "name": "stdout",
     "output_type": "stream",
     "text": [
      "Step 184000 — train_loss: 0.5271, train_mae: 0.1756, train_win_acc: 0.7834\n"
     ]
    },
    {
     "name": "stderr",
     "output_type": "stream",
     "text": [
      "Epoch 1: 184993it [56:24, 67.13it/s]"
     ]
    },
    {
     "name": "stdout",
     "output_type": "stream",
     "text": [
      "Step 185000 — train_loss: 0.5269, train_mae: 0.1755, train_win_acc: 0.7835\n"
     ]
    },
    {
     "name": "stderr",
     "output_type": "stream",
     "text": [
      "Epoch 1: 185008it [56:41,  2.04it/s]"
     ]
    },
    {
     "name": "stdout",
     "output_type": "stream",
     "text": [
      "\n",
      "[Validation] Step 185000 — train_loss: 0.5269, train_mae: 0.1755, train_win_acc: 0.7835, val_loss: 0.0785, val_mae: 0.1680, val_win_acc: 0.7839, LR: 0.000073\n",
      "Saved new best model after 185000 iters\n",
      "--------Validation MAE improved to 0.167983--------\n"
     ]
    },
    {
     "name": "stderr",
     "output_type": "stream",
     "text": [
      "Epoch 1: 186009it [56:56, 61.11it/s]"
     ]
    },
    {
     "name": "stdout",
     "output_type": "stream",
     "text": [
      "Step 186000 — train_loss: 0.5267, train_mae: 0.1754, train_win_acc: 0.7836\n"
     ]
    },
    {
     "name": "stderr",
     "output_type": "stream",
     "text": [
      "Epoch 1: 187007it [57:11, 66.25it/s]"
     ]
    },
    {
     "name": "stdout",
     "output_type": "stream",
     "text": [
      "Step 187000 — train_loss: 0.5265, train_mae: 0.1754, train_win_acc: 0.7837\n"
     ]
    },
    {
     "name": "stderr",
     "output_type": "stream",
     "text": [
      "Epoch 1: 188007it [57:26, 66.99it/s]"
     ]
    },
    {
     "name": "stdout",
     "output_type": "stream",
     "text": [
      "Step 188000 — train_loss: 0.5264, train_mae: 0.1753, train_win_acc: 0.7837\n"
     ]
    },
    {
     "name": "stderr",
     "output_type": "stream",
     "text": [
      "Epoch 1: 189010it [57:40, 66.94it/s]"
     ]
    },
    {
     "name": "stdout",
     "output_type": "stream",
     "text": [
      "Step 189000 — train_loss: 0.5262, train_mae: 0.1753, train_win_acc: 0.7838\n"
     ]
    },
    {
     "name": "stderr",
     "output_type": "stream",
     "text": [
      "Epoch 1: 189994it [57:54, 78.58it/s]"
     ]
    },
    {
     "name": "stdout",
     "output_type": "stream",
     "text": [
      "Step 190000 — train_loss: 0.5261, train_mae: 0.1753, train_win_acc: 0.7839\n"
     ]
    },
    {
     "name": "stderr",
     "output_type": "stream",
     "text": [
      "Epoch 1: 190007it [58:11,  2.01it/s]"
     ]
    },
    {
     "name": "stdout",
     "output_type": "stream",
     "text": [
      "\n",
      "[Validation] Step 190000 — train_loss: 0.5261, train_mae: 0.1753, train_win_acc: 0.7839, val_loss: 0.0802, val_mae: 0.1698, val_win_acc: 0.7822, LR: 0.000068\n",
      "--------No significant MAE improvement for 5000 iterations--------\n"
     ]
    },
    {
     "name": "stderr",
     "output_type": "stream",
     "text": [
      "Epoch 1: 191011it [58:26, 67.05it/s]"
     ]
    },
    {
     "name": "stdout",
     "output_type": "stream",
     "text": [
      "Step 191000 — train_loss: 0.5259, train_mae: 0.1752, train_win_acc: 0.7840\n"
     ]
    },
    {
     "name": "stderr",
     "output_type": "stream",
     "text": [
      "Epoch 1: 192009it [58:39, 78.35it/s]"
     ]
    },
    {
     "name": "stdout",
     "output_type": "stream",
     "text": [
      "Step 192000 — train_loss: 0.5257, train_mae: 0.1752, train_win_acc: 0.7841\n"
     ]
    },
    {
     "name": "stderr",
     "output_type": "stream",
     "text": [
      "Epoch 1: 193014it [58:53, 78.65it/s]"
     ]
    },
    {
     "name": "stdout",
     "output_type": "stream",
     "text": [
      "Step 193000 — train_loss: 0.5256, train_mae: 0.1751, train_win_acc: 0.7842\n"
     ]
    },
    {
     "name": "stderr",
     "output_type": "stream",
     "text": [
      "Epoch 1: 194010it [59:07, 66.83it/s]"
     ]
    },
    {
     "name": "stdout",
     "output_type": "stream",
     "text": [
      "Step 194000 — train_loss: 0.5254, train_mae: 0.1751, train_win_acc: 0.7842\n"
     ]
    },
    {
     "name": "stderr",
     "output_type": "stream",
     "text": [
      "Epoch 1: 194999it [59:21, 66.72it/s]"
     ]
    },
    {
     "name": "stdout",
     "output_type": "stream",
     "text": [
      "Step 195000 — train_loss: 0.5252, train_mae: 0.1750, train_win_acc: 0.7843\n"
     ]
    },
    {
     "name": "stderr",
     "output_type": "stream",
     "text": [
      "Epoch 1: 195007it [59:38,  1.59it/s]"
     ]
    },
    {
     "name": "stdout",
     "output_type": "stream",
     "text": [
      "\n",
      "[Validation] Step 195000 — train_loss: 0.5252, train_mae: 0.1750, train_win_acc: 0.7843, val_loss: 0.0798, val_mae: 0.1679, val_win_acc: 0.7877, LR: 0.000064\n",
      "--------No significant MAE improvement for 10000 iterations--------\n"
     ]
    },
    {
     "name": "stderr",
     "output_type": "stream",
     "text": [
      "Epoch 1: 196009it [59:54, 66.26it/s]"
     ]
    },
    {
     "name": "stdout",
     "output_type": "stream",
     "text": [
      "Step 196000 — train_loss: 0.5251, train_mae: 0.1749, train_win_acc: 0.7844\n"
     ]
    },
    {
     "name": "stderr",
     "output_type": "stream",
     "text": [
      "Epoch 1: 197010it [1:00:08, 65.59it/s]"
     ]
    },
    {
     "name": "stdout",
     "output_type": "stream",
     "text": [
      "Step 197000 — train_loss: 0.5249, train_mae: 0.1749, train_win_acc: 0.7845\n"
     ]
    },
    {
     "name": "stderr",
     "output_type": "stream",
     "text": [
      "Epoch 1: 198012it [1:00:24, 65.68it/s]"
     ]
    },
    {
     "name": "stdout",
     "output_type": "stream",
     "text": [
      "Step 198000 — train_loss: 0.5247, train_mae: 0.1748, train_win_acc: 0.7845\n"
     ]
    },
    {
     "name": "stderr",
     "output_type": "stream",
     "text": [
      "Epoch 1: 199012it [1:00:39, 68.72it/s]"
     ]
    },
    {
     "name": "stdout",
     "output_type": "stream",
     "text": [
      "Step 199000 — train_loss: 0.5246, train_mae: 0.1747, train_win_acc: 0.7846\n"
     ]
    },
    {
     "name": "stderr",
     "output_type": "stream",
     "text": [
      "Epoch 1: 199997it [1:00:55, 69.71it/s]"
     ]
    },
    {
     "name": "stdout",
     "output_type": "stream",
     "text": [
      "Step 200000 — train_loss: 0.5244, train_mae: 0.1747, train_win_acc: 0.7847\n"
     ]
    },
    {
     "name": "stderr",
     "output_type": "stream",
     "text": [
      "Epoch 1: 200006it [1:01:12,  1.70it/s]"
     ]
    },
    {
     "name": "stdout",
     "output_type": "stream",
     "text": [
      "\n",
      "[Validation] Step 200000 — train_loss: 0.5244, train_mae: 0.1747, train_win_acc: 0.7847, val_loss: 0.0790, val_mae: 0.1673, val_win_acc: 0.7847, LR: 0.000060\n",
      "--------Validation MAE improved to 0.167305--------\n"
     ]
    },
    {
     "name": "stderr",
     "output_type": "stream",
     "text": [
      "Epoch 1: 201010it [1:01:27, 66.94it/s]"
     ]
    },
    {
     "name": "stdout",
     "output_type": "stream",
     "text": [
      "Step 201000 — train_loss: 0.5243, train_mae: 0.1746, train_win_acc: 0.7847\n"
     ]
    },
    {
     "name": "stderr",
     "output_type": "stream",
     "text": [
      "Epoch 1: 202008it [1:01:41, 67.64it/s]"
     ]
    },
    {
     "name": "stdout",
     "output_type": "stream",
     "text": [
      "Step 202000 — train_loss: 0.5241, train_mae: 0.1746, train_win_acc: 0.7848\n"
     ]
    },
    {
     "name": "stderr",
     "output_type": "stream",
     "text": [
      "Epoch 1: 203010it [1:01:56, 56.31it/s]"
     ]
    },
    {
     "name": "stdout",
     "output_type": "stream",
     "text": [
      "Step 203000 — train_loss: 0.5240, train_mae: 0.1745, train_win_acc: 0.7849\n"
     ]
    },
    {
     "name": "stderr",
     "output_type": "stream",
     "text": [
      "Epoch 1: 204013it [1:02:10, 78.01it/s]"
     ]
    },
    {
     "name": "stdout",
     "output_type": "stream",
     "text": [
      "Step 204000 — train_loss: 0.5238, train_mae: 0.1744, train_win_acc: 0.7850\n"
     ]
    },
    {
     "name": "stderr",
     "output_type": "stream",
     "text": [
      "Epoch 1: 204995it [1:02:24, 66.73it/s]"
     ]
    },
    {
     "name": "stdout",
     "output_type": "stream",
     "text": [
      "Step 205000 — train_loss: 0.5236, train_mae: 0.1743, train_win_acc: 0.7850\n"
     ]
    },
    {
     "name": "stderr",
     "output_type": "stream",
     "text": [
      "Epoch 1: 205007it [1:02:41,  1.78it/s]"
     ]
    },
    {
     "name": "stdout",
     "output_type": "stream",
     "text": [
      "\n",
      "[Validation] Step 205000 — train_loss: 0.5236, train_mae: 0.1743, train_win_acc: 0.7850, val_loss: 0.0783, val_mae: 0.1663, val_win_acc: 0.7878, LR: 0.000057\n",
      "Saved new best model after 205000 iters\n",
      "--------Validation MAE improved to 0.166273--------\n"
     ]
    },
    {
     "name": "stderr",
     "output_type": "stream",
     "text": [
      "Epoch 1: 206011it [1:02:57, 63.30it/s]"
     ]
    },
    {
     "name": "stdout",
     "output_type": "stream",
     "text": [
      "Step 206000 — train_loss: 0.5234, train_mae: 0.1743, train_win_acc: 0.7851\n"
     ]
    },
    {
     "name": "stderr",
     "output_type": "stream",
     "text": [
      "Epoch 1: 207008it [1:03:10, 68.03it/s]"
     ]
    },
    {
     "name": "stdout",
     "output_type": "stream",
     "text": [
      "Step 207000 — train_loss: 0.5233, train_mae: 0.1742, train_win_acc: 0.7852\n"
     ]
    },
    {
     "name": "stderr",
     "output_type": "stream",
     "text": [
      "Epoch 1: 208010it [1:03:25, 63.37it/s]"
     ]
    },
    {
     "name": "stdout",
     "output_type": "stream",
     "text": [
      "Step 208000 — train_loss: 0.5231, train_mae: 0.1742, train_win_acc: 0.7853\n"
     ]
    },
    {
     "name": "stderr",
     "output_type": "stream",
     "text": [
      "Epoch 1: 209008it [1:03:40, 66.69it/s]"
     ]
    },
    {
     "name": "stdout",
     "output_type": "stream",
     "text": [
      "Step 209000 — train_loss: 0.5229, train_mae: 0.1741, train_win_acc: 0.7854\n"
     ]
    },
    {
     "name": "stderr",
     "output_type": "stream",
     "text": [
      "Epoch 1: 209996it [1:03:56, 66.93it/s]"
     ]
    },
    {
     "name": "stdout",
     "output_type": "stream",
     "text": [
      "Step 210000 — train_loss: 0.5227, train_mae: 0.1741, train_win_acc: 0.7855\n"
     ]
    },
    {
     "name": "stderr",
     "output_type": "stream",
     "text": [
      "Epoch 1: 210007it [1:04:13,  1.73it/s]"
     ]
    },
    {
     "name": "stdout",
     "output_type": "stream",
     "text": [
      "\n",
      "[Validation] Step 210000 — train_loss: 0.5227, train_mae: 0.1741, train_win_acc: 0.7855, val_loss: 0.0884, val_mae: 0.1752, val_win_acc: 0.7802, LR: 0.000055\n",
      "--------No significant MAE improvement for 5000 iterations--------\n"
     ]
    },
    {
     "name": "stderr",
     "output_type": "stream",
     "text": [
      "Epoch 1: 211008it [1:04:29, 63.89it/s]"
     ]
    },
    {
     "name": "stdout",
     "output_type": "stream",
     "text": [
      "Step 211000 — train_loss: 0.5226, train_mae: 0.1740, train_win_acc: 0.7855\n"
     ]
    },
    {
     "name": "stderr",
     "output_type": "stream",
     "text": [
      "Epoch 1: 212005it [1:04:45, 70.56it/s]"
     ]
    },
    {
     "name": "stdout",
     "output_type": "stream",
     "text": [
      "Step 212000 — train_loss: 0.5225, train_mae: 0.1739, train_win_acc: 0.7856\n"
     ]
    },
    {
     "name": "stderr",
     "output_type": "stream",
     "text": [
      "Epoch 1: 213008it [1:05:00, 66.47it/s]"
     ]
    },
    {
     "name": "stdout",
     "output_type": "stream",
     "text": [
      "Step 213000 — train_loss: 0.5220, train_mae: 0.1739, train_win_acc: 0.7858\n"
     ]
    },
    {
     "name": "stderr",
     "output_type": "stream",
     "text": [
      "Epoch 1: 214010it [1:05:15, 62.81it/s]"
     ]
    },
    {
     "name": "stdout",
     "output_type": "stream",
     "text": [
      "Step 214000 — train_loss: 0.5218, train_mae: 0.1738, train_win_acc: 0.7859\n"
     ]
    },
    {
     "name": "stderr",
     "output_type": "stream",
     "text": [
      "Epoch 1: 214997it [1:05:30, 62.66it/s]"
     ]
    },
    {
     "name": "stdout",
     "output_type": "stream",
     "text": [
      "Step 215000 — train_loss: 0.5217, train_mae: 0.1737, train_win_acc: 0.7860\n"
     ]
    },
    {
     "name": "stderr",
     "output_type": "stream",
     "text": [
      "Epoch 1: 215007it [1:05:48,  1.68it/s]"
     ]
    },
    {
     "name": "stdout",
     "output_type": "stream",
     "text": [
      "\n",
      "[Validation] Step 215000 — train_loss: 0.5217, train_mae: 0.1737, train_win_acc: 0.7860, val_loss: 0.0793, val_mae: 0.1683, val_win_acc: 0.7855, LR: 0.000053\n",
      "--------No significant MAE improvement for 10000 iterations--------\n"
     ]
    },
    {
     "name": "stderr",
     "output_type": "stream",
     "text": [
      "Epoch 1: 216006it [1:06:03, 61.81it/s]"
     ]
    },
    {
     "name": "stdout",
     "output_type": "stream",
     "text": [
      "Step 216000 — train_loss: 0.5216, train_mae: 0.1737, train_win_acc: 0.7860\n"
     ]
    },
    {
     "name": "stderr",
     "output_type": "stream",
     "text": [
      "Epoch 1: 217012it [1:06:18, 72.24it/s]"
     ]
    },
    {
     "name": "stdout",
     "output_type": "stream",
     "text": [
      "Step 217000 — train_loss: 0.5215, train_mae: 0.1737, train_win_acc: 0.7861\n"
     ]
    },
    {
     "name": "stderr",
     "output_type": "stream",
     "text": [
      "Epoch 1: 218011it [1:06:32, 63.92it/s]"
     ]
    },
    {
     "name": "stdout",
     "output_type": "stream",
     "text": [
      "Step 218000 — train_loss: 0.5213, train_mae: 0.1736, train_win_acc: 0.7862\n"
     ]
    },
    {
     "name": "stderr",
     "output_type": "stream",
     "text": [
      "Epoch 1: 219006it [1:06:48, 62.83it/s]"
     ]
    },
    {
     "name": "stdout",
     "output_type": "stream",
     "text": [
      "Step 219000 — train_loss: 0.5212, train_mae: 0.1736, train_win_acc: 0.7862\n"
     ]
    },
    {
     "name": "stderr",
     "output_type": "stream",
     "text": [
      "Epoch 1: 219995it [1:07:02, 67.24it/s]"
     ]
    },
    {
     "name": "stdout",
     "output_type": "stream",
     "text": [
      "Step 220000 — train_loss: 0.5211, train_mae: 0.1736, train_win_acc: 0.7863\n"
     ]
    },
    {
     "name": "stderr",
     "output_type": "stream",
     "text": [
      "Epoch 1: 220007it [1:07:20,  1.79it/s]"
     ]
    },
    {
     "name": "stdout",
     "output_type": "stream",
     "text": [
      "\n",
      "[Validation] Step 220000 — train_loss: 0.5211, train_mae: 0.1736, train_win_acc: 0.7863, val_loss: 0.0789, val_mae: 0.1669, val_win_acc: 0.7880, LR: 0.000051\n",
      "--------No significant MAE improvement for 15000 iterations--------\n"
     ]
    },
    {
     "name": "stderr",
     "output_type": "stream",
     "text": [
      "Epoch 1: 221010it [1:07:35, 67.32it/s]"
     ]
    },
    {
     "name": "stdout",
     "output_type": "stream",
     "text": [
      "Step 221000 — train_loss: 0.5209, train_mae: 0.1735, train_win_acc: 0.7864\n"
     ]
    },
    {
     "name": "stderr",
     "output_type": "stream",
     "text": [
      "Epoch 1: 222011it [1:07:50, 67.83it/s]"
     ]
    },
    {
     "name": "stdout",
     "output_type": "stream",
     "text": [
      "Step 222000 — train_loss: 0.5208, train_mae: 0.1735, train_win_acc: 0.7864\n"
     ]
    },
    {
     "name": "stderr",
     "output_type": "stream",
     "text": [
      "Epoch 1: 223009it [1:08:02, 78.39it/s]"
     ]
    },
    {
     "name": "stdout",
     "output_type": "stream",
     "text": [
      "Step 223000 — train_loss: 0.5206, train_mae: 0.1734, train_win_acc: 0.7865\n"
     ]
    },
    {
     "name": "stderr",
     "output_type": "stream",
     "text": [
      "Epoch 1: 224009it [1:08:15, 78.55it/s]"
     ]
    },
    {
     "name": "stdout",
     "output_type": "stream",
     "text": [
      "Step 224000 — train_loss: 0.5205, train_mae: 0.1734, train_win_acc: 0.7866\n"
     ]
    },
    {
     "name": "stderr",
     "output_type": "stream",
     "text": [
      "Epoch 1: 224998it [1:08:29, 71.20it/s]"
     ]
    },
    {
     "name": "stdout",
     "output_type": "stream",
     "text": [
      "Step 225000 — train_loss: 0.5204, train_mae: 0.1733, train_win_acc: 0.7866\n"
     ]
    },
    {
     "name": "stderr",
     "output_type": "stream",
     "text": [
      "Epoch 1: 225007it [1:08:47,  1.68it/s]"
     ]
    },
    {
     "name": "stdout",
     "output_type": "stream",
     "text": [
      "\n",
      "[Validation] Step 225000 — train_loss: 0.5204, train_mae: 0.1733, train_win_acc: 0.7866, val_loss: 0.0778, val_mae: 0.1667, val_win_acc: 0.7890, LR: 0.000050\n",
      "Saved new best model after 225000 iters\n",
      "--------No significant MAE improvement for 20000 iterations--------\n"
     ]
    },
    {
     "name": "stderr",
     "output_type": "stream",
     "text": [
      "Epoch 1: 226013it [1:09:02, 73.51it/s]"
     ]
    },
    {
     "name": "stdout",
     "output_type": "stream",
     "text": [
      "Step 226000 — train_loss: 0.5203, train_mae: 0.1733, train_win_acc: 0.7867\n"
     ]
    },
    {
     "name": "stderr",
     "output_type": "stream",
     "text": [
      "Epoch 1: 227011it [1:09:17, 62.23it/s]"
     ]
    },
    {
     "name": "stdout",
     "output_type": "stream",
     "text": [
      "Step 227000 — train_loss: 0.5202, train_mae: 0.1733, train_win_acc: 0.7867\n"
     ]
    },
    {
     "name": "stderr",
     "output_type": "stream",
     "text": [
      "Epoch 1: 228007it [1:09:33, 62.14it/s]"
     ]
    },
    {
     "name": "stdout",
     "output_type": "stream",
     "text": [
      "Step 228000 — train_loss: 0.5201, train_mae: 0.1732, train_win_acc: 0.7868\n"
     ]
    },
    {
     "name": "stderr",
     "output_type": "stream",
     "text": [
      "Epoch 1: 229007it [1:09:49, 62.27it/s]"
     ]
    },
    {
     "name": "stdout",
     "output_type": "stream",
     "text": [
      "Step 229000 — train_loss: 0.5199, train_mae: 0.1732, train_win_acc: 0.7868\n"
     ]
    },
    {
     "name": "stderr",
     "output_type": "stream",
     "text": [
      "Epoch 1: 229688it [1:10:00, 54.69it/s]\n"
     ]
    }
   ],
   "source": [
    "best_val_loss = float('inf')\n",
    "best_val_mae = float('inf')\n",
    "num_iterations = 0\n",
    "patience_counter = 0\n",
    "\n",
    "PATIENCE = 30000\n",
    "MIN_IMPROVEMENT = 5e-4\n",
    "VAL_ITERS = 5000\n",
    "LOG_ITERS = 1000\n",
    "\n",
    "early_stop = False\n",
    "\n",
    "steps = []\n",
    "train_losses, train_maes, train_win_accs = [], [], []\n",
    "val_losses, val_maes, val_win_accs = [], [], []\n",
    "\n",
    "for epoch in range(1, NUM_EPOCHS + 1):\n",
    "    if early_stop:\n",
    "        break\n",
    "\n",
    "    model.train()\n",
    "    total_loss = 0.0\n",
    "    total_mae = 0.0\n",
    "    total_win_correct = 0\n",
    "    total_samples = 0\n",
    "\n",
    "    for inputs, labels, winning_labels in tqdm(train_loader, desc=f\"Epoch {epoch}\"):\n",
    "        inputs, labels, winning_labels = inputs.to(DEVICE), labels.to(DEVICE), winning_labels.to(DEVICE)\n",
    "\n",
    "        optimizer.zero_grad()\n",
    "        eval_pred, win_pred = model(inputs)\n",
    "\n",
    "        loss_eval = eval_criterion(eval_pred.squeeze(), labels)\n",
    "        loss_win = win_criterion(win_pred.squeeze(), winning_labels)\n",
    "\n",
    "        loss = loss_eval + loss_win\n",
    "\n",
    "        loss.backward()\n",
    "        optimizer.step()\n",
    "        scheduler.step()\n",
    "\n",
    "        batch_loss = loss.item()\n",
    "        batch_mae = torch.mean(torch.abs(eval_pred.squeeze() - labels)).item()\n",
    "\n",
    "        # Calculate batch binary accuracy\n",
    "        win_pred_labels = (torch.sigmoid(win_pred.squeeze()) > 0.5).float()\n",
    "        batch_win_acc = (win_pred_labels == winning_labels).float().mean().item()\n",
    "\n",
    "        total_loss += batch_loss * inputs.size(0)\n",
    "        total_mae += batch_mae * inputs.size(0)\n",
    "        total_win_correct += (win_pred_labels == winning_labels).sum().item()\n",
    "        total_samples += inputs.size(0)\n",
    "        num_iterations += 1\n",
    "\n",
    "        if num_iterations % LOG_ITERS == 0:\n",
    "            avg_train_loss = total_loss / total_samples\n",
    "            avg_train_mae = total_mae / total_samples\n",
    "            avg_train_win_acc = total_win_correct / total_samples\n",
    "\n",
    "            print(f\"Step {num_iterations} — train_loss: {avg_train_loss:.4f}, train_mae: {avg_train_mae:.4f}, train_win_acc: {avg_train_win_acc:.4f}\")\n",
    "\n",
    "    # Validation every VAL_ITERS iterations\n",
    "        if num_iterations % VAL_ITERS == 0:\n",
    "            model.eval()\n",
    "            val_loss_sum = 0.0\n",
    "            val_mae_sum = 0.0\n",
    "            val_win_correct = 0\n",
    "            val_total_samples = 0\n",
    "\n",
    "            with torch.no_grad():\n",
    "                for val_inputs, val_labels, val_winning_labels in val_loader:\n",
    "                    val_inputs, val_labels, val_winning_labels = val_inputs.to(DEVICE), val_labels.to(DEVICE), val_winning_labels.to(DEVICE)\n",
    "\n",
    "                    val_pred, val_win_pred = model(val_inputs)\n",
    "\n",
    "                    val_loss = eval_criterion(val_pred.squeeze(), val_labels)\n",
    "                    val_mae = torch.mean(torch.abs(val_pred.squeeze() - val_labels))\n",
    "\n",
    "                    val_loss_sum += val_loss.item() * val_inputs.size(0)\n",
    "                    val_mae_sum += val_mae.item() * val_inputs.size(0)\n",
    "\n",
    "                    val_win_preds = (torch.sigmoid(val_win_pred.squeeze()) > 0.5).float()\n",
    "                    val_win_correct += (val_win_preds == val_winning_labels).sum().item()\n",
    "\n",
    "                    val_total_samples += val_inputs.size(0)\n",
    "\n",
    "            avg_val_loss = val_loss_sum / val_total_samples\n",
    "            avg_val_mae = val_mae_sum / val_total_samples\n",
    "            avg_val_win_acc = val_win_correct / val_total_samples\n",
    "\n",
    "            avg_train_loss = total_loss / total_samples\n",
    "            avg_train_mae = total_mae / total_samples\n",
    "            avg_train_win_acc = total_win_correct / total_samples\n",
    "\n",
    "            print(f\"\\n[Validation] Step {num_iterations} — train_loss: {avg_train_loss:.4f}, train_mae: {avg_train_mae:.4f}, train_win_acc: {avg_train_win_acc:.4f}, val_loss: {avg_val_loss:.4f}, val_mae: {avg_val_mae:.4f}, val_win_acc: {avg_val_win_acc:.4f}, LR: {scheduler.get_last_lr()[0]:.6f}\")\n",
    "\n",
    "            steps.append(num_iterations)\n",
    "            train_losses.append(avg_train_loss)\n",
    "            train_maes.append(avg_train_mae)\n",
    "            train_win_accs.append(avg_train_win_acc)\n",
    "\n",
    "            val_losses.append(avg_val_loss)\n",
    "            val_maes.append(avg_val_mae)\n",
    "            val_win_accs.append(avg_val_win_acc)\n",
    "\n",
    "            # Checkpoint best\n",
    "            if avg_val_loss < best_val_loss:\n",
    "                best_val_loss = avg_val_loss\n",
    "                torch.save(model.state_dict(), \"best_chess_mlp.pth\")\n",
    "                print(f\"Saved new best model after {num_iterations} iters\")\n",
    "            \n",
    "            # Early stopping on validation MAE\n",
    "            if avg_val_mae + MIN_IMPROVEMENT < best_val_mae:\n",
    "                best_val_mae = avg_val_mae\n",
    "                patience_counter = 0\n",
    "                print(f\"--------Validation MAE improved to {best_val_mae:.6f}--------\")\n",
    "            else:\n",
    "                patience_counter += VAL_ITERS\n",
    "                print(f\"--------No significant MAE improvement for {patience_counter} iterations--------\")\n",
    "\n",
    "            if patience_counter >= PATIENCE:\n",
    "                print(f\"Early stopping triggered at {num_iterations} iterations (no significant MAE improvement)\")\n",
    "                early_stop = True\n",
    "                break\n",
    "\n",
    "            model.train()"
   ]
  },
  {
   "cell_type": "code",
   "execution_count": 47,
   "id": "f16bafd1-5076-485c-99eb-655fefc84ad0",
   "metadata": {},
   "outputs": [
    {
     "name": "stdout",
     "output_type": "stream",
     "text": [
      "Test results: test_loss: 0.5306, test_mae: 0.1663, test_acc: 0.7892\n"
     ]
    }
   ],
   "source": [
    "model.eval()\n",
    "test_loss_sum = 0.0\n",
    "test_mae_sum = 0.0\n",
    "test_acc_sum = 0.0\n",
    "total_samples = 0\n",
    "with torch.no_grad():\n",
    "    for test_inputs, test_labels, test_winning_labels in test_loader:\n",
    "        test_inputs = test_inputs.to(DEVICE)\n",
    "        test_labels = test_labels.to(DEVICE)\n",
    "        test_winning_labels = test_winning_labels.to(DEVICE)\n",
    "\n",
    "        eval_pred, win_pred = model(test_inputs)\n",
    "\n",
    "        # Compute losses\n",
    "        loss_eval = eval_criterion(eval_pred.squeeze(), test_labels)\n",
    "        loss_win = win_criterion(win_pred.squeeze(), test_winning_labels)\n",
    "\n",
    "        loss = loss_eval + loss_win\n",
    "\n",
    "        # Compute MAE\n",
    "        mae = torch.mean(torch.abs(eval_pred.squeeze() - test_labels))\n",
    "\n",
    "        # Compute binary classification accuracy\n",
    "        win_pred_labels = (torch.sigmoid(win_pred.squeeze()) > 0.5).float()\n",
    "        acc = (win_pred_labels == test_winning_labels).float().mean()\n",
    "\n",
    "        # Aggregate\n",
    "        batch_size = test_inputs.size(0)\n",
    "        test_loss_sum += loss.item() * batch_size\n",
    "        test_mae_sum += mae.item() * batch_size\n",
    "        test_acc_sum += acc.item() * batch_size\n",
    "        total_samples += batch_size\n",
    "\n",
    "avg_test_loss = test_loss_sum / total_samples\n",
    "avg_test_mae = test_mae_sum / total_samples\n",
    "avg_test_acc = test_acc_sum / total_samples\n",
    "\n",
    "print(f\"Test results: test_loss: {avg_test_loss:.4f}, test_mae: {avg_test_mae:.4f}, test_acc: {avg_test_acc:.4f}\")\n"
   ]
  },
  {
   "cell_type": "code",
   "execution_count": 51,
   "id": "8378f466-4474-46ee-8a66-a48f5eadcc01",
   "metadata": {},
   "outputs": [
    {
     "data": {
      "image/png": "[encoded data removed]",
      "text/plain": [
       "<Figure size 1200x600 with 1 Axes>"
      ]
     },
     "metadata": {},
     "output_type": "display_data"
    },
    {
     "data": {
      "image/png": "[encoded data removed]",
      "text/plain": [
       "<Figure size 1200x600 with 1 Axes>"
      ]
     },
     "metadata": {},
     "output_type": "display_data"
    },
    {
     "data": {
      "image/png": "[encoded data removed]",
      "text/plain": [
       "<Figure size 1200x600 with 1 Axes>"
      ]
     },
     "metadata": {},
     "output_type": "display_data"
    }
   ],
   "source": [
    "# --- Plotting Loss Curves ---\n",
    "plt.figure(figsize=(12, 6))  # Set the figure size\n",
    "plt.plot(steps, train_losses, label='Train Loss at Validation Step')\n",
    "# plt.plot(steps, val_losses, label='Validation Loss')\n",
    "plt.xlabel('Training Steps')\n",
    "plt.ylabel('Loss')\n",
    "plt.title('Training Loss Curve vs. Steps')\n",
    "plt.legend()\n",
    "plt.grid(True)  # Add a grid for better readability\n",
    "plt.tight_layout()  # Adjust layout\n",
    "\n",
    "# --- Plotting MAE Curves ---\n",
    "plt.figure(figsize=(12, 6))  # Set the figure size\n",
    "plt.plot(steps, train_maes, label='Train MAE at Validation Step')\n",
    "plt.plot(steps, val_maes, label='Validation MAE')\n",
    "plt.xlabel('Training Steps')\n",
    "plt.ylabel('MAE')\n",
    "plt.title('Training and Validation MAE Curves vs. Steps')\n",
    "plt.legend()\n",
    "plt.grid(True)  # Add a grid for better readability\n",
    "plt.tight_layout()  # Adjust layout\n",
    "\n",
    "# --- Plotting Accuracy Curves ---\n",
    "plt.figure(figsize=(12, 6))  # Set the figure size\n",
    "plt.plot(steps, train_win_accs, label='Train Accuracy at Validation Step')\n",
    "plt.plot(steps, val_win_accs, label='Validation Accuracy')\n",
    "plt.xlabel('Training Steps')\n",
    "plt.ylabel('Accuracy')\n",
    "plt.title('Training and Validation Accuracy Curves vs. Steps')\n",
    "plt.legend()\n",
    "plt.grid(True)  # Add a grid for better readability\n",
    "plt.tight_layout()  # Adjust layout\n",
    "\n",
    "# Show all the plots\n",
    "plt.show()"
   ]
  },
  {
   "cell_type": "code",
   "execution_count": null,
   "id": "8e8a495a-4145-4c2f-a6e7-8b5e48e3a90a",
   "metadata": {},
   "outputs": [],
   "source": []
  }
 ],
 "metadata": {
  "kernelspec": {
   "display_name": "Python 3 (ipykernel)",
   "language": "python",
   "name": "python3"
  },
  "language_info": {
   "codemirror_mode": {
    "name": "ipython",
    "version": 3
   },
   "file_extension": ".py",
   "mimetype": "text/x-python",
   "name": "python",
   "nbconvert_exporter": "python",
   "pygments_lexer": "ipython3",
   "version": "3.11.10"
  }
 },
 "nbformat": 4,
 "nbformat_minor": 5
}
