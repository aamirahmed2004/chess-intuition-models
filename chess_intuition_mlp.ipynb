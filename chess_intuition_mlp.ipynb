{
 "cells": [
  {
   "cell_type": "code",
   "execution_count": 2,
   "id": "39bf8bca",
   "metadata": {},
   "outputs": [],
   "source": [
    "from datasets import load_dataset, load_from_disk, DatasetDict, Dataset\n",
    "import torch\n",
    "import torch.nn as nn\n",
    "from torch.optim.lr_scheduler import CosineAnnealingLR\n",
    "import os\n",
    "import numpy as np\n",
    "# import torch.nn.functional as F\n",
    "from torch.utils.data import DataLoader\n",
    "from preprocessing import fen_to_piece_maps\n",
    "from tqdm import tqdm\n",
    "\n",
    "torch.set_float32_matmul_precision('medium')"
   ]
  },
  {
   "cell_type": "code",
   "execution_count": 3,
   "id": "5a98baaf",
   "metadata": {},
   "outputs": [],
   "source": [
    "DEVICE = torch.device(\"cuda\" if torch.cuda.is_available() else \"cpu\")\n",
    "if DEVICE == torch.device(\"cpu\"):\n",
    "    print(\"Using CPU, not recommended\")"
   ]
  },
  {
   "cell_type": "code",
   "execution_count": 22,
   "id": "e877cb9b",
   "metadata": {},
   "outputs": [],
   "source": [
    "def collate_fn(batch):\n",
    "    batch_fens = [example['fen'] for example in batch]\n",
    "    labels = torch.tensor(\n",
    "        [example['target'] for example in batch],\n",
    "        dtype=torch.float32\n",
    "    )\n",
    "\n",
    "    winning_labels = []\n",
    "    inputs = []\n",
    "\n",
    "    for example in batch:\n",
    "        fen = example['fen']\n",
    "        target = example['target']\n",
    "        \n",
    "        # Parse side to move\n",
    "        stm = fen.split()[1]  # 'w' or 'b'\n",
    "\n",
    "        # Compute winning label\n",
    "        if (stm == 'w' and target > 0) or (stm == 'b' and target < 0):\n",
    "            winning = 1\n",
    "        else:\n",
    "            winning = 0\n",
    "\n",
    "        winning_labels.append(winning)\n",
    "\n",
    "        # Process input\n",
    "        inputs.append(torch.tensor(fen_to_piece_maps(fen), dtype=torch.float32))\n",
    "\n",
    "    inputs = torch.stack(inputs)\n",
    "    winning_labels = torch.tensor(winning_labels, dtype=torch.float32)  # Make sure it's float32 for BCEWithLogitsLoss etc.\n",
    "\n",
    "    return inputs, labels, winning_labels"
   ]
  },
  {
   "cell_type": "code",
   "execution_count": 23,
   "id": "fdd1461b",
   "metadata": {},
   "outputs": [],
   "source": [
    "train_dataset = load_from_disk(os.path.join(os.getcwd(), \"processed_data/lichess_db_eval_10m/train\"))\n",
    "val_dataset = load_from_disk(os.path.join(os.getcwd(), \"processed_data/lichess_db_eval_10m/validation\"))\n",
    "test_dataset = load_from_disk(os.path.join(os.getcwd(), \"processed_data/lichess_db_eval_10m/test\"))\n",
    "\n",
    "num_training_examples = len(train_dataset)\n",
    "\n",
    "train_dataset = train_dataset.to_iterable_dataset(num_shards=32)\n",
    "val_dataset = val_dataset.to_iterable_dataset()\n",
    "test_dataset = test_dataset.to_iterable_dataset()\n",
    "\n",
    "train_dataset = train_dataset.shuffle(buffer_size=10000)\n",
    "val_dataset = val_dataset.shuffle(buffer_size=10000)\n",
    "test_dataset = test_dataset.shuffle(buffer_size=10000)"
   ]
  },
  {
   "cell_type": "code",
   "execution_count": null,
   "id": "29a43692",
   "metadata": {},
   "outputs": [],
   "source": [
    "# dataset = load_from_disk(os.path.join(os.getcwd(), \"processed_data/lichess_db_eval_10m\"))\n",
    "\n",
    "# # Split the dataset into train, validation, and test sets\n",
    "# train_size = int(0.98 * len(dataset))\n",
    "# val_size = int(0.01 * len(dataset))\n",
    "# test_size = len(dataset) - train_size - val_size\n",
    "\n",
    "# train_dataset, val_dataset, test_dataset = torch.utils.data.random_split(\n",
    "#     dataset, [train_size, val_size, test_size]\n",
    "# )\n",
    "\n",
    "# # Convert to iterable datasets\n",
    "# train_dataset = train_dataset.dataset.to_iterable_dataset(num_shards=32)\n",
    "# val_dataset = val_dataset.dataset.to_iterable_dataset()\n",
    "# test_dataset = test_dataset.dataset.to_iterable_dataset()\n",
    "\n",
    "# # Shuffle the datasets\n",
    "# train_dataset = train_dataset.shuffle(buffer_size=10000)\n",
    "# val_dataset = val_dataset.shuffle(buffer_size=10000)\n",
    "# test_dataset = test_dataset.shuffle(buffer_size=10000)"
   ]
  },
  {
   "cell_type": "code",
   "execution_count": 24,
   "id": "5ccc7126",
   "metadata": {},
   "outputs": [],
   "source": [
    "train_loader = DataLoader(train_dataset, batch_size=256, collate_fn=collate_fn)\n",
    "val_loader = DataLoader(val_dataset, batch_size=256, collate_fn=collate_fn)\n",
    "test_loader = DataLoader(test_dataset, batch_size=256, collate_fn=collate_fn)"
   ]
  },
  {
   "cell_type": "code",
   "execution_count": 25,
   "id": "d2e42069",
   "metadata": {},
   "outputs": [],
   "source": [
    "import torch\n",
    "import torch.nn as nn\n",
    "\n",
    "class FFN(nn.Module):\n",
    "    def __init__(self, input_size, hidden_size=256, dropout_prob=0.2):\n",
    "        super().__init__()\n",
    "        self.fc1 = nn.Linear(input_size, hidden_size)\n",
    "        self.relu = nn.ReLU(inplace=True)\n",
    "        self.dropout = nn.Dropout(p=dropout_prob)\n",
    "        self.fc2 = nn.Linear(hidden_size, hidden_size // 2)\n",
    "\n",
    "    def forward(self, x):\n",
    "        x = self.relu(self.fc1(x))\n",
    "        x = self.dropout(x)\n",
    "        x = self.relu(self.fc2(x))\n",
    "        return x\n",
    "\n",
    "class ChessEvalMLP(nn.Module):\n",
    "    def __init__(self, input_planes=17, hidden_size=256, dropout_prob=0.2):\n",
    "        super().__init__()\n",
    "        input_size = input_planes * 8 * 8  # because of piece maps (channels * 8 * 8)\n",
    "\n",
    "        self.backbone = FFN(input_size, hidden_size=hidden_size, dropout_prob=dropout_prob)\n",
    "\n",
    "        # Two heads\n",
    "        self.eval_head = nn.Linear(hidden_size // 2, 1)  # For regression\n",
    "        self.win_head = nn.Linear(hidden_size // 2, 1)   # For binary classification\n",
    "\n",
    "    def forward(self, x):\n",
    "        x = torch.flatten(x, 1)  # (batch_size, channels*8*8)\n",
    "        features = self.backbone(x)\n",
    "        eval_output = self.eval_head(features)     # Regression output (centipawns)\n",
    "        win_output = self.win_head(features)       # Classification output (winning/not)\n",
    "\n",
    "        return eval_output, win_output"
   ]
  },
  {
   "cell_type": "code",
   "execution_count": 26,
   "id": "70193073",
   "metadata": {},
   "outputs": [
    {
     "name": "stdout",
     "output_type": "stream",
     "text": [
      "torch.Size([32, 1]) torch.Size([32, 1])\n"
     ]
    }
   ],
   "source": [
    "input_tensor = torch.randn(32, 17, 8, 8)  # A batch of 32 chessboard positions\n",
    "\n",
    "model = ChessEvalMLP()\n",
    "output = model(input_tensor)\n",
    "\n",
    "print(output[0].shape, output[1].shape)"
   ]
  },
  {
   "cell_type": "code",
   "execution_count": 27,
   "id": "faecca58",
   "metadata": {},
   "outputs": [],
   "source": [
    "NUM_EPOCHS = 3\n",
    "total_iters = NUM_EPOCHS * ((10_000_000 // 256) + 1)\n",
    "\n",
    "model = ChessEvalMLP().to(DEVICE)\n",
    "optimizer = torch.optim.Adam(model.parameters(), lr=1e-3)\n",
    "scheduler = CosineAnnealingLR(optimizer, T_max=total_iters, eta_min=1e-4)\n",
    "eval_criterion = nn.MSELoss()\n",
    "win_criterion = nn.BCEWithLogitsLoss()\n",
    "\n",
    "steps, train_losses, train_maes, val_losses, val_maes = [], [], [], [], []       # for tracking performance"
   ]
  },
  {
   "cell_type": "code",
   "execution_count": 28,
   "id": "aa550541",
   "metadata": {},
   "outputs": [
    {
     "name": "stderr",
     "output_type": "stream",
     "text": [
      "Epoch 1: 102it [00:05, 20.42it/s]"
     ]
    },
    {
     "name": "stdout",
     "output_type": "stream",
     "text": [
      "Step 100 — train_loss: 0.8589, train_mae: 0.3063, train_win_acc: 0.5989\n"
     ]
    },
    {
     "name": "stderr",
     "output_type": "stream",
     "text": [
      "Epoch 1: 202it [00:10, 20.17it/s]"
     ]
    },
    {
     "name": "stdout",
     "output_type": "stream",
     "text": [
      "Step 200 — train_loss: 0.8243, train_mae: 0.2928, train_win_acc: 0.6230\n"
     ]
    },
    {
     "name": "stderr",
     "output_type": "stream",
     "text": [
      "Epoch 1: 301it [00:14, 20.57it/s]"
     ]
    },
    {
     "name": "stdout",
     "output_type": "stream",
     "text": [
      "Step 300 — train_loss: 0.8004, train_mae: 0.2834, train_win_acc: 0.6390\n"
     ]
    },
    {
     "name": "stderr",
     "output_type": "stream",
     "text": [
      "Epoch 1: 403it [00:19, 20.65it/s]"
     ]
    },
    {
     "name": "stdout",
     "output_type": "stream",
     "text": [
      "Step 400 — train_loss: 0.7808, train_mae: 0.2759, train_win_acc: 0.6511\n"
     ]
    },
    {
     "name": "stderr",
     "output_type": "stream",
     "text": [
      "Epoch 1: 497it [00:24, 20.64it/s]"
     ]
    },
    {
     "name": "stdout",
     "output_type": "stream",
     "text": [
      "Step 500 — train_loss: 0.7681, train_mae: 0.2709, train_win_acc: 0.6595\n"
     ]
    },
    {
     "name": "stderr",
     "output_type": "stream",
     "text": [
      "Epoch 1: 503it [01:09,  3.18s/it]"
     ]
    },
    {
     "name": "stdout",
     "output_type": "stream",
     "text": [
      "\n",
      "[Validation] Step 500 — train_loss: 0.7681, train_mae: 0.2709, train_win_acc: 0.6595, val_loss: 0.1269, val_mae: 0.2389, val_win_acc: 0.7005, LR: 0.001000\n",
      "Saved new best model after 500 iters\n",
      "--------Validation MAE improved to 0.238857--------\n"
     ]
    },
    {
     "name": "stderr",
     "output_type": "stream",
     "text": [
      "Epoch 1: 602it [01:14, 20.26it/s]"
     ]
    },
    {
     "name": "stdout",
     "output_type": "stream",
     "text": [
      "Step 600 — train_loss: 0.7571, train_mae: 0.2670, train_win_acc: 0.6652\n"
     ]
    },
    {
     "name": "stderr",
     "output_type": "stream",
     "text": [
      "Epoch 1: 703it [01:19, 19.73it/s]"
     ]
    },
    {
     "name": "stdout",
     "output_type": "stream",
     "text": [
      "Step 700 — train_loss: 0.7486, train_mae: 0.2636, train_win_acc: 0.6697\n"
     ]
    },
    {
     "name": "stderr",
     "output_type": "stream",
     "text": [
      "Epoch 1: 803it [01:24, 19.56it/s]"
     ]
    },
    {
     "name": "stdout",
     "output_type": "stream",
     "text": [
      "Step 800 — train_loss: 0.7410, train_mae: 0.2605, train_win_acc: 0.6734\n"
     ]
    },
    {
     "name": "stderr",
     "output_type": "stream",
     "text": [
      "Epoch 1: 903it [01:29, 19.70it/s]"
     ]
    },
    {
     "name": "stdout",
     "output_type": "stream",
     "text": [
      "Step 900 — train_loss: 0.7339, train_mae: 0.2578, train_win_acc: 0.6766\n"
     ]
    },
    {
     "name": "stderr",
     "output_type": "stream",
     "text": [
      "Epoch 1: 998it [01:34, 20.07it/s]"
     ]
    },
    {
     "name": "stdout",
     "output_type": "stream",
     "text": [
      "Step 1000 — train_loss: 0.7288, train_mae: 0.2560, train_win_acc: 0.6794\n"
     ]
    },
    {
     "name": "stderr",
     "output_type": "stream",
     "text": [
      "Epoch 1: 1002it [02:18,  4.21s/it]"
     ]
    },
    {
     "name": "stdout",
     "output_type": "stream",
     "text": [
      "\n",
      "[Validation] Step 1000 — train_loss: 0.7288, train_mae: 0.2560, train_win_acc: 0.6794, val_loss: 0.1148, val_mae: 0.2264, val_win_acc: 0.7100, LR: 0.001000\n",
      "Saved new best model after 1000 iters\n",
      "--------Validation MAE improved to 0.226386--------\n"
     ]
    },
    {
     "name": "stderr",
     "output_type": "stream",
     "text": [
      "Epoch 1: 1104it [02:23, 20.37it/s]"
     ]
    },
    {
     "name": "stdout",
     "output_type": "stream",
     "text": [
      "Step 1100 — train_loss: 0.7234, train_mae: 0.2538, train_win_acc: 0.6821\n"
     ]
    },
    {
     "name": "stderr",
     "output_type": "stream",
     "text": [
      "Epoch 1: 1203it [02:28, 20.54it/s]"
     ]
    },
    {
     "name": "stdout",
     "output_type": "stream",
     "text": [
      "Step 1200 — train_loss: 0.7187, train_mae: 0.2521, train_win_acc: 0.6846\n"
     ]
    },
    {
     "name": "stderr",
     "output_type": "stream",
     "text": [
      "Epoch 1: 1302it [02:33, 19.98it/s]"
     ]
    },
    {
     "name": "stdout",
     "output_type": "stream",
     "text": [
      "Step 1300 — train_loss: 0.7140, train_mae: 0.2502, train_win_acc: 0.6872\n"
     ]
    },
    {
     "name": "stderr",
     "output_type": "stream",
     "text": [
      "Epoch 1: 1404it [02:38, 19.74it/s]"
     ]
    },
    {
     "name": "stdout",
     "output_type": "stream",
     "text": [
      "Step 1400 — train_loss: 0.7099, train_mae: 0.2487, train_win_acc: 0.6893\n"
     ]
    },
    {
     "name": "stderr",
     "output_type": "stream",
     "text": [
      "Epoch 1: 1499it [02:43, 19.83it/s]"
     ]
    },
    {
     "name": "stdout",
     "output_type": "stream",
     "text": [
      "Step 1500 — train_loss: 0.7066, train_mae: 0.2472, train_win_acc: 0.6909\n"
     ]
    },
    {
     "name": "stderr",
     "output_type": "stream",
     "text": [
      "Epoch 1: 1504it [03:30,  3.45s/it]"
     ]
    },
    {
     "name": "stdout",
     "output_type": "stream",
     "text": [
      "\n",
      "[Validation] Step 1500 — train_loss: 0.7066, train_mae: 0.2472, train_win_acc: 0.6909, val_loss: 0.1097, val_mae: 0.2190, val_win_acc: 0.7219, LR: 0.001000\n",
      "Saved new best model after 1500 iters\n",
      "--------Validation MAE improved to 0.218962--------\n"
     ]
    },
    {
     "name": "stderr",
     "output_type": "stream",
     "text": [
      "Epoch 1: 1603it [03:35, 20.07it/s]"
     ]
    },
    {
     "name": "stdout",
     "output_type": "stream",
     "text": [
      "Step 1600 — train_loss: 0.7038, train_mae: 0.2461, train_win_acc: 0.6924\n"
     ]
    },
    {
     "name": "stderr",
     "output_type": "stream",
     "text": [
      "Epoch 1: 1703it [03:40, 19.97it/s]"
     ]
    },
    {
     "name": "stdout",
     "output_type": "stream",
     "text": [
      "Step 1700 — train_loss: 0.7011, train_mae: 0.2449, train_win_acc: 0.6937\n"
     ]
    },
    {
     "name": "stderr",
     "output_type": "stream",
     "text": [
      "Epoch 1: 1803it [03:45, 18.86it/s]"
     ]
    },
    {
     "name": "stdout",
     "output_type": "stream",
     "text": [
      "Step 1800 — train_loss: 0.6982, train_mae: 0.2438, train_win_acc: 0.6952\n"
     ]
    },
    {
     "name": "stderr",
     "output_type": "stream",
     "text": [
      "Epoch 1: 1902it [03:50, 19.88it/s]"
     ]
    },
    {
     "name": "stdout",
     "output_type": "stream",
     "text": [
      "Step 1900 — train_loss: 0.6958, train_mae: 0.2426, train_win_acc: 0.6962\n"
     ]
    },
    {
     "name": "stderr",
     "output_type": "stream",
     "text": [
      "Epoch 1: 1998it [03:55, 19.72it/s]"
     ]
    },
    {
     "name": "stdout",
     "output_type": "stream",
     "text": [
      "Step 2000 — train_loss: 0.6935, train_mae: 0.2416, train_win_acc: 0.6973\n"
     ]
    },
    {
     "name": "stderr",
     "output_type": "stream",
     "text": [
      "Epoch 1: 2002it [04:41,  4.24s/it]"
     ]
    },
    {
     "name": "stdout",
     "output_type": "stream",
     "text": [
      "\n",
      "[Validation] Step 2000 — train_loss: 0.6935, train_mae: 0.2416, train_win_acc: 0.6973, val_loss: 0.1065, val_mae: 0.2142, val_win_acc: 0.7237, LR: 0.000999\n",
      "Saved new best model after 2000 iters\n",
      "--------Validation MAE improved to 0.214194--------\n"
     ]
    },
    {
     "name": "stderr",
     "output_type": "stream",
     "text": [
      "Epoch 1: 2104it [04:46, 19.97it/s]"
     ]
    },
    {
     "name": "stdout",
     "output_type": "stream",
     "text": [
      "Step 2100 — train_loss: 0.6915, train_mae: 0.2408, train_win_acc: 0.6982\n"
     ]
    },
    {
     "name": "stderr",
     "output_type": "stream",
     "text": [
      "Epoch 1: 2203it [04:51, 19.69it/s]"
     ]
    },
    {
     "name": "stdout",
     "output_type": "stream",
     "text": [
      "Step 2200 — train_loss: 0.6897, train_mae: 0.2400, train_win_acc: 0.6990\n"
     ]
    },
    {
     "name": "stderr",
     "output_type": "stream",
     "text": [
      "Epoch 1: 2303it [04:56, 20.04it/s]"
     ]
    },
    {
     "name": "stdout",
     "output_type": "stream",
     "text": [
      "Step 2300 — train_loss: 0.6877, train_mae: 0.2391, train_win_acc: 0.7001\n"
     ]
    },
    {
     "name": "stderr",
     "output_type": "stream",
     "text": [
      "Epoch 1: 2403it [05:02, 19.83it/s]"
     ]
    },
    {
     "name": "stdout",
     "output_type": "stream",
     "text": [
      "Step 2400 — train_loss: 0.6859, train_mae: 0.2383, train_win_acc: 0.7008\n"
     ]
    },
    {
     "name": "stderr",
     "output_type": "stream",
     "text": [
      "Epoch 1: 2499it [05:06, 19.72it/s]"
     ]
    },
    {
     "name": "stdout",
     "output_type": "stream",
     "text": [
      "Step 2500 — train_loss: 0.6842, train_mae: 0.2376, train_win_acc: 0.7015\n"
     ]
    },
    {
     "name": "stderr",
     "output_type": "stream",
     "text": [
      "Epoch 1: 2502it [05:53,  4.90s/it]"
     ]
    },
    {
     "name": "stdout",
     "output_type": "stream",
     "text": [
      "\n",
      "[Validation] Step 2500 — train_loss: 0.6842, train_mae: 0.2376, train_win_acc: 0.7015, val_loss: 0.1037, val_mae: 0.2115, val_win_acc: 0.7323, LR: 0.000999\n",
      "Saved new best model after 2500 iters\n",
      "--------Validation MAE improved to 0.211451--------\n"
     ]
    },
    {
     "name": "stderr",
     "output_type": "stream",
     "text": [
      "Epoch 1: 2603it [05:58, 20.65it/s]"
     ]
    },
    {
     "name": "stdout",
     "output_type": "stream",
     "text": [
      "Step 2600 — train_loss: 0.6825, train_mae: 0.2369, train_win_acc: 0.7025\n"
     ]
    },
    {
     "name": "stderr",
     "output_type": "stream",
     "text": [
      "Epoch 1: 2703it [06:03, 20.04it/s]"
     ]
    },
    {
     "name": "stdout",
     "output_type": "stream",
     "text": [
      "Step 2700 — train_loss: 0.6808, train_mae: 0.2362, train_win_acc: 0.7034\n"
     ]
    },
    {
     "name": "stderr",
     "output_type": "stream",
     "text": [
      "Epoch 1: 2804it [06:08, 20.03it/s]"
     ]
    },
    {
     "name": "stdout",
     "output_type": "stream",
     "text": [
      "Step 2800 — train_loss: 0.6792, train_mae: 0.2355, train_win_acc: 0.7041\n"
     ]
    },
    {
     "name": "stderr",
     "output_type": "stream",
     "text": [
      "Epoch 1: 2902it [06:13, 19.81it/s]"
     ]
    },
    {
     "name": "stdout",
     "output_type": "stream",
     "text": [
      "Step 2900 — train_loss: 0.6776, train_mae: 0.2349, train_win_acc: 0.7050\n"
     ]
    },
    {
     "name": "stderr",
     "output_type": "stream",
     "text": [
      "Epoch 1: 2997it [06:18, 20.05it/s]"
     ]
    },
    {
     "name": "stdout",
     "output_type": "stream",
     "text": [
      "Step 3000 — train_loss: 0.6762, train_mae: 0.2343, train_win_acc: 0.7056\n"
     ]
    },
    {
     "name": "stderr",
     "output_type": "stream",
     "text": [
      "Epoch 1: 3004it [07:05,  2.82s/it]"
     ]
    },
    {
     "name": "stdout",
     "output_type": "stream",
     "text": [
      "\n",
      "[Validation] Step 3000 — train_loss: 0.6762, train_mae: 0.2343, train_win_acc: 0.7056, val_loss: 0.1031, val_mae: 0.2087, val_win_acc: 0.7346, LR: 0.000999\n",
      "Saved new best model after 3000 iters\n",
      "--------Validation MAE improved to 0.208669--------\n"
     ]
    },
    {
     "name": "stderr",
     "output_type": "stream",
     "text": [
      "Epoch 1: 3103it [07:10, 19.68it/s]"
     ]
    },
    {
     "name": "stdout",
     "output_type": "stream",
     "text": [
      "Step 3100 — train_loss: 0.6751, train_mae: 0.2339, train_win_acc: 0.7063\n"
     ]
    },
    {
     "name": "stderr",
     "output_type": "stream",
     "text": [
      "Epoch 1: 3203it [07:15, 20.06it/s]"
     ]
    },
    {
     "name": "stdout",
     "output_type": "stream",
     "text": [
      "Step 3200 — train_loss: 0.6740, train_mae: 0.2334, train_win_acc: 0.7068\n"
     ]
    },
    {
     "name": "stderr",
     "output_type": "stream",
     "text": [
      "Epoch 1: 3303it [07:20, 19.28it/s]"
     ]
    },
    {
     "name": "stdout",
     "output_type": "stream",
     "text": [
      "Step 3300 — train_loss: 0.6729, train_mae: 0.2330, train_win_acc: 0.7074\n"
     ]
    },
    {
     "name": "stderr",
     "output_type": "stream",
     "text": [
      "Epoch 1: 3402it [07:25, 20.75it/s]"
     ]
    },
    {
     "name": "stdout",
     "output_type": "stream",
     "text": [
      "Step 3400 — train_loss: 0.6716, train_mae: 0.2324, train_win_acc: 0.7080\n"
     ]
    },
    {
     "name": "stderr",
     "output_type": "stream",
     "text": [
      "Epoch 1: 3497it [07:30, 21.35it/s]"
     ]
    },
    {
     "name": "stdout",
     "output_type": "stream",
     "text": [
      "Step 3500 — train_loss: 0.6707, train_mae: 0.2321, train_win_acc: 0.7085\n"
     ]
    },
    {
     "name": "stderr",
     "output_type": "stream",
     "text": [
      "Epoch 1: 3502it [08:15,  3.57s/it]"
     ]
    },
    {
     "name": "stdout",
     "output_type": "stream",
     "text": [
      "\n",
      "[Validation] Step 3500 — train_loss: 0.6707, train_mae: 0.2321, train_win_acc: 0.7085, val_loss: 0.1023, val_mae: 0.2098, val_win_acc: 0.7281, LR: 0.000998\n",
      "Saved new best model after 3500 iters\n",
      "--------No significant MAE improvement for 500 iterations--------\n"
     ]
    },
    {
     "name": "stderr",
     "output_type": "stream",
     "text": [
      "Epoch 1: 3602it [08:20, 20.05it/s]"
     ]
    },
    {
     "name": "stdout",
     "output_type": "stream",
     "text": [
      "Step 3600 — train_loss: 0.6697, train_mae: 0.2317, train_win_acc: 0.7091\n"
     ]
    },
    {
     "name": "stderr",
     "output_type": "stream",
     "text": [
      "Epoch 1: 3704it [08:25, 19.58it/s]"
     ]
    },
    {
     "name": "stdout",
     "output_type": "stream",
     "text": [
      "Step 3700 — train_loss: 0.6688, train_mae: 0.2313, train_win_acc: 0.7096\n"
     ]
    },
    {
     "name": "stderr",
     "output_type": "stream",
     "text": [
      "Epoch 1: 3802it [08:30, 20.22it/s]"
     ]
    },
    {
     "name": "stdout",
     "output_type": "stream",
     "text": [
      "Step 3800 — train_loss: 0.6676, train_mae: 0.2310, train_win_acc: 0.7102\n"
     ]
    },
    {
     "name": "stderr",
     "output_type": "stream",
     "text": [
      "Epoch 1: 3903it [08:35, 20.00it/s]"
     ]
    },
    {
     "name": "stdout",
     "output_type": "stream",
     "text": [
      "Step 3900 — train_loss: 0.6668, train_mae: 0.2306, train_win_acc: 0.7106\n"
     ]
    },
    {
     "name": "stderr",
     "output_type": "stream",
     "text": [
      "Epoch 1: 3998it [08:40, 19.85it/s]"
     ]
    },
    {
     "name": "stdout",
     "output_type": "stream",
     "text": [
      "Step 4000 — train_loss: 0.6659, train_mae: 0.2302, train_win_acc: 0.7110\n"
     ]
    },
    {
     "name": "stderr",
     "output_type": "stream",
     "text": [
      "Epoch 1: 4003it [09:25,  3.62s/it]"
     ]
    },
    {
     "name": "stdout",
     "output_type": "stream",
     "text": [
      "\n",
      "[Validation] Step 4000 — train_loss: 0.6659, train_mae: 0.2302, train_win_acc: 0.7110, val_loss: 0.0997, val_mae: 0.2059, val_win_acc: 0.7353, LR: 0.000997\n",
      "Saved new best model after 4000 iters\n",
      "--------Validation MAE improved to 0.205881--------\n"
     ]
    },
    {
     "name": "stderr",
     "output_type": "stream",
     "text": [
      "Epoch 1: 4103it [09:30, 19.77it/s]"
     ]
    },
    {
     "name": "stdout",
     "output_type": "stream",
     "text": [
      "Step 4100 — train_loss: 0.6649, train_mae: 0.2298, train_win_acc: 0.7115\n"
     ]
    },
    {
     "name": "stderr",
     "output_type": "stream",
     "text": [
      "Epoch 1: 4202it [09:36, 20.01it/s]"
     ]
    },
    {
     "name": "stdout",
     "output_type": "stream",
     "text": [
      "Step 4200 — train_loss: 0.6641, train_mae: 0.2294, train_win_acc: 0.7118\n"
     ]
    },
    {
     "name": "stderr",
     "output_type": "stream",
     "text": [
      "Epoch 1: 4304it [09:41, 19.93it/s]"
     ]
    },
    {
     "name": "stdout",
     "output_type": "stream",
     "text": [
      "Step 4300 — train_loss: 0.6633, train_mae: 0.2291, train_win_acc: 0.7122\n"
     ]
    },
    {
     "name": "stderr",
     "output_type": "stream",
     "text": [
      "Epoch 1: 4402it [09:46, 19.55it/s]"
     ]
    },
    {
     "name": "stdout",
     "output_type": "stream",
     "text": [
      "Step 4400 — train_loss: 0.6624, train_mae: 0.2288, train_win_acc: 0.7128\n"
     ]
    },
    {
     "name": "stderr",
     "output_type": "stream",
     "text": [
      "Epoch 1: 4499it [09:51, 19.97it/s]"
     ]
    },
    {
     "name": "stdout",
     "output_type": "stream",
     "text": [
      "Step 4500 — train_loss: 0.6617, train_mae: 0.2284, train_win_acc: 0.7131\n"
     ]
    },
    {
     "name": "stderr",
     "output_type": "stream",
     "text": [
      "Epoch 1: 4502it [10:37,  4.29s/it]"
     ]
    },
    {
     "name": "stdout",
     "output_type": "stream",
     "text": [
      "\n",
      "[Validation] Step 4500 — train_loss: 0.6617, train_mae: 0.2284, train_win_acc: 0.7131, val_loss: 0.0992, val_mae: 0.2065, val_win_acc: 0.7395, LR: 0.000997\n",
      "Saved new best model after 4500 iters\n",
      "--------No significant MAE improvement for 500 iterations--------\n"
     ]
    },
    {
     "name": "stderr",
     "output_type": "stream",
     "text": [
      "Epoch 1: 4604it [10:42, 20.23it/s]"
     ]
    },
    {
     "name": "stdout",
     "output_type": "stream",
     "text": [
      "Step 4600 — train_loss: 0.6609, train_mae: 0.2282, train_win_acc: 0.7135\n"
     ]
    },
    {
     "name": "stderr",
     "output_type": "stream",
     "text": [
      "Epoch 1: 4703it [10:47, 19.95it/s]"
     ]
    },
    {
     "name": "stdout",
     "output_type": "stream",
     "text": [
      "Step 4700 — train_loss: 0.6602, train_mae: 0.2278, train_win_acc: 0.7138\n"
     ]
    },
    {
     "name": "stderr",
     "output_type": "stream",
     "text": [
      "Epoch 1: 4802it [10:52, 20.28it/s]"
     ]
    },
    {
     "name": "stdout",
     "output_type": "stream",
     "text": [
      "Step 4800 — train_loss: 0.6594, train_mae: 0.2276, train_win_acc: 0.7142\n"
     ]
    },
    {
     "name": "stderr",
     "output_type": "stream",
     "text": [
      "Epoch 1: 4904it [10:57, 20.05it/s]"
     ]
    },
    {
     "name": "stdout",
     "output_type": "stream",
     "text": [
      "Step 4900 — train_loss: 0.6587, train_mae: 0.2273, train_win_acc: 0.7146\n"
     ]
    },
    {
     "name": "stderr",
     "output_type": "stream",
     "text": [
      "Epoch 1: 4997it [11:01, 20.28it/s]"
     ]
    },
    {
     "name": "stdout",
     "output_type": "stream",
     "text": [
      "Step 5000 — train_loss: 0.6579, train_mae: 0.2270, train_win_acc: 0.7151\n"
     ]
    },
    {
     "name": "stderr",
     "output_type": "stream",
     "text": [
      "Epoch 1: 5002it [11:46,  3.54s/it]"
     ]
    },
    {
     "name": "stdout",
     "output_type": "stream",
     "text": [
      "\n",
      "[Validation] Step 5000 — train_loss: 0.6579, train_mae: 0.2270, train_win_acc: 0.7151, val_loss: 0.0982, val_mae: 0.2036, val_win_acc: 0.7383, LR: 0.000996\n",
      "Saved new best model after 5000 iters\n",
      "--------Validation MAE improved to 0.203617--------\n"
     ]
    },
    {
     "name": "stderr",
     "output_type": "stream",
     "text": [
      "Epoch 1: 5104it [11:52, 20.12it/s]"
     ]
    },
    {
     "name": "stdout",
     "output_type": "stream",
     "text": [
      "Step 5100 — train_loss: 0.6571, train_mae: 0.2267, train_win_acc: 0.7154\n"
     ]
    },
    {
     "name": "stderr",
     "output_type": "stream",
     "text": [
      "Epoch 1: 5204it [11:57, 19.87it/s]"
     ]
    },
    {
     "name": "stdout",
     "output_type": "stream",
     "text": [
      "Step 5200 — train_loss: 0.6565, train_mae: 0.2264, train_win_acc: 0.7157\n"
     ]
    },
    {
     "name": "stderr",
     "output_type": "stream",
     "text": [
      "Epoch 1: 5303it [12:01, 20.13it/s]"
     ]
    },
    {
     "name": "stdout",
     "output_type": "stream",
     "text": [
      "Step 5300 — train_loss: 0.6559, train_mae: 0.2261, train_win_acc: 0.7160\n"
     ]
    },
    {
     "name": "stderr",
     "output_type": "stream",
     "text": [
      "Epoch 1: 5402it [12:06, 19.77it/s]"
     ]
    },
    {
     "name": "stdout",
     "output_type": "stream",
     "text": [
      "Step 5400 — train_loss: 0.6553, train_mae: 0.2259, train_win_acc: 0.7163\n"
     ]
    },
    {
     "name": "stderr",
     "output_type": "stream",
     "text": [
      "Epoch 1: 5497it [12:11, 20.23it/s]"
     ]
    },
    {
     "name": "stdout",
     "output_type": "stream",
     "text": [
      "Step 5500 — train_loss: 0.6549, train_mae: 0.2257, train_win_acc: 0.7166\n"
     ]
    },
    {
     "name": "stderr",
     "output_type": "stream",
     "text": [
      "Epoch 1: 5503it [12:56,  3.18s/it]"
     ]
    },
    {
     "name": "stdout",
     "output_type": "stream",
     "text": [
      "\n",
      "[Validation] Step 5500 — train_loss: 0.6549, train_mae: 0.2257, train_win_acc: 0.7166, val_loss: 0.0983, val_mae: 0.2039, val_win_acc: 0.7411, LR: 0.000995\n",
      "--------No significant MAE improvement for 500 iterations--------\n"
     ]
    },
    {
     "name": "stderr",
     "output_type": "stream",
     "text": [
      "Epoch 1: 5603it [13:01, 20.75it/s]"
     ]
    },
    {
     "name": "stdout",
     "output_type": "stream",
     "text": [
      "Step 5600 — train_loss: 0.6543, train_mae: 0.2254, train_win_acc: 0.7169\n"
     ]
    },
    {
     "name": "stderr",
     "output_type": "stream",
     "text": [
      "Epoch 1: 5704it [13:06, 20.19it/s]"
     ]
    },
    {
     "name": "stdout",
     "output_type": "stream",
     "text": [
      "Step 5700 — train_loss: 0.6535, train_mae: 0.2251, train_win_acc: 0.7172\n"
     ]
    },
    {
     "name": "stderr",
     "output_type": "stream",
     "text": [
      "Epoch 1: 5803it [13:11, 20.54it/s]"
     ]
    },
    {
     "name": "stdout",
     "output_type": "stream",
     "text": [
      "Step 5800 — train_loss: 0.6530, train_mae: 0.2248, train_win_acc: 0.7175\n"
     ]
    },
    {
     "name": "stderr",
     "output_type": "stream",
     "text": [
      "Epoch 1: 5903it [13:16, 19.96it/s]"
     ]
    },
    {
     "name": "stdout",
     "output_type": "stream",
     "text": [
      "Step 5900 — train_loss: 0.6526, train_mae: 0.2246, train_win_acc: 0.7177\n"
     ]
    },
    {
     "name": "stderr",
     "output_type": "stream",
     "text": [
      "Epoch 1: 5997it [13:21, 20.14it/s]"
     ]
    },
    {
     "name": "stdout",
     "output_type": "stream",
     "text": [
      "Step 6000 — train_loss: 0.6520, train_mae: 0.2244, train_win_acc: 0.7180\n"
     ]
    },
    {
     "name": "stderr",
     "output_type": "stream",
     "text": [
      "Epoch 1: 6003it [14:06,  3.22s/it]"
     ]
    },
    {
     "name": "stdout",
     "output_type": "stream",
     "text": [
      "\n",
      "[Validation] Step 6000 — train_loss: 0.6520, train_mae: 0.2244, train_win_acc: 0.7180, val_loss: 0.0966, val_mae: 0.2032, val_win_acc: 0.7452, LR: 0.000994\n",
      "Saved new best model after 6000 iters\n",
      "--------No significant MAE improvement for 1000 iterations--------\n"
     ]
    },
    {
     "name": "stderr",
     "output_type": "stream",
     "text": [
      "Epoch 1: 6103it [14:11, 20.33it/s]"
     ]
    },
    {
     "name": "stdout",
     "output_type": "stream",
     "text": [
      "Step 6100 — train_loss: 0.6513, train_mae: 0.2242, train_win_acc: 0.7183\n"
     ]
    },
    {
     "name": "stderr",
     "output_type": "stream",
     "text": [
      "Epoch 1: 6204it [14:16, 21.29it/s]"
     ]
    },
    {
     "name": "stdout",
     "output_type": "stream",
     "text": [
      "Step 6200 — train_loss: 0.6508, train_mae: 0.2239, train_win_acc: 0.7186\n"
     ]
    },
    {
     "name": "stderr",
     "output_type": "stream",
     "text": [
      "Epoch 1: 6303it [14:21, 19.59it/s]"
     ]
    },
    {
     "name": "stdout",
     "output_type": "stream",
     "text": [
      "Step 6300 — train_loss: 0.6503, train_mae: 0.2237, train_win_acc: 0.7188\n"
     ]
    },
    {
     "name": "stderr",
     "output_type": "stream",
     "text": [
      "Epoch 1: 6402it [14:26, 19.91it/s]"
     ]
    },
    {
     "name": "stdout",
     "output_type": "stream",
     "text": [
      "Step 6400 — train_loss: 0.6497, train_mae: 0.2235, train_win_acc: 0.7191\n"
     ]
    },
    {
     "name": "stderr",
     "output_type": "stream",
     "text": [
      "Epoch 1: 6498it [14:31, 20.40it/s]"
     ]
    },
    {
     "name": "stdout",
     "output_type": "stream",
     "text": [
      "Step 6500 — train_loss: 0.6491, train_mae: 0.2232, train_win_acc: 0.7194\n"
     ]
    },
    {
     "name": "stderr",
     "output_type": "stream",
     "text": [
      "Epoch 1: 6502it [15:16,  3.89s/it]"
     ]
    },
    {
     "name": "stdout",
     "output_type": "stream",
     "text": [
      "\n",
      "[Validation] Step 6500 — train_loss: 0.6491, train_mae: 0.2232, train_win_acc: 0.7194, val_loss: 0.0983, val_mae: 0.2069, val_win_acc: 0.7417, LR: 0.000993\n",
      "--------No significant MAE improvement for 1500 iterations--------\n"
     ]
    },
    {
     "name": "stderr",
     "output_type": "stream",
     "text": [
      "Epoch 1: 6603it [15:21, 20.38it/s]"
     ]
    },
    {
     "name": "stdout",
     "output_type": "stream",
     "text": [
      "Step 6600 — train_loss: 0.6487, train_mae: 0.2231, train_win_acc: 0.7196\n"
     ]
    },
    {
     "name": "stderr",
     "output_type": "stream",
     "text": [
      "Epoch 1: 6702it [15:25, 20.18it/s]"
     ]
    },
    {
     "name": "stdout",
     "output_type": "stream",
     "text": [
      "Step 6700 — train_loss: 0.6483, train_mae: 0.2229, train_win_acc: 0.7198\n"
     ]
    },
    {
     "name": "stderr",
     "output_type": "stream",
     "text": [
      "Epoch 1: 6802it [15:30, 20.16it/s]"
     ]
    },
    {
     "name": "stdout",
     "output_type": "stream",
     "text": [
      "Step 6800 — train_loss: 0.6477, train_mae: 0.2227, train_win_acc: 0.7201\n"
     ]
    },
    {
     "name": "stderr",
     "output_type": "stream",
     "text": [
      "Epoch 1: 6903it [15:35, 20.10it/s]"
     ]
    },
    {
     "name": "stdout",
     "output_type": "stream",
     "text": [
      "Step 6900 — train_loss: 0.6474, train_mae: 0.2225, train_win_acc: 0.7203\n"
     ]
    },
    {
     "name": "stderr",
     "output_type": "stream",
     "text": [
      "Epoch 1: 6997it [15:40, 20.11it/s]"
     ]
    },
    {
     "name": "stdout",
     "output_type": "stream",
     "text": [
      "Step 7000 — train_loss: 0.6470, train_mae: 0.2224, train_win_acc: 0.7205\n"
     ]
    },
    {
     "name": "stderr",
     "output_type": "stream",
     "text": [
      "Epoch 1: 7003it [16:25,  3.22s/it]"
     ]
    },
    {
     "name": "stdout",
     "output_type": "stream",
     "text": [
      "\n",
      "[Validation] Step 7000 — train_loss: 0.6470, train_mae: 0.2224, train_win_acc: 0.7205, val_loss: 0.0965, val_mae: 0.2027, val_win_acc: 0.7463, LR: 0.000992\n",
      "Saved new best model after 7000 iters\n",
      "--------Validation MAE improved to 0.202660--------\n"
     ]
    },
    {
     "name": "stderr",
     "output_type": "stream",
     "text": [
      "Epoch 1: 7103it [16:30, 19.38it/s]"
     ]
    },
    {
     "name": "stdout",
     "output_type": "stream",
     "text": [
      "Step 7100 — train_loss: 0.6465, train_mae: 0.2222, train_win_acc: 0.7208\n"
     ]
    },
    {
     "name": "stderr",
     "output_type": "stream",
     "text": [
      "Epoch 1: 7203it [16:35, 19.74it/s]"
     ]
    },
    {
     "name": "stdout",
     "output_type": "stream",
     "text": [
      "Step 7200 — train_loss: 0.6461, train_mae: 0.2221, train_win_acc: 0.7210\n"
     ]
    },
    {
     "name": "stderr",
     "output_type": "stream",
     "text": [
      "Epoch 1: 7302it [16:40, 20.48it/s]"
     ]
    },
    {
     "name": "stdout",
     "output_type": "stream",
     "text": [
      "Step 7300 — train_loss: 0.6457, train_mae: 0.2219, train_win_acc: 0.7212\n"
     ]
    },
    {
     "name": "stderr",
     "output_type": "stream",
     "text": [
      "Epoch 1: 7403it [16:45, 20.16it/s]"
     ]
    },
    {
     "name": "stdout",
     "output_type": "stream",
     "text": [
      "Step 7400 — train_loss: 0.6453, train_mae: 0.2217, train_win_acc: 0.7214\n"
     ]
    },
    {
     "name": "stderr",
     "output_type": "stream",
     "text": [
      "Epoch 1: 7497it [16:50, 20.04it/s]"
     ]
    },
    {
     "name": "stdout",
     "output_type": "stream",
     "text": [
      "Step 7500 — train_loss: 0.6449, train_mae: 0.2215, train_win_acc: 0.7216\n"
     ]
    },
    {
     "name": "stderr",
     "output_type": "stream",
     "text": [
      "Epoch 1: 7503it [17:35,  3.22s/it]"
     ]
    },
    {
     "name": "stdout",
     "output_type": "stream",
     "text": [
      "\n",
      "[Validation] Step 7500 — train_loss: 0.6449, train_mae: 0.2215, train_win_acc: 0.7216, val_loss: 0.1022, val_mae: 0.2096, val_win_acc: 0.7401, LR: 0.000991\n",
      "--------No significant MAE improvement for 500 iterations--------\n"
     ]
    },
    {
     "name": "stderr",
     "output_type": "stream",
     "text": [
      "Epoch 1: 7603it [17:40, 20.51it/s]"
     ]
    },
    {
     "name": "stdout",
     "output_type": "stream",
     "text": [
      "Step 7600 — train_loss: 0.6444, train_mae: 0.2214, train_win_acc: 0.7219\n"
     ]
    },
    {
     "name": "stderr",
     "output_type": "stream",
     "text": [
      "Epoch 1: 7702it [17:44, 20.84it/s]"
     ]
    },
    {
     "name": "stdout",
     "output_type": "stream",
     "text": [
      "Step 7700 — train_loss: 0.6441, train_mae: 0.2212, train_win_acc: 0.7222\n"
     ]
    },
    {
     "name": "stderr",
     "output_type": "stream",
     "text": [
      "Epoch 1: 7802it [17:49, 19.53it/s]"
     ]
    },
    {
     "name": "stdout",
     "output_type": "stream",
     "text": [
      "Step 7800 — train_loss: 0.6437, train_mae: 0.2211, train_win_acc: 0.7224\n"
     ]
    },
    {
     "name": "stderr",
     "output_type": "stream",
     "text": [
      "Epoch 1: 7904it [17:55, 20.15it/s]"
     ]
    },
    {
     "name": "stdout",
     "output_type": "stream",
     "text": [
      "Step 7900 — train_loss: 0.6433, train_mae: 0.2209, train_win_acc: 0.7225\n"
     ]
    },
    {
     "name": "stderr",
     "output_type": "stream",
     "text": [
      "Epoch 1: 7998it [17:59, 19.08it/s]"
     ]
    },
    {
     "name": "stdout",
     "output_type": "stream",
     "text": [
      "Step 8000 — train_loss: 0.6429, train_mae: 0.2207, train_win_acc: 0.7227\n"
     ]
    },
    {
     "name": "stderr",
     "output_type": "stream",
     "text": [
      "Epoch 1: 8002it [18:44,  4.19s/it]"
     ]
    },
    {
     "name": "stdout",
     "output_type": "stream",
     "text": [
      "\n",
      "[Validation] Step 8000 — train_loss: 0.6429, train_mae: 0.2207, train_win_acc: 0.7227, val_loss: 0.0955, val_mae: 0.1994, val_win_acc: 0.7482, LR: 0.000990\n",
      "Saved new best model after 8000 iters\n",
      "--------Validation MAE improved to 0.199361--------\n"
     ]
    },
    {
     "name": "stderr",
     "output_type": "stream",
     "text": [
      "Epoch 1: 8103it [18:49, 20.11it/s]"
     ]
    },
    {
     "name": "stdout",
     "output_type": "stream",
     "text": [
      "Step 8100 — train_loss: 0.6425, train_mae: 0.2205, train_win_acc: 0.7229\n"
     ]
    },
    {
     "name": "stderr",
     "output_type": "stream",
     "text": [
      "Epoch 1: 8193it [18:54,  7.22it/s]\n"
     ]
    },
    {
     "ename": "KeyboardInterrupt",
     "evalue": "",
     "output_type": "error",
     "traceback": [
      "\u001b[1;31m---------------------------------------------------------------------------\u001b[0m",
      "\u001b[1;31mKeyboardInterrupt\u001b[0m                         Traceback (most recent call last)",
      "Cell \u001b[1;32mIn[28], line 27\u001b[0m\n\u001b[0;32m     24\u001b[0m total_win_correct \u001b[38;5;241m=\u001b[39m \u001b[38;5;241m0\u001b[39m\n\u001b[0;32m     25\u001b[0m total_samples \u001b[38;5;241m=\u001b[39m \u001b[38;5;241m0\u001b[39m\n\u001b[1;32m---> 27\u001b[0m \u001b[38;5;28;01mfor\u001b[39;00m inputs, labels, winning_labels \u001b[38;5;129;01min\u001b[39;00m tqdm(train_loader, desc\u001b[38;5;241m=\u001b[39m\u001b[38;5;124mf\u001b[39m\u001b[38;5;124m\"\u001b[39m\u001b[38;5;124mEpoch \u001b[39m\u001b[38;5;132;01m{\u001b[39;00mepoch\u001b[38;5;132;01m}\u001b[39;00m\u001b[38;5;124m\"\u001b[39m):\n\u001b[0;32m     28\u001b[0m     inputs, labels, winning_labels \u001b[38;5;241m=\u001b[39m inputs\u001b[38;5;241m.\u001b[39mto(DEVICE), labels\u001b[38;5;241m.\u001b[39mto(DEVICE), winning_labels\u001b[38;5;241m.\u001b[39mto(DEVICE)\n\u001b[0;32m     30\u001b[0m     optimizer\u001b[38;5;241m.\u001b[39mzero_grad()\n",
      "File \u001b[1;32mc:\\Users\\syeda\\miniconda3\\envs\\DL\\lib\\site-packages\\tqdm\\std.py:1181\u001b[0m, in \u001b[0;36mtqdm.__iter__\u001b[1;34m(self)\u001b[0m\n\u001b[0;32m   1178\u001b[0m time \u001b[38;5;241m=\u001b[39m \u001b[38;5;28mself\u001b[39m\u001b[38;5;241m.\u001b[39m_time\n\u001b[0;32m   1180\u001b[0m \u001b[38;5;28;01mtry\u001b[39;00m:\n\u001b[1;32m-> 1181\u001b[0m     \u001b[38;5;28;01mfor\u001b[39;00m obj \u001b[38;5;129;01min\u001b[39;00m iterable:\n\u001b[0;32m   1182\u001b[0m         \u001b[38;5;28;01myield\u001b[39;00m obj\n\u001b[0;32m   1183\u001b[0m         \u001b[38;5;66;03m# Update and possibly print the progressbar.\u001b[39;00m\n\u001b[0;32m   1184\u001b[0m         \u001b[38;5;66;03m# Note: does not call self.update(1) for speed optimisation.\u001b[39;00m\n",
      "File \u001b[1;32mc:\\Users\\syeda\\miniconda3\\envs\\DL\\lib\\site-packages\\torch\\utils\\data\\dataloader.py:701\u001b[0m, in \u001b[0;36m_BaseDataLoaderIter.__next__\u001b[1;34m(self)\u001b[0m\n\u001b[0;32m    698\u001b[0m \u001b[38;5;28;01mif\u001b[39;00m \u001b[38;5;28mself\u001b[39m\u001b[38;5;241m.\u001b[39m_sampler_iter \u001b[38;5;129;01mis\u001b[39;00m \u001b[38;5;28;01mNone\u001b[39;00m:\n\u001b[0;32m    699\u001b[0m     \u001b[38;5;66;03m# TODO(https://github.com/pytorch/pytorch/issues/76750)\u001b[39;00m\n\u001b[0;32m    700\u001b[0m     \u001b[38;5;28mself\u001b[39m\u001b[38;5;241m.\u001b[39m_reset()  \u001b[38;5;66;03m# type: ignore[call-arg]\u001b[39;00m\n\u001b[1;32m--> 701\u001b[0m data \u001b[38;5;241m=\u001b[39m \u001b[38;5;28;43mself\u001b[39;49m\u001b[38;5;241;43m.\u001b[39;49m\u001b[43m_next_data\u001b[49m\u001b[43m(\u001b[49m\u001b[43m)\u001b[49m\n\u001b[0;32m    702\u001b[0m \u001b[38;5;28mself\u001b[39m\u001b[38;5;241m.\u001b[39m_num_yielded \u001b[38;5;241m+\u001b[39m\u001b[38;5;241m=\u001b[39m \u001b[38;5;241m1\u001b[39m\n\u001b[0;32m    703\u001b[0m \u001b[38;5;28;01mif\u001b[39;00m (\n\u001b[0;32m    704\u001b[0m     \u001b[38;5;28mself\u001b[39m\u001b[38;5;241m.\u001b[39m_dataset_kind \u001b[38;5;241m==\u001b[39m _DatasetKind\u001b[38;5;241m.\u001b[39mIterable\n\u001b[0;32m    705\u001b[0m     \u001b[38;5;129;01mand\u001b[39;00m \u001b[38;5;28mself\u001b[39m\u001b[38;5;241m.\u001b[39m_IterableDataset_len_called \u001b[38;5;129;01mis\u001b[39;00m \u001b[38;5;129;01mnot\u001b[39;00m \u001b[38;5;28;01mNone\u001b[39;00m\n\u001b[0;32m    706\u001b[0m     \u001b[38;5;129;01mand\u001b[39;00m \u001b[38;5;28mself\u001b[39m\u001b[38;5;241m.\u001b[39m_num_yielded \u001b[38;5;241m>\u001b[39m \u001b[38;5;28mself\u001b[39m\u001b[38;5;241m.\u001b[39m_IterableDataset_len_called\n\u001b[0;32m    707\u001b[0m ):\n",
      "File \u001b[1;32mc:\\Users\\syeda\\miniconda3\\envs\\DL\\lib\\site-packages\\torch\\utils\\data\\dataloader.py:757\u001b[0m, in \u001b[0;36m_SingleProcessDataLoaderIter._next_data\u001b[1;34m(self)\u001b[0m\n\u001b[0;32m    755\u001b[0m \u001b[38;5;28;01mdef\u001b[39;00m\u001b[38;5;250m \u001b[39m\u001b[38;5;21m_next_data\u001b[39m(\u001b[38;5;28mself\u001b[39m):\n\u001b[0;32m    756\u001b[0m     index \u001b[38;5;241m=\u001b[39m \u001b[38;5;28mself\u001b[39m\u001b[38;5;241m.\u001b[39m_next_index()  \u001b[38;5;66;03m# may raise StopIteration\u001b[39;00m\n\u001b[1;32m--> 757\u001b[0m     data \u001b[38;5;241m=\u001b[39m \u001b[38;5;28;43mself\u001b[39;49m\u001b[38;5;241;43m.\u001b[39;49m\u001b[43m_dataset_fetcher\u001b[49m\u001b[38;5;241;43m.\u001b[39;49m\u001b[43mfetch\u001b[49m\u001b[43m(\u001b[49m\u001b[43mindex\u001b[49m\u001b[43m)\u001b[49m  \u001b[38;5;66;03m# may raise StopIteration\u001b[39;00m\n\u001b[0;32m    758\u001b[0m     \u001b[38;5;28;01mif\u001b[39;00m \u001b[38;5;28mself\u001b[39m\u001b[38;5;241m.\u001b[39m_pin_memory:\n\u001b[0;32m    759\u001b[0m         data \u001b[38;5;241m=\u001b[39m _utils\u001b[38;5;241m.\u001b[39mpin_memory\u001b[38;5;241m.\u001b[39mpin_memory(data, \u001b[38;5;28mself\u001b[39m\u001b[38;5;241m.\u001b[39m_pin_memory_device)\n",
      "File \u001b[1;32mc:\\Users\\syeda\\miniconda3\\envs\\DL\\lib\\site-packages\\torch\\utils\\data\\_utils\\fetch.py:43\u001b[0m, in \u001b[0;36m_IterableDatasetFetcher.fetch\u001b[1;34m(self, possibly_batched_index)\u001b[0m\n\u001b[0;32m     41\u001b[0m \u001b[38;5;28;01melse\u001b[39;00m:\n\u001b[0;32m     42\u001b[0m     data \u001b[38;5;241m=\u001b[39m \u001b[38;5;28mnext\u001b[39m(\u001b[38;5;28mself\u001b[39m\u001b[38;5;241m.\u001b[39mdataset_iter)\n\u001b[1;32m---> 43\u001b[0m \u001b[38;5;28;01mreturn\u001b[39;00m \u001b[38;5;28;43mself\u001b[39;49m\u001b[38;5;241;43m.\u001b[39;49m\u001b[43mcollate_fn\u001b[49m\u001b[43m(\u001b[49m\u001b[43mdata\u001b[49m\u001b[43m)\u001b[49m\n",
      "Cell \u001b[1;32mIn[22], line 29\u001b[0m, in \u001b[0;36mcollate_fn\u001b[1;34m(batch)\u001b[0m\n\u001b[0;32m     26\u001b[0m     \u001b[38;5;66;03m# Process input\u001b[39;00m\n\u001b[0;32m     27\u001b[0m     inputs\u001b[38;5;241m.\u001b[39mappend(torch\u001b[38;5;241m.\u001b[39mtensor(fen_to_piece_maps(fen), dtype\u001b[38;5;241m=\u001b[39mtorch\u001b[38;5;241m.\u001b[39mfloat32))\n\u001b[1;32m---> 29\u001b[0m inputs \u001b[38;5;241m=\u001b[39m \u001b[43mtorch\u001b[49m\u001b[38;5;241;43m.\u001b[39;49m\u001b[43mstack\u001b[49m\u001b[43m(\u001b[49m\u001b[43minputs\u001b[49m\u001b[43m)\u001b[49m\n\u001b[0;32m     30\u001b[0m winning_labels \u001b[38;5;241m=\u001b[39m torch\u001b[38;5;241m.\u001b[39mtensor(winning_labels, dtype\u001b[38;5;241m=\u001b[39mtorch\u001b[38;5;241m.\u001b[39mfloat32)  \u001b[38;5;66;03m# Make sure it's float32 for BCEWithLogitsLoss etc.\u001b[39;00m\n\u001b[0;32m     32\u001b[0m \u001b[38;5;28;01mreturn\u001b[39;00m inputs, labels, winning_labels\n",
      "\u001b[1;31mKeyboardInterrupt\u001b[0m: "
     ]
    }
   ],
   "source": [
    "best_val_loss = float('inf')\n",
    "best_val_mae = float('inf')\n",
    "num_iterations = 0\n",
    "patience_counter = 0\n",
    "\n",
    "PATIENCE = 15000\n",
    "MIN_IMPROVEMENT = 5e-4\n",
    "VAL_ITERS = 500\n",
    "LOG_ITERS = 100\n",
    "\n",
    "early_stop = False\n",
    "\n",
    "steps = []\n",
    "train_losses, train_maes, train_win_accs = [], [], []\n",
    "val_losses, val_maes, val_win_accs = [], [], []\n",
    "\n",
    "for epoch in range(1, NUM_EPOCHS + 1):\n",
    "    if early_stop:\n",
    "        break\n",
    "\n",
    "    model.train()\n",
    "    total_loss = 0.0\n",
    "    total_mae = 0.0\n",
    "    total_win_correct = 0\n",
    "    total_samples = 0\n",
    "\n",
    "    for inputs, labels, winning_labels in tqdm(train_loader, desc=f\"Epoch {epoch}\"):\n",
    "        inputs, labels, winning_labels = inputs.to(DEVICE), labels.to(DEVICE), winning_labels.to(DEVICE)\n",
    "\n",
    "        optimizer.zero_grad()\n",
    "        eval_pred, win_pred = model(inputs)\n",
    "\n",
    "        loss_eval = eval_criterion(eval_pred.squeeze(), labels)\n",
    "        loss_win = win_criterion(win_pred.squeeze(), winning_labels)\n",
    "\n",
    "        loss = loss_eval + loss_win\n",
    "\n",
    "        loss.backward()\n",
    "        optimizer.step()\n",
    "        scheduler.step()\n",
    "\n",
    "        batch_loss = loss.item()\n",
    "        batch_mae = torch.mean(torch.abs(eval_pred.squeeze() - labels)).item()\n",
    "\n",
    "        # Calculate batch binary accuracy\n",
    "        win_pred_labels = (torch.sigmoid(win_pred.squeeze()) > 0.5).float()\n",
    "        batch_win_acc = (win_pred_labels == winning_labels).float().mean().item()\n",
    "\n",
    "        total_loss += batch_loss * inputs.size(0)\n",
    "        total_mae += batch_mae * inputs.size(0)\n",
    "        total_win_correct += (win_pred_labels == winning_labels).sum().item()\n",
    "        total_samples += inputs.size(0)\n",
    "        num_iterations += 1\n",
    "\n",
    "        if num_iterations % LOG_ITERS == 0:\n",
    "            avg_train_loss = total_loss / total_samples\n",
    "            avg_train_mae = total_mae / total_samples\n",
    "            avg_train_win_acc = total_win_correct / total_samples\n",
    "\n",
    "            print(f\"Step {num_iterations} — train_loss: {avg_train_loss:.4f}, train_mae: {avg_train_mae:.4f}, train_win_acc: {avg_train_win_acc:.4f}\")\n",
    "\n",
    "    # Validation every VAL_ITERS iterations\n",
    "        if num_iterations % VAL_ITERS == 0:\n",
    "            model.eval()\n",
    "            val_loss_sum = 0.0\n",
    "            val_mae_sum = 0.0\n",
    "            val_win_correct = 0\n",
    "            val_total_samples = 0\n",
    "\n",
    "            with torch.no_grad():\n",
    "                for val_inputs, val_labels, val_winning_labels in val_loader:\n",
    "                    val_inputs, val_labels, val_winning_labels = val_inputs.to(DEVICE), val_labels.to(DEVICE), val_winning_labels.to(DEVICE)\n",
    "\n",
    "                    val_pred, val_win_pred = model(val_inputs)\n",
    "\n",
    "                    val_loss = eval_criterion(val_pred.squeeze(), val_labels)\n",
    "                    val_mae = torch.mean(torch.abs(val_pred.squeeze() - val_labels))\n",
    "\n",
    "                    val_loss_sum += val_loss.item() * val_inputs.size(0)\n",
    "                    val_mae_sum += val_mae.item() * val_inputs.size(0)\n",
    "\n",
    "                    val_win_preds = (torch.sigmoid(val_win_pred.squeeze()) > 0.5).float()\n",
    "                    val_win_correct += (val_win_preds == val_winning_labels).sum().item()\n",
    "\n",
    "                    val_total_samples += val_inputs.size(0)\n",
    "\n",
    "            avg_val_loss = val_loss_sum / val_total_samples\n",
    "            avg_val_mae = val_mae_sum / val_total_samples\n",
    "            avg_val_win_acc = val_win_correct / val_total_samples\n",
    "\n",
    "            avg_train_loss = total_loss / total_samples\n",
    "            avg_train_mae = total_mae / total_samples\n",
    "            avg_train_win_acc = total_win_correct / total_samples\n",
    "\n",
    "            print(f\"\\n[Validation] Step {num_iterations} — train_loss: {avg_train_loss:.4f}, train_mae: {avg_train_mae:.4f}, train_win_acc: {avg_train_win_acc:.4f}, val_loss: {avg_val_loss:.4f}, val_mae: {avg_val_mae:.4f}, val_win_acc: {avg_val_win_acc:.4f}, LR: {scheduler.get_last_lr()[0]:.6f}\")\n",
    "\n",
    "            steps.append(num_iterations)\n",
    "            train_losses.append(avg_train_loss)\n",
    "            train_maes.append(avg_train_mae)\n",
    "            train_win_accs.append(avg_train_win_acc)\n",
    "\n",
    "            val_losses.append(avg_val_loss)\n",
    "            val_maes.append(avg_val_mae)\n",
    "            val_win_accs.append(avg_val_win_acc)\n",
    "\n",
    "            # Checkpoint best\n",
    "            if avg_val_loss < best_val_loss:\n",
    "                best_val_loss = avg_val_loss\n",
    "                torch.save(model.state_dict(), \"best_chess_mlp.pth\")\n",
    "                print(f\"Saved new best model after {num_iterations} iters\")\n",
    "            \n",
    "            # Early stopping on validation MAE\n",
    "            if avg_val_mae + MIN_IMPROVEMENT < best_val_mae:\n",
    "                best_val_mae = avg_val_mae\n",
    "                patience_counter = 0\n",
    "                print(f\"--------Validation MAE improved to {best_val_mae:.6f}--------\")\n",
    "            else:\n",
    "                patience_counter += VAL_ITERS\n",
    "                print(f\"--------No significant MAE improvement for {patience_counter} iterations--------\")\n",
    "\n",
    "            if patience_counter >= PATIENCE:\n",
    "                print(f\"Early stopping triggered at {num_iterations} iterations (no significant MAE improvement)\")\n",
    "                early_stop = True\n",
    "                break\n",
    "\n",
    "            model.train()\n"
   ]
  }
 ],
 "metadata": {
  "kernelspec": {
   "display_name": "DL",
   "language": "python",
   "name": "python3"
  },
  "language_info": {
   "codemirror_mode": {
    "name": "ipython",
    "version": 3
   },
   "file_extension": ".py",
   "mimetype": "text/x-python",
   "name": "python",
   "nbconvert_exporter": "python",
   "pygments_lexer": "ipython3",
   "version": "3.10.16"
  }
 },
 "nbformat": 4,
 "nbformat_minor": 5
}
