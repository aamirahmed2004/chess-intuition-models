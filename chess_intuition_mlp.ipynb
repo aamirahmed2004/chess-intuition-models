{
 "cells": [
  {
   "cell_type": "code",
   "execution_count": 1,
   "id": "39bf8bca",
   "metadata": {},
   "outputs": [],
   "source": [
    "from datasets import load_dataset, load_from_disk, DatasetDict, Dataset\n",
    "import torch\n",
    "import torch.nn as nn\n",
    "from torch.optim.lr_scheduler import CosineAnnealingLR\n",
    "import os\n",
    "import numpy as np\n",
    "# import torch.nn.functional as F\n",
    "from torch.utils.data import DataLoader\n",
    "from preprocessing import fen_to_piece_maps\n",
    "from tqdm import tqdm\n",
    "\n",
    "torch.set_float32_matmul_precision('medium')"
   ]
  },
  {
   "cell_type": "code",
   "execution_count": 2,
   "id": "5a98baaf",
   "metadata": {},
   "outputs": [],
   "source": [
    "DEVICE = torch.device(\"cuda\" if torch.cuda.is_available() else \"cpu\")\n",
    "if DEVICE == torch.device(\"cpu\"):\n",
    "    print(\"Using CPU, not recommended\")"
   ]
  },
  {
   "cell_type": "code",
   "execution_count": 3,
   "id": "e877cb9b",
   "metadata": {},
   "outputs": [],
   "source": [
    "def collate_fn(batch):\n",
    "    batch_fens = [example['fen'] for example in batch]\n",
    "    labels = torch.tensor(\n",
    "        [example['target'] for example in batch],\n",
    "        dtype=torch.float32\n",
    "    )\n",
    "\n",
    "    winning_labels = []\n",
    "    inputs = []\n",
    "\n",
    "    for example in batch:\n",
    "        fen = example['fen']\n",
    "        target = example['target']\n",
    "        \n",
    "        # Parse side to move\n",
    "        stm = fen.split()[1]  # 'w' or 'b'\n",
    "\n",
    "        # Compute winning label\n",
    "        if (stm == 'w' and target > 0) or (stm == 'b' and target < 0):\n",
    "            winning = 1\n",
    "        else:\n",
    "            winning = 0\n",
    "\n",
    "        winning_labels.append(winning)\n",
    "\n",
    "        # Process input\n",
    "        inputs.append(torch.tensor(fen_to_piece_maps(fen), dtype=torch.float32))\n",
    "\n",
    "    inputs = torch.stack(inputs)\n",
    "    winning_labels = torch.tensor(winning_labels, dtype=torch.float32)  # Make sure it's float32 for BCEWithLogitsLoss etc.\n",
    "\n",
    "    return inputs, labels, winning_labels"
   ]
  },
  {
   "cell_type": "code",
   "execution_count": 4,
   "id": "31c39bdb-fb54-40af-a0df-7ba2c045d6fb",
   "metadata": {},
   "outputs": [
    {
     "data": {
      "application/vnd.jupyter.widget-view+json": {
       "model_id": "82490dc0c3a840b9b3e2914da56b7704",
       "version_major": 2,
       "version_minor": 0
      },
      "text/plain": [
       "Saving the dataset (0/8 shards):   0%|          | 0/58800000 [00:00<?, ? examples/s]"
      ]
     },
     "metadata": {},
     "output_type": "display_data"
    },
    {
     "data": {
      "application/vnd.jupyter.widget-view+json": {
       "model_id": "ba3235bf16e248afa0a39f24e45ad55d",
       "version_major": 2,
       "version_minor": 0
      },
      "text/plain": [
       "Saving the dataset (0/1 shards):   0%|          | 0/600000 [00:00<?, ? examples/s]"
      ]
     },
     "metadata": {},
     "output_type": "display_data"
    },
    {
     "data": {
      "application/vnd.jupyter.widget-view+json": {
       "model_id": "c72336ab8ea14ca2a4ce292c72259f78",
       "version_major": 2,
       "version_minor": 0
      },
      "text/plain": [
       "Saving the dataset (0/1 shards):   0%|          | 0/600000 [00:00<?, ? examples/s]"
      ]
     },
     "metadata": {},
     "output_type": "display_data"
    }
   ],
   "source": [
    "dataset = load_from_disk(os.path.join(os.getcwd(), \"processed_data/lichess_db_eval_part1\"))\n",
    "\n",
    "# Split the dataset into train, validation, and test sets\n",
    "train_size = int(0.98 * len(dataset))\n",
    "val_size = int(0.01 * len(dataset))\n",
    "test_size = len(dataset) - train_size - val_size\n",
    "\n",
    "train_dataset = dataset.select(range(train_size))\n",
    "val_dataset = dataset.select(range(train_size, train_size + val_size))\n",
    "test_dataset = dataset.select(range(train_size + val_size, len(dataset)))\n",
    "num_training_examples = len(train_dataset)\n",
    "\n",
    "train_dataset = dataset.select(range(train_size))\n",
    "val_dataset = dataset.select(range(train_size, train_size + val_size))\n",
    "test_dataset = dataset.select(range(train_size + val_size, len(dataset)))\n",
    "\n",
    "# Create a DatasetDict\n",
    "dataset_dict = DatasetDict({\n",
    "    'train': train_dataset,\n",
    "    'validation': val_dataset,\n",
    "    'test': test_dataset\n",
    "})\n",
    "\n",
    "# Save the DatasetDict to disk\n",
    "dataset_dict.save_to_disk(os.path.join(os.getcwd(), \"processed_data/lichess_db_eval_split\"))"
   ]
  },
  {
   "cell_type": "code",
   "execution_count": 5,
   "id": "fdd1461b",
   "metadata": {},
   "outputs": [],
   "source": [
    "train_dataset = load_from_disk(os.path.join(os.getcwd(), \"processed_data/lichess_db_eval_split/train\"))\n",
    "val_dataset = load_from_disk(os.path.join(os.getcwd(), \"processed_data/lichess_db_eval_split/validation\"))\n",
    "test_dataset = load_from_disk(os.path.join(os.getcwd(), \"processed_data/lichess_db_eval_split/test\"))\n",
    "\n",
    "num_training_examples = len(train_dataset)\n",
    "\n",
    "train_dataset = train_dataset.to_iterable_dataset(num_shards=32)\n",
    "val_dataset = val_dataset.to_iterable_dataset()\n",
    "test_dataset = test_dataset.to_iterable_dataset()\n",
    "\n",
    "train_dataset = train_dataset.shuffle(buffer_size=10000)\n",
    "val_dataset = val_dataset.shuffle(buffer_size=10000)\n",
    "test_dataset = test_dataset.shuffle(buffer_size=10000)"
   ]
  },
  {
   "cell_type": "code",
   "execution_count": 6,
   "id": "5ccc7126",
   "metadata": {},
   "outputs": [],
   "source": [
    "train_loader = DataLoader(train_dataset, batch_size=256, collate_fn=collate_fn)\n",
    "val_loader = DataLoader(val_dataset, batch_size=256, collate_fn=collate_fn)\n",
    "test_loader = DataLoader(test_dataset, batch_size=256, collate_fn=collate_fn)"
   ]
  },
  {
   "cell_type": "code",
   "execution_count": 15,
   "id": "d2e42069",
   "metadata": {},
   "outputs": [],
   "source": [
    "import torch\n",
    "import torch.nn as nn\n",
    "\n",
    "class FFN(nn.Module):\n",
    "    def __init__(self, input_size, hidden_size=256, dropout_prob=0.2):\n",
    "        super().__init__()\n",
    "        self.fc1 = nn.Linear(input_size, hidden_size)\n",
    "        self.relu = nn.ReLU(inplace=True)\n",
    "        self.dropout = nn.Dropout(p=dropout_prob)\n",
    "        self.fc2 = nn.Linear(hidden_size, hidden_size // 2)\n",
    "\n",
    "    def forward(self, x):\n",
    "        x = self.relu(self.fc1(x))\n",
    "        x = self.dropout(x)\n",
    "        x = self.relu(self.fc2(x))\n",
    "        return x\n",
    "\n",
    "class ChessEvalMLP(nn.Module):\n",
    "    def __init__(self, input_planes=17, hidden_size=512, dropout_prob=0.1):\n",
    "        super().__init__()\n",
    "        input_size = input_planes * 8 * 8  # because of piece maps (channels * 8 * 8)\n",
    "\n",
    "        self.backbone = FFN(input_size, hidden_size=hidden_size, dropout_prob=dropout_prob)\n",
    "\n",
    "        # Two heads\n",
    "        self.eval_head = nn.Linear(hidden_size // 2, 1)  # For regression\n",
    "        self.win_head = nn.Linear(hidden_size // 2, 1)   # For binary classification\n",
    "\n",
    "    def forward(self, x):\n",
    "        x = torch.flatten(x, 1)  # (batch_size, channels*8*8)\n",
    "        features = self.backbone(x)\n",
    "        eval_output = self.eval_head(features)     # Regression output (centipawns)\n",
    "        win_output = self.win_head(features)       # Classification output (winning/not)\n",
    "\n",
    "        return eval_output, win_output"
   ]
  },
  {
   "cell_type": "code",
   "execution_count": 16,
   "id": "70193073",
   "metadata": {},
   "outputs": [
    {
     "name": "stdout",
     "output_type": "stream",
     "text": [
      "torch.Size([32, 1]) torch.Size([32, 1])\n"
     ]
    }
   ],
   "source": [
    "input_tensor = torch.randn(32, 17, 8, 8)  # A batch of 32 chessboard positions\n",
    "\n",
    "model = ChessEvalMLP()\n",
    "output = model(input_tensor)\n",
    "\n",
    "print(output[0].shape, output[1].shape)"
   ]
  },
  {
   "cell_type": "code",
   "execution_count": 17,
   "id": "faecca58",
   "metadata": {},
   "outputs": [],
   "source": [
    "NUM_EPOCHS = 1\n",
    "total_iters = NUM_EPOCHS * ((num_training_examples // 256) + 1)\n",
    "\n",
    "model = ChessEvalMLP().to(DEVICE)\n",
    "optimizer = torch.optim.Adam(model.parameters(), lr=1e-3)\n",
    "scheduler = CosineAnnealingLR(optimizer, T_max=total_iters, eta_min=1e-4)\n",
    "eval_criterion = nn.MSELoss()\n",
    "win_criterion = nn.BCEWithLogitsLoss()"
   ]
  },
  {
   "cell_type": "code",
   "execution_count": 18,
   "id": "aa550541",
   "metadata": {},
   "outputs": [
    {
     "name": "stderr",
     "output_type": "stream",
     "text": [
      "Epoch 1: 1006it [00:28, 35.70it/s]"
     ]
    },
    {
     "name": "stdout",
     "output_type": "stream",
     "text": [
      "Step 1000 — train_loss: 0.6486, train_mae: 0.2300, train_win_acc: 0.7208\n"
     ]
    },
    {
     "name": "stderr",
     "output_type": "stream",
     "text": [
      "Epoch 1: 2006it [00:56, 35.18it/s]"
     ]
    },
    {
     "name": "stdout",
     "output_type": "stream",
     "text": [
      "Step 2000 — train_loss: 0.6163, train_mae: 0.2203, train_win_acc: 0.7391\n"
     ]
    },
    {
     "name": "stderr",
     "output_type": "stream",
     "text": [
      "Epoch 1: 3006it [01:24, 35.72it/s]"
     ]
    },
    {
     "name": "stdout",
     "output_type": "stream",
     "text": [
      "Step 3000 — train_loss: 0.6070, train_mae: 0.2161, train_win_acc: 0.7443\n"
     ]
    },
    {
     "name": "stderr",
     "output_type": "stream",
     "text": [
      "Epoch 1: 4006it [01:52, 35.18it/s]"
     ]
    },
    {
     "name": "stdout",
     "output_type": "stream",
     "text": [
      "Step 4000 — train_loss: 0.5996, train_mae: 0.2130, train_win_acc: 0.7481\n"
     ]
    },
    {
     "name": "stderr",
     "output_type": "stream",
     "text": [
      "Epoch 1: 4998it [02:19, 34.77it/s]"
     ]
    },
    {
     "name": "stdout",
     "output_type": "stream",
     "text": [
      "Step 5000 — train_loss: 0.5935, train_mae: 0.2110, train_win_acc: 0.7515\n"
     ]
    },
    {
     "name": "stderr",
     "output_type": "stream",
     "text": [
      "Epoch 1: 5004it [03:23,  3.73s/it]"
     ]
    },
    {
     "name": "stdout",
     "output_type": "stream",
     "text": [
      "\n",
      "[Validation] Step 5000 — train_loss: 0.5935, train_mae: 0.2110, train_win_acc: 0.7515, val_loss: 0.1121, val_mae: 0.2259, val_win_acc: 0.7071, LR: 0.000999\n",
      "Saved new best model after 5000 iters\n",
      "--------Validation MAE improved to 0.225945--------\n"
     ]
    },
    {
     "name": "stderr",
     "output_type": "stream",
     "text": [
      "Epoch 1: 6004it [03:50, 36.98it/s]"
     ]
    },
    {
     "name": "stdout",
     "output_type": "stream",
     "text": [
      "Step 6000 — train_loss: 0.5902, train_mae: 0.2091, train_win_acc: 0.7534\n"
     ]
    },
    {
     "name": "stderr",
     "output_type": "stream",
     "text": [
      "Epoch 1: 7004it [04:18, 36.78it/s]"
     ]
    },
    {
     "name": "stdout",
     "output_type": "stream",
     "text": [
      "Step 7000 — train_loss: 0.5882, train_mae: 0.2082, train_win_acc: 0.7548\n"
     ]
    },
    {
     "name": "stderr",
     "output_type": "stream",
     "text": [
      "Epoch 1: 8004it [04:45, 37.11it/s]"
     ]
    },
    {
     "name": "stdout",
     "output_type": "stream",
     "text": [
      "Step 8000 — train_loss: 0.5850, train_mae: 0.2076, train_win_acc: 0.7567\n"
     ]
    },
    {
     "name": "stderr",
     "output_type": "stream",
     "text": [
      "Epoch 1: 9004it [05:12, 36.24it/s]"
     ]
    },
    {
     "name": "stdout",
     "output_type": "stream",
     "text": [
      "Step 9000 — train_loss: 0.5833, train_mae: 0.2071, train_win_acc: 0.7576\n"
     ]
    },
    {
     "name": "stderr",
     "output_type": "stream",
     "text": [
      "Epoch 1: 9996it [05:39, 36.64it/s]"
     ]
    },
    {
     "name": "stdout",
     "output_type": "stream",
     "text": [
      "Step 10000 — train_loss: 0.5810, train_mae: 0.2060, train_win_acc: 0.7586\n"
     ]
    },
    {
     "name": "stderr",
     "output_type": "stream",
     "text": [
      "Epoch 1: 10004it [06:40,  3.24s/it]"
     ]
    },
    {
     "name": "stdout",
     "output_type": "stream",
     "text": [
      "\n",
      "[Validation] Step 10000 — train_loss: 0.5810, train_mae: 0.2060, train_win_acc: 0.7586, val_loss: 0.1022, val_mae: 0.2113, val_win_acc: 0.7241, LR: 0.000996\n",
      "Saved new best model after 10000 iters\n",
      "--------Validation MAE improved to 0.211325--------\n"
     ]
    },
    {
     "name": "stderr",
     "output_type": "stream",
     "text": [
      "Epoch 1: 11004it [07:08, 36.59it/s]"
     ]
    },
    {
     "name": "stdout",
     "output_type": "stream",
     "text": [
      "Step 11000 — train_loss: 0.5784, train_mae: 0.2059, train_win_acc: 0.7604\n"
     ]
    },
    {
     "name": "stderr",
     "output_type": "stream",
     "text": [
      "Epoch 1: 12004it [07:35, 36.14it/s]"
     ]
    },
    {
     "name": "stdout",
     "output_type": "stream",
     "text": [
      "Step 12000 — train_loss: 0.5769, train_mae: 0.2051, train_win_acc: 0.7611\n"
     ]
    },
    {
     "name": "stderr",
     "output_type": "stream",
     "text": [
      "Epoch 1: 13004it [08:04, 32.70it/s]"
     ]
    },
    {
     "name": "stdout",
     "output_type": "stream",
     "text": [
      "Step 13000 — train_loss: 0.5752, train_mae: 0.2048, train_win_acc: 0.7623\n"
     ]
    },
    {
     "name": "stderr",
     "output_type": "stream",
     "text": [
      "Epoch 1: 14004it [08:32, 36.59it/s]"
     ]
    },
    {
     "name": "stdout",
     "output_type": "stream",
     "text": [
      "Step 14000 — train_loss: 0.5733, train_mae: 0.2039, train_win_acc: 0.7631\n"
     ]
    },
    {
     "name": "stderr",
     "output_type": "stream",
     "text": [
      "Epoch 1: 14996it [08:59, 36.82it/s]"
     ]
    },
    {
     "name": "stdout",
     "output_type": "stream",
     "text": [
      "Step 15000 — train_loss: 0.5728, train_mae: 0.2032, train_win_acc: 0.7634\n"
     ]
    },
    {
     "name": "stderr",
     "output_type": "stream",
     "text": [
      "Epoch 1: 15004it [10:00,  3.21s/it]"
     ]
    },
    {
     "name": "stdout",
     "output_type": "stream",
     "text": [
      "\n",
      "[Validation] Step 15000 — train_loss: 0.5728, train_mae: 0.2032, train_win_acc: 0.7634, val_loss: 0.0991, val_mae: 0.2070, val_win_acc: 0.7308, LR: 0.000991\n",
      "Saved new best model after 15000 iters\n",
      "--------Validation MAE improved to 0.206955--------\n"
     ]
    },
    {
     "name": "stderr",
     "output_type": "stream",
     "text": [
      "Epoch 1: 16004it [10:28, 36.02it/s]"
     ]
    },
    {
     "name": "stdout",
     "output_type": "stream",
     "text": [
      "Step 16000 — train_loss: 0.5719, train_mae: 0.2032, train_win_acc: 0.7640\n"
     ]
    },
    {
     "name": "stderr",
     "output_type": "stream",
     "text": [
      "Epoch 1: 17004it [10:56, 35.49it/s]"
     ]
    },
    {
     "name": "stdout",
     "output_type": "stream",
     "text": [
      "Step 17000 — train_loss: 0.5711, train_mae: 0.2027, train_win_acc: 0.7642\n"
     ]
    },
    {
     "name": "stderr",
     "output_type": "stream",
     "text": [
      "Epoch 1: 18004it [11:24, 35.99it/s]"
     ]
    },
    {
     "name": "stdout",
     "output_type": "stream",
     "text": [
      "Step 18000 — train_loss: 0.5706, train_mae: 0.2022, train_win_acc: 0.7643\n"
     ]
    },
    {
     "name": "stderr",
     "output_type": "stream",
     "text": [
      "Epoch 1: 19004it [11:52, 37.01it/s]"
     ]
    },
    {
     "name": "stdout",
     "output_type": "stream",
     "text": [
      "Step 19000 — train_loss: 0.5701, train_mae: 0.2016, train_win_acc: 0.7645\n"
     ]
    },
    {
     "name": "stderr",
     "output_type": "stream",
     "text": [
      "Epoch 1: 19996it [12:19, 36.54it/s]"
     ]
    },
    {
     "name": "stdout",
     "output_type": "stream",
     "text": [
      "Step 20000 — train_loss: 0.5689, train_mae: 0.2016, train_win_acc: 0.7653\n"
     ]
    },
    {
     "name": "stderr",
     "output_type": "stream",
     "text": [
      "Epoch 1: 20004it [13:20,  3.24s/it]"
     ]
    },
    {
     "name": "stdout",
     "output_type": "stream",
     "text": [
      "\n",
      "[Validation] Step 20000 — train_loss: 0.5689, train_mae: 0.2016, train_win_acc: 0.7653, val_loss: 0.0980, val_mae: 0.2072, val_win_acc: 0.7357, LR: 0.000983\n",
      "Saved new best model after 20000 iters\n",
      "--------No significant MAE improvement for 5000 iterations--------\n"
     ]
    },
    {
     "name": "stderr",
     "output_type": "stream",
     "text": [
      "Epoch 1: 21004it [13:49, 33.06it/s]"
     ]
    },
    {
     "name": "stdout",
     "output_type": "stream",
     "text": [
      "Step 21000 — train_loss: 0.5675, train_mae: 0.2010, train_win_acc: 0.7660\n"
     ]
    },
    {
     "name": "stderr",
     "output_type": "stream",
     "text": [
      "Epoch 1: 22004it [14:17, 36.80it/s]"
     ]
    },
    {
     "name": "stdout",
     "output_type": "stream",
     "text": [
      "Step 22000 — train_loss: 0.5662, train_mae: 0.2001, train_win_acc: 0.7665\n"
     ]
    },
    {
     "name": "stderr",
     "output_type": "stream",
     "text": [
      "Epoch 1: 23004it [14:44, 36.68it/s]"
     ]
    },
    {
     "name": "stdout",
     "output_type": "stream",
     "text": [
      "Step 23000 — train_loss: 0.5641, train_mae: 0.1988, train_win_acc: 0.7674\n"
     ]
    },
    {
     "name": "stderr",
     "output_type": "stream",
     "text": [
      "Epoch 1: 24004it [15:12, 36.73it/s]"
     ]
    },
    {
     "name": "stdout",
     "output_type": "stream",
     "text": [
      "Step 24000 — train_loss: 0.5634, train_mae: 0.1982, train_win_acc: 0.7680\n"
     ]
    },
    {
     "name": "stderr",
     "output_type": "stream",
     "text": [
      "Epoch 1: 24996it [15:39, 36.75it/s]"
     ]
    },
    {
     "name": "stdout",
     "output_type": "stream",
     "text": [
      "Step 25000 — train_loss: 0.5624, train_mae: 0.1973, train_win_acc: 0.7683\n"
     ]
    },
    {
     "name": "stderr",
     "output_type": "stream",
     "text": [
      "Epoch 1: 25004it [16:40,  3.21s/it]"
     ]
    },
    {
     "name": "stdout",
     "output_type": "stream",
     "text": [
      "\n",
      "[Validation] Step 25000 — train_loss: 0.5624, train_mae: 0.1973, train_win_acc: 0.7683, val_loss: 0.0980, val_mae: 0.2068, val_win_acc: 0.7376, LR: 0.000974\n",
      "Saved new best model after 25000 iters\n",
      "--------No significant MAE improvement for 10000 iterations--------\n"
     ]
    },
    {
     "name": "stderr",
     "output_type": "stream",
     "text": [
      "Epoch 1: 26004it [17:07, 36.25it/s]"
     ]
    },
    {
     "name": "stdout",
     "output_type": "stream",
     "text": [
      "Step 26000 — train_loss: 0.5610, train_mae: 0.1964, train_win_acc: 0.7688\n"
     ]
    },
    {
     "name": "stderr",
     "output_type": "stream",
     "text": [
      "Epoch 1: 27004it [17:34, 37.09it/s]"
     ]
    },
    {
     "name": "stdout",
     "output_type": "stream",
     "text": [
      "Step 27000 — train_loss: 0.5601, train_mae: 0.1958, train_win_acc: 0.7692\n"
     ]
    },
    {
     "name": "stderr",
     "output_type": "stream",
     "text": [
      "Epoch 1: 28004it [18:02, 36.74it/s]"
     ]
    },
    {
     "name": "stdout",
     "output_type": "stream",
     "text": [
      "Step 28000 — train_loss: 0.5594, train_mae: 0.1952, train_win_acc: 0.7694\n"
     ]
    },
    {
     "name": "stderr",
     "output_type": "stream",
     "text": [
      "Epoch 1: 29004it [18:29, 37.05it/s]"
     ]
    },
    {
     "name": "stdout",
     "output_type": "stream",
     "text": [
      "Step 29000 — train_loss: 0.5570, train_mae: 0.1948, train_win_acc: 0.7707\n"
     ]
    },
    {
     "name": "stderr",
     "output_type": "stream",
     "text": [
      "Epoch 1: 29996it [18:57, 32.60it/s]"
     ]
    },
    {
     "name": "stdout",
     "output_type": "stream",
     "text": [
      "Step 30000 — train_loss: 0.5560, train_mae: 0.1946, train_win_acc: 0.7712\n"
     ]
    },
    {
     "name": "stderr",
     "output_type": "stream",
     "text": [
      "Epoch 1: 30004it [19:58,  3.26s/it]"
     ]
    },
    {
     "name": "stdout",
     "output_type": "stream",
     "text": [
      "\n",
      "[Validation] Step 30000 — train_loss: 0.5560, train_mae: 0.1946, train_win_acc: 0.7712, val_loss: 0.0954, val_mae: 0.2036, val_win_acc: 0.7422, LR: 0.000963\n",
      "Saved new best model after 30000 iters\n",
      "--------Validation MAE improved to 0.203555--------\n"
     ]
    },
    {
     "name": "stderr",
     "output_type": "stream",
     "text": [
      "Epoch 1: 31004it [20:26, 36.86it/s]"
     ]
    },
    {
     "name": "stdout",
     "output_type": "stream",
     "text": [
      "Step 31000 — train_loss: 0.5555, train_mae: 0.1943, train_win_acc: 0.7714\n"
     ]
    },
    {
     "name": "stderr",
     "output_type": "stream",
     "text": [
      "Epoch 1: 32004it [20:53, 36.43it/s]"
     ]
    },
    {
     "name": "stdout",
     "output_type": "stream",
     "text": [
      "Step 32000 — train_loss: 0.5551, train_mae: 0.1939, train_win_acc: 0.7716\n"
     ]
    },
    {
     "name": "stderr",
     "output_type": "stream",
     "text": [
      "Epoch 1: 33004it [21:21, 37.19it/s]"
     ]
    },
    {
     "name": "stdout",
     "output_type": "stream",
     "text": [
      "Step 33000 — train_loss: 0.5524, train_mae: 0.1936, train_win_acc: 0.7731\n"
     ]
    },
    {
     "name": "stderr",
     "output_type": "stream",
     "text": [
      "Epoch 1: 34004it [21:48, 36.64it/s]"
     ]
    },
    {
     "name": "stdout",
     "output_type": "stream",
     "text": [
      "Step 34000 — train_loss: 0.5514, train_mae: 0.1934, train_win_acc: 0.7736\n"
     ]
    },
    {
     "name": "stderr",
     "output_type": "stream",
     "text": [
      "Epoch 1: 34996it [22:15, 36.02it/s]"
     ]
    },
    {
     "name": "stdout",
     "output_type": "stream",
     "text": [
      "Step 35000 — train_loss: 0.5509, train_mae: 0.1932, train_win_acc: 0.7739\n"
     ]
    },
    {
     "name": "stderr",
     "output_type": "stream",
     "text": [
      "Epoch 1: 35004it [23:16,  3.22s/it]"
     ]
    },
    {
     "name": "stdout",
     "output_type": "stream",
     "text": [
      "\n",
      "[Validation] Step 35000 — train_loss: 0.5509, train_mae: 0.1932, train_win_acc: 0.7739, val_loss: 0.0932, val_mae: 0.2032, val_win_acc: 0.7416, LR: 0.000949\n",
      "Saved new best model after 35000 iters\n",
      "--------No significant MAE improvement for 5000 iterations--------\n"
     ]
    },
    {
     "name": "stderr",
     "output_type": "stream",
     "text": [
      "Epoch 1: 36004it [23:44, 35.62it/s]"
     ]
    },
    {
     "name": "stdout",
     "output_type": "stream",
     "text": [
      "Step 36000 — train_loss: 0.5506, train_mae: 0.1929, train_win_acc: 0.7740\n"
     ]
    },
    {
     "name": "stderr",
     "output_type": "stream",
     "text": [
      "Epoch 1: 37004it [24:11, 35.88it/s]"
     ]
    },
    {
     "name": "stdout",
     "output_type": "stream",
     "text": [
      "Step 37000 — train_loss: 0.5505, train_mae: 0.1930, train_win_acc: 0.7740\n"
     ]
    },
    {
     "name": "stderr",
     "output_type": "stream",
     "text": [
      "Epoch 1: 38004it [24:39, 32.55it/s]"
     ]
    },
    {
     "name": "stdout",
     "output_type": "stream",
     "text": [
      "Step 38000 — train_loss: 0.5505, train_mae: 0.1929, train_win_acc: 0.7740\n"
     ]
    },
    {
     "name": "stderr",
     "output_type": "stream",
     "text": [
      "Epoch 1: 39004it [25:08, 36.73it/s]"
     ]
    },
    {
     "name": "stdout",
     "output_type": "stream",
     "text": [
      "Step 39000 — train_loss: 0.5500, train_mae: 0.1929, train_win_acc: 0.7743\n"
     ]
    },
    {
     "name": "stderr",
     "output_type": "stream",
     "text": [
      "Epoch 1: 39996it [25:36, 36.95it/s]"
     ]
    },
    {
     "name": "stdout",
     "output_type": "stream",
     "text": [
      "Step 40000 — train_loss: 0.5499, train_mae: 0.1927, train_win_acc: 0.7743\n"
     ]
    },
    {
     "name": "stderr",
     "output_type": "stream",
     "text": [
      "Epoch 1: 40004it [26:37,  3.21s/it]"
     ]
    },
    {
     "name": "stdout",
     "output_type": "stream",
     "text": [
      "\n",
      "[Validation] Step 40000 — train_loss: 0.5499, train_mae: 0.1927, train_win_acc: 0.7743, val_loss: 0.0929, val_mae: 0.1993, val_win_acc: 0.7449, LR: 0.000934\n",
      "Saved new best model after 40000 iters\n",
      "--------Validation MAE improved to 0.199329--------\n"
     ]
    },
    {
     "name": "stderr",
     "output_type": "stream",
     "text": [
      "Epoch 1: 41004it [27:04, 36.98it/s]"
     ]
    },
    {
     "name": "stdout",
     "output_type": "stream",
     "text": [
      "Step 41000 — train_loss: 0.5497, train_mae: 0.1926, train_win_acc: 0.7745\n"
     ]
    },
    {
     "name": "stderr",
     "output_type": "stream",
     "text": [
      "Epoch 1: 42004it [27:31, 37.05it/s]"
     ]
    },
    {
     "name": "stdout",
     "output_type": "stream",
     "text": [
      "Step 42000 — train_loss: 0.5492, train_mae: 0.1923, train_win_acc: 0.7746\n"
     ]
    },
    {
     "name": "stderr",
     "output_type": "stream",
     "text": [
      "Epoch 1: 43004it [27:58, 36.96it/s]"
     ]
    },
    {
     "name": "stdout",
     "output_type": "stream",
     "text": [
      "Step 43000 — train_loss: 0.5489, train_mae: 0.1922, train_win_acc: 0.7747\n"
     ]
    },
    {
     "name": "stderr",
     "output_type": "stream",
     "text": [
      "Epoch 1: 44004it [28:27, 36.84it/s]"
     ]
    },
    {
     "name": "stdout",
     "output_type": "stream",
     "text": [
      "Step 44000 — train_loss: 0.5485, train_mae: 0.1919, train_win_acc: 0.7748\n"
     ]
    },
    {
     "name": "stderr",
     "output_type": "stream",
     "text": [
      "Epoch 1: 44996it [28:54, 37.08it/s]"
     ]
    },
    {
     "name": "stdout",
     "output_type": "stream",
     "text": [
      "Step 45000 — train_loss: 0.5481, train_mae: 0.1915, train_win_acc: 0.7750\n"
     ]
    },
    {
     "name": "stderr",
     "output_type": "stream",
     "text": [
      "Epoch 1: 45004it [29:55,  3.21s/it]"
     ]
    },
    {
     "name": "stdout",
     "output_type": "stream",
     "text": [
      "\n",
      "[Validation] Step 45000 — train_loss: 0.5481, train_mae: 0.1915, train_win_acc: 0.7750, val_loss: 0.0913, val_mae: 0.1963, val_win_acc: 0.7507, LR: 0.000917\n",
      "Saved new best model after 45000 iters\n",
      "--------Validation MAE improved to 0.196270--------\n"
     ]
    },
    {
     "name": "stderr",
     "output_type": "stream",
     "text": [
      "Epoch 1: 46004it [30:22, 37.13it/s]"
     ]
    },
    {
     "name": "stdout",
     "output_type": "stream",
     "text": [
      "Step 46000 — train_loss: 0.5475, train_mae: 0.1913, train_win_acc: 0.7752\n"
     ]
    },
    {
     "name": "stderr",
     "output_type": "stream",
     "text": [
      "Epoch 1: 47004it [30:50, 36.81it/s]"
     ]
    },
    {
     "name": "stdout",
     "output_type": "stream",
     "text": [
      "Step 47000 — train_loss: 0.5470, train_mae: 0.1908, train_win_acc: 0.7755\n"
     ]
    },
    {
     "name": "stderr",
     "output_type": "stream",
     "text": [
      "Epoch 1: 48004it [31:17, 36.88it/s]"
     ]
    },
    {
     "name": "stdout",
     "output_type": "stream",
     "text": [
      "Step 48000 — train_loss: 0.5457, train_mae: 0.1908, train_win_acc: 0.7763\n"
     ]
    },
    {
     "name": "stderr",
     "output_type": "stream",
     "text": [
      "Epoch 1: 49004it [31:45, 36.63it/s]"
     ]
    },
    {
     "name": "stdout",
     "output_type": "stream",
     "text": [
      "Step 49000 — train_loss: 0.5455, train_mae: 0.1908, train_win_acc: 0.7764\n"
     ]
    },
    {
     "name": "stderr",
     "output_type": "stream",
     "text": [
      "Epoch 1: 49996it [32:13, 36.68it/s]"
     ]
    },
    {
     "name": "stdout",
     "output_type": "stream",
     "text": [
      "Step 50000 — train_loss: 0.5452, train_mae: 0.1905, train_win_acc: 0.7764\n"
     ]
    },
    {
     "name": "stderr",
     "output_type": "stream",
     "text": [
      "Epoch 1: 50004it [33:14,  3.23s/it]"
     ]
    },
    {
     "name": "stdout",
     "output_type": "stream",
     "text": [
      "\n",
      "[Validation] Step 50000 — train_loss: 0.5452, train_mae: 0.1905, train_win_acc: 0.7764, val_loss: 0.0895, val_mae: 0.1937, val_win_acc: 0.7508, LR: 0.000899\n",
      "Saved new best model after 50000 iters\n",
      "--------Validation MAE improved to 0.193729--------\n"
     ]
    },
    {
     "name": "stderr",
     "output_type": "stream",
     "text": [
      "Epoch 1: 51004it [33:42, 35.79it/s]"
     ]
    },
    {
     "name": "stdout",
     "output_type": "stream",
     "text": [
      "Step 51000 — train_loss: 0.5453, train_mae: 0.1903, train_win_acc: 0.7763\n"
     ]
    },
    {
     "name": "stderr",
     "output_type": "stream",
     "text": [
      "Epoch 1: 52004it [34:09, 35.52it/s]"
     ]
    },
    {
     "name": "stdout",
     "output_type": "stream",
     "text": [
      "Step 52000 — train_loss: 0.5451, train_mae: 0.1904, train_win_acc: 0.7764\n"
     ]
    },
    {
     "name": "stderr",
     "output_type": "stream",
     "text": [
      "Epoch 1: 53004it [34:37, 37.08it/s]"
     ]
    },
    {
     "name": "stdout",
     "output_type": "stream",
     "text": [
      "Step 53000 — train_loss: 0.5447, train_mae: 0.1902, train_win_acc: 0.7766\n"
     ]
    },
    {
     "name": "stderr",
     "output_type": "stream",
     "text": [
      "Epoch 1: 54004it [35:06, 32.87it/s]"
     ]
    },
    {
     "name": "stdout",
     "output_type": "stream",
     "text": [
      "Step 54000 — train_loss: 0.5448, train_mae: 0.1903, train_win_acc: 0.7768\n"
     ]
    },
    {
     "name": "stderr",
     "output_type": "stream",
     "text": [
      "Epoch 1: 54996it [35:34, 35.35it/s]"
     ]
    },
    {
     "name": "stdout",
     "output_type": "stream",
     "text": [
      "Step 55000 — train_loss: 0.5447, train_mae: 0.1902, train_win_acc: 0.7767\n"
     ]
    },
    {
     "name": "stderr",
     "output_type": "stream",
     "text": [
      "Epoch 1: 55004it [36:35,  3.21s/it]"
     ]
    },
    {
     "name": "stdout",
     "output_type": "stream",
     "text": [
      "\n",
      "[Validation] Step 55000 — train_loss: 0.5447, train_mae: 0.1902, train_win_acc: 0.7767, val_loss: 0.0879, val_mae: 0.1923, val_win_acc: 0.7595, LR: 0.000879\n",
      "Saved new best model after 55000 iters\n",
      "--------Validation MAE improved to 0.192350--------\n"
     ]
    },
    {
     "name": "stderr",
     "output_type": "stream",
     "text": [
      "Epoch 1: 56004it [37:03, 36.88it/s]"
     ]
    },
    {
     "name": "stdout",
     "output_type": "stream",
     "text": [
      "Step 56000 — train_loss: 0.5445, train_mae: 0.1901, train_win_acc: 0.7768\n"
     ]
    },
    {
     "name": "stderr",
     "output_type": "stream",
     "text": [
      "Epoch 1: 57004it [37:30, 35.77it/s]"
     ]
    },
    {
     "name": "stdout",
     "output_type": "stream",
     "text": [
      "Step 57000 — train_loss: 0.5443, train_mae: 0.1901, train_win_acc: 0.7769\n"
     ]
    },
    {
     "name": "stderr",
     "output_type": "stream",
     "text": [
      "Epoch 1: 58004it [37:58, 36.58it/s]"
     ]
    },
    {
     "name": "stdout",
     "output_type": "stream",
     "text": [
      "Step 58000 — train_loss: 0.5442, train_mae: 0.1900, train_win_acc: 0.7769\n"
     ]
    },
    {
     "name": "stderr",
     "output_type": "stream",
     "text": [
      "Epoch 1: 59004it [38:25, 36.64it/s]"
     ]
    },
    {
     "name": "stdout",
     "output_type": "stream",
     "text": [
      "Step 59000 — train_loss: 0.5442, train_mae: 0.1900, train_win_acc: 0.7770\n"
     ]
    },
    {
     "name": "stderr",
     "output_type": "stream",
     "text": [
      "Epoch 1: 59996it [38:52, 36.33it/s]"
     ]
    },
    {
     "name": "stdout",
     "output_type": "stream",
     "text": [
      "Step 60000 — train_loss: 0.5439, train_mae: 0.1899, train_win_acc: 0.7771\n"
     ]
    },
    {
     "name": "stderr",
     "output_type": "stream",
     "text": [
      "Epoch 1: 60004it [39:56,  3.39s/it]"
     ]
    },
    {
     "name": "stdout",
     "output_type": "stream",
     "text": [
      "\n",
      "[Validation] Step 60000 — train_loss: 0.5439, train_mae: 0.1899, train_win_acc: 0.7771, val_loss: 0.0863, val_mae: 0.1917, val_win_acc: 0.7603, LR: 0.000857\n",
      "Saved new best model after 60000 iters\n",
      "--------Validation MAE improved to 0.191726--------\n"
     ]
    },
    {
     "name": "stderr",
     "output_type": "stream",
     "text": [
      "Epoch 1: 61004it [40:25, 34.68it/s]"
     ]
    },
    {
     "name": "stdout",
     "output_type": "stream",
     "text": [
      "Step 61000 — train_loss: 0.5436, train_mae: 0.1898, train_win_acc: 0.7772\n"
     ]
    },
    {
     "name": "stderr",
     "output_type": "stream",
     "text": [
      "Epoch 1: 62004it [40:54, 36.64it/s]"
     ]
    },
    {
     "name": "stdout",
     "output_type": "stream",
     "text": [
      "Step 62000 — train_loss: 0.5433, train_mae: 0.1897, train_win_acc: 0.7774\n"
     ]
    },
    {
     "name": "stderr",
     "output_type": "stream",
     "text": [
      "Epoch 1: 63004it [41:22, 35.03it/s]"
     ]
    },
    {
     "name": "stdout",
     "output_type": "stream",
     "text": [
      "Step 63000 — train_loss: 0.5429, train_mae: 0.1896, train_win_acc: 0.7776\n"
     ]
    },
    {
     "name": "stderr",
     "output_type": "stream",
     "text": [
      "Epoch 1: 64004it [41:50, 36.35it/s]"
     ]
    },
    {
     "name": "stdout",
     "output_type": "stream",
     "text": [
      "Step 64000 — train_loss: 0.5425, train_mae: 0.1894, train_win_acc: 0.7777\n"
     ]
    },
    {
     "name": "stderr",
     "output_type": "stream",
     "text": [
      "Epoch 1: 64996it [42:17, 36.26it/s]"
     ]
    },
    {
     "name": "stdout",
     "output_type": "stream",
     "text": [
      "Step 65000 — train_loss: 0.5423, train_mae: 0.1894, train_win_acc: 0.7779\n"
     ]
    },
    {
     "name": "stderr",
     "output_type": "stream",
     "text": [
      "Epoch 1: 65004it [43:19,  3.26s/it]"
     ]
    },
    {
     "name": "stdout",
     "output_type": "stream",
     "text": [
      "\n",
      "[Validation] Step 65000 — train_loss: 0.5423, train_mae: 0.1894, train_win_acc: 0.7779, val_loss: 0.0864, val_mae: 0.1909, val_win_acc: 0.7603, LR: 0.000834\n",
      "--------Validation MAE improved to 0.190886--------\n"
     ]
    },
    {
     "name": "stderr",
     "output_type": "stream",
     "text": [
      "Epoch 1: 66004it [43:47, 35.29it/s]"
     ]
    },
    {
     "name": "stdout",
     "output_type": "stream",
     "text": [
      "Step 66000 — train_loss: 0.5420, train_mae: 0.1893, train_win_acc: 0.7780\n"
     ]
    },
    {
     "name": "stderr",
     "output_type": "stream",
     "text": [
      "Epoch 1: 67004it [44:15, 35.87it/s]"
     ]
    },
    {
     "name": "stdout",
     "output_type": "stream",
     "text": [
      "Step 67000 — train_loss: 0.5418, train_mae: 0.1893, train_win_acc: 0.7781\n"
     ]
    },
    {
     "name": "stderr",
     "output_type": "stream",
     "text": [
      "Epoch 1: 68004it [44:43, 26.57it/s]"
     ]
    },
    {
     "name": "stdout",
     "output_type": "stream",
     "text": [
      "Step 68000 — train_loss: 0.5416, train_mae: 0.1892, train_win_acc: 0.7782\n"
     ]
    },
    {
     "name": "stderr",
     "output_type": "stream",
     "text": [
      "Epoch 1: 69004it [45:11, 36.51it/s]"
     ]
    },
    {
     "name": "stdout",
     "output_type": "stream",
     "text": [
      "Step 69000 — train_loss: 0.5414, train_mae: 0.1892, train_win_acc: 0.7783\n"
     ]
    },
    {
     "name": "stderr",
     "output_type": "stream",
     "text": [
      "Epoch 1: 69996it [45:38, 36.18it/s]"
     ]
    },
    {
     "name": "stdout",
     "output_type": "stream",
     "text": [
      "Step 70000 — train_loss: 0.5411, train_mae: 0.1891, train_win_acc: 0.7784\n"
     ]
    },
    {
     "name": "stderr",
     "output_type": "stream",
     "text": [
      "Epoch 1: 70004it [46:43,  3.39s/it]"
     ]
    },
    {
     "name": "stdout",
     "output_type": "stream",
     "text": [
      "\n",
      "[Validation] Step 70000 — train_loss: 0.5411, train_mae: 0.1891, train_win_acc: 0.7784, val_loss: 0.0855, val_mae: 0.1904, val_win_acc: 0.7618, LR: 0.000809\n",
      "Saved new best model after 70000 iters\n",
      "--------No significant MAE improvement for 5000 iterations--------\n"
     ]
    },
    {
     "name": "stderr",
     "output_type": "stream",
     "text": [
      "Epoch 1: 71004it [47:11, 35.87it/s]"
     ]
    },
    {
     "name": "stdout",
     "output_type": "stream",
     "text": [
      "Step 71000 — train_loss: 0.5409, train_mae: 0.1890, train_win_acc: 0.7785\n"
     ]
    },
    {
     "name": "stderr",
     "output_type": "stream",
     "text": [
      "Epoch 1: 72004it [47:39, 36.23it/s]"
     ]
    },
    {
     "name": "stdout",
     "output_type": "stream",
     "text": [
      "Step 72000 — train_loss: 0.5407, train_mae: 0.1890, train_win_acc: 0.7786\n"
     ]
    },
    {
     "name": "stderr",
     "output_type": "stream",
     "text": [
      "Epoch 1: 73004it [48:07, 35.87it/s]"
     ]
    },
    {
     "name": "stdout",
     "output_type": "stream",
     "text": [
      "Step 73000 — train_loss: 0.5405, train_mae: 0.1889, train_win_acc: 0.7787\n"
     ]
    },
    {
     "name": "stderr",
     "output_type": "stream",
     "text": [
      "Epoch 1: 74005it [48:36, 32.85it/s]"
     ]
    },
    {
     "name": "stdout",
     "output_type": "stream",
     "text": [
      "Step 74000 — train_loss: 0.5405, train_mae: 0.1888, train_win_acc: 0.7787\n"
     ]
    },
    {
     "name": "stderr",
     "output_type": "stream",
     "text": [
      "Epoch 1: 74997it [49:05, 34.83it/s]"
     ]
    },
    {
     "name": "stdout",
     "output_type": "stream",
     "text": [
      "Step 75000 — train_loss: 0.5402, train_mae: 0.1887, train_win_acc: 0.7788\n"
     ]
    },
    {
     "name": "stderr",
     "output_type": "stream",
     "text": [
      "Epoch 1: 75004it [50:06,  3.42s/it]"
     ]
    },
    {
     "name": "stdout",
     "output_type": "stream",
     "text": [
      "\n",
      "[Validation] Step 75000 — train_loss: 0.5402, train_mae: 0.1887, train_win_acc: 0.7788, val_loss: 0.0875, val_mae: 0.1914, val_win_acc: 0.7620, LR: 0.000783\n",
      "--------No significant MAE improvement for 10000 iterations--------\n"
     ]
    },
    {
     "name": "stderr",
     "output_type": "stream",
     "text": [
      "Epoch 1: 76004it [50:34, 34.96it/s]"
     ]
    },
    {
     "name": "stdout",
     "output_type": "stream",
     "text": [
      "Step 76000 — train_loss: 0.5401, train_mae: 0.1888, train_win_acc: 0.7790\n"
     ]
    },
    {
     "name": "stderr",
     "output_type": "stream",
     "text": [
      "Epoch 1: 77003it [51:03, 35.19it/s]"
     ]
    },
    {
     "name": "stdout",
     "output_type": "stream",
     "text": [
      "Step 77000 — train_loss: 0.5399, train_mae: 0.1887, train_win_acc: 0.7790\n"
     ]
    },
    {
     "name": "stderr",
     "output_type": "stream",
     "text": [
      "Epoch 1: 78003it [51:31, 35.17it/s]"
     ]
    },
    {
     "name": "stdout",
     "output_type": "stream",
     "text": [
      "Step 78000 — train_loss: 0.5398, train_mae: 0.1886, train_win_acc: 0.7791\n"
     ]
    },
    {
     "name": "stderr",
     "output_type": "stream",
     "text": [
      "Epoch 1: 79007it [52:00, 35.46it/s]"
     ]
    },
    {
     "name": "stdout",
     "output_type": "stream",
     "text": [
      "Step 79000 — train_loss: 0.5396, train_mae: 0.1885, train_win_acc: 0.7792\n"
     ]
    },
    {
     "name": "stderr",
     "output_type": "stream",
     "text": [
      "Epoch 1: 79999it [52:30, 34.12it/s]"
     ]
    },
    {
     "name": "stdout",
     "output_type": "stream",
     "text": [
      "Step 80000 — train_loss: 0.5395, train_mae: 0.1884, train_win_acc: 0.7793\n"
     ]
    },
    {
     "name": "stderr",
     "output_type": "stream",
     "text": [
      "Epoch 1: 80004it [53:32,  3.92s/it]"
     ]
    },
    {
     "name": "stdout",
     "output_type": "stream",
     "text": [
      "\n",
      "[Validation] Step 80000 — train_loss: 0.5395, train_mae: 0.1884, train_win_acc: 0.7793, val_loss: 0.0848, val_mae: 0.1882, val_win_acc: 0.7621, LR: 0.000756\n",
      "Saved new best model after 80000 iters\n",
      "--------Validation MAE improved to 0.188155--------\n"
     ]
    },
    {
     "name": "stderr",
     "output_type": "stream",
     "text": [
      "Epoch 1: 81004it [54:00, 35.82it/s]"
     ]
    },
    {
     "name": "stdout",
     "output_type": "stream",
     "text": [
      "Step 81000 — train_loss: 0.5394, train_mae: 0.1883, train_win_acc: 0.7793\n"
     ]
    },
    {
     "name": "stderr",
     "output_type": "stream",
     "text": [
      "Epoch 1: 82004it [54:28, 36.39it/s]"
     ]
    },
    {
     "name": "stdout",
     "output_type": "stream",
     "text": [
      "Step 82000 — train_loss: 0.5392, train_mae: 0.1882, train_win_acc: 0.7794\n"
     ]
    },
    {
     "name": "stderr",
     "output_type": "stream",
     "text": [
      "Epoch 1: 83004it [54:56, 34.82it/s]"
     ]
    },
    {
     "name": "stdout",
     "output_type": "stream",
     "text": [
      "Step 83000 — train_loss: 0.5391, train_mae: 0.1882, train_win_acc: 0.7794\n"
     ]
    },
    {
     "name": "stderr",
     "output_type": "stream",
     "text": [
      "Epoch 1: 84004it [55:24, 35.34it/s]"
     ]
    },
    {
     "name": "stdout",
     "output_type": "stream",
     "text": [
      "Step 84000 — train_loss: 0.5389, train_mae: 0.1882, train_win_acc: 0.7796\n"
     ]
    },
    {
     "name": "stderr",
     "output_type": "stream",
     "text": [
      "Epoch 1: 84996it [55:52, 34.66it/s]"
     ]
    },
    {
     "name": "stdout",
     "output_type": "stream",
     "text": [
      "Step 85000 — train_loss: 0.5388, train_mae: 0.1881, train_win_acc: 0.7796\n"
     ]
    },
    {
     "name": "stderr",
     "output_type": "stream",
     "text": [
      "Epoch 1: 85004it [56:54,  3.27s/it]"
     ]
    },
    {
     "name": "stdout",
     "output_type": "stream",
     "text": [
      "\n",
      "[Validation] Step 85000 — train_loss: 0.5388, train_mae: 0.1881, train_win_acc: 0.7796, val_loss: 0.0828, val_mae: 0.1856, val_win_acc: 0.7662, LR: 0.000729\n",
      "Saved new best model after 85000 iters\n",
      "--------Validation MAE improved to 0.185571--------\n"
     ]
    },
    {
     "name": "stderr",
     "output_type": "stream",
     "text": [
      "Epoch 1: 86004it [57:22, 35.56it/s]"
     ]
    },
    {
     "name": "stdout",
     "output_type": "stream",
     "text": [
      "Step 86000 — train_loss: 0.5387, train_mae: 0.1881, train_win_acc: 0.7797\n"
     ]
    },
    {
     "name": "stderr",
     "output_type": "stream",
     "text": [
      "Epoch 1: 87006it [57:50, 35.98it/s]"
     ]
    },
    {
     "name": "stdout",
     "output_type": "stream",
     "text": [
      "Step 87000 — train_loss: 0.5384, train_mae: 0.1880, train_win_acc: 0.7798\n"
     ]
    },
    {
     "name": "stderr",
     "output_type": "stream",
     "text": [
      "Epoch 1: 88006it [58:18, 35.94it/s]"
     ]
    },
    {
     "name": "stdout",
     "output_type": "stream",
     "text": [
      "Step 88000 — train_loss: 0.5381, train_mae: 0.1879, train_win_acc: 0.7800\n"
     ]
    },
    {
     "name": "stderr",
     "output_type": "stream",
     "text": [
      "Epoch 1: 89006it [58:46, 35.48it/s]"
     ]
    },
    {
     "name": "stdout",
     "output_type": "stream",
     "text": [
      "Step 89000 — train_loss: 0.5375, train_mae: 0.1878, train_win_acc: 0.7802\n"
     ]
    },
    {
     "name": "stderr",
     "output_type": "stream",
     "text": [
      "Epoch 1: 89998it [59:14, 35.99it/s]"
     ]
    },
    {
     "name": "stdout",
     "output_type": "stream",
     "text": [
      "Step 90000 — train_loss: 0.5373, train_mae: 0.1877, train_win_acc: 0.7804\n"
     ]
    },
    {
     "name": "stderr",
     "output_type": "stream",
     "text": [
      "Epoch 1: 90004it [1:00:15,  3.61s/it]"
     ]
    },
    {
     "name": "stdout",
     "output_type": "stream",
     "text": [
      "\n",
      "[Validation] Step 90000 — train_loss: 0.5373, train_mae: 0.1877, train_win_acc: 0.7804, val_loss: 0.0831, val_mae: 0.1866, val_win_acc: 0.7669, LR: 0.000700\n",
      "--------No significant MAE improvement for 5000 iterations--------\n"
     ]
    },
    {
     "name": "stderr",
     "output_type": "stream",
     "text": [
      "Epoch 1: 91004it [1:00:44, 35.24it/s]"
     ]
    },
    {
     "name": "stdout",
     "output_type": "stream",
     "text": [
      "Step 91000 — train_loss: 0.5370, train_mae: 0.1876, train_win_acc: 0.7805\n"
     ]
    },
    {
     "name": "stderr",
     "output_type": "stream",
     "text": [
      "Epoch 1: 92004it [1:01:12, 34.99it/s]"
     ]
    },
    {
     "name": "stdout",
     "output_type": "stream",
     "text": [
      "Step 92000 — train_loss: 0.5368, train_mae: 0.1876, train_win_acc: 0.7807\n"
     ]
    },
    {
     "name": "stderr",
     "output_type": "stream",
     "text": [
      "Epoch 1: 93004it [1:01:41, 31.66it/s]"
     ]
    },
    {
     "name": "stdout",
     "output_type": "stream",
     "text": [
      "Step 93000 — train_loss: 0.5366, train_mae: 0.1875, train_win_acc: 0.7808\n"
     ]
    },
    {
     "name": "stderr",
     "output_type": "stream",
     "text": [
      "Epoch 1: 94004it [1:02:10, 35.86it/s]"
     ]
    },
    {
     "name": "stdout",
     "output_type": "stream",
     "text": [
      "Step 94000 — train_loss: 0.5363, train_mae: 0.1875, train_win_acc: 0.7809\n"
     ]
    },
    {
     "name": "stderr",
     "output_type": "stream",
     "text": [
      "Epoch 1: 94997it [1:02:39, 30.28it/s]"
     ]
    },
    {
     "name": "stdout",
     "output_type": "stream",
     "text": [
      "Step 95000 — train_loss: 0.5360, train_mae: 0.1874, train_win_acc: 0.7811\n"
     ]
    },
    {
     "name": "stderr",
     "output_type": "stream",
     "text": [
      "Epoch 1: 95003it [1:03:43,  3.89s/it]"
     ]
    },
    {
     "name": "stdout",
     "output_type": "stream",
     "text": [
      "\n",
      "[Validation] Step 95000 — train_loss: 0.5360, train_mae: 0.1874, train_win_acc: 0.7811, val_loss: 0.0827, val_mae: 0.1859, val_win_acc: 0.7698, LR: 0.000671\n",
      "Saved new best model after 95000 iters\n",
      "--------No significant MAE improvement for 10000 iterations--------\n"
     ]
    },
    {
     "name": "stderr",
     "output_type": "stream",
     "text": [
      "Epoch 1: 96007it [1:04:11, 35.06it/s]"
     ]
    },
    {
     "name": "stdout",
     "output_type": "stream",
     "text": [
      "Step 96000 — train_loss: 0.5357, train_mae: 0.1873, train_win_acc: 0.7812\n"
     ]
    },
    {
     "name": "stderr",
     "output_type": "stream",
     "text": [
      "Epoch 1: 97005it [1:04:40, 35.48it/s]"
     ]
    },
    {
     "name": "stdout",
     "output_type": "stream",
     "text": [
      "Step 97000 — train_loss: 0.5354, train_mae: 0.1873, train_win_acc: 0.7814\n"
     ]
    },
    {
     "name": "stderr",
     "output_type": "stream",
     "text": [
      "Epoch 1: 98005it [1:05:08, 36.65it/s]"
     ]
    },
    {
     "name": "stdout",
     "output_type": "stream",
     "text": [
      "Step 98000 — train_loss: 0.5352, train_mae: 0.1873, train_win_acc: 0.7815\n"
     ]
    },
    {
     "name": "stderr",
     "output_type": "stream",
     "text": [
      "Epoch 1: 99007it [1:05:37, 36.15it/s]"
     ]
    },
    {
     "name": "stdout",
     "output_type": "stream",
     "text": [
      "Step 99000 — train_loss: 0.5351, train_mae: 0.1872, train_win_acc: 0.7815\n"
     ]
    },
    {
     "name": "stderr",
     "output_type": "stream",
     "text": [
      "Epoch 1: 99999it [1:06:05, 34.10it/s]"
     ]
    },
    {
     "name": "stdout",
     "output_type": "stream",
     "text": [
      "Step 100000 — train_loss: 0.5350, train_mae: 0.1872, train_win_acc: 0.7816\n"
     ]
    },
    {
     "name": "stderr",
     "output_type": "stream",
     "text": [
      "Epoch 1: 100004it [1:07:07,  3.89s/it]"
     ]
    },
    {
     "name": "stdout",
     "output_type": "stream",
     "text": [
      "\n",
      "[Validation] Step 100000 — train_loss: 0.5350, train_mae: 0.1872, train_win_acc: 0.7816, val_loss: 0.0811, val_mae: 0.1833, val_win_acc: 0.7738, LR: 0.000641\n",
      "Saved new best model after 100000 iters\n",
      "--------Validation MAE improved to 0.183324--------\n"
     ]
    },
    {
     "name": "stderr",
     "output_type": "stream",
     "text": [
      "Epoch 1: 101004it [1:07:35, 36.41it/s]"
     ]
    },
    {
     "name": "stdout",
     "output_type": "stream",
     "text": [
      "Step 101000 — train_loss: 0.5348, train_mae: 0.1871, train_win_acc: 0.7816\n"
     ]
    },
    {
     "name": "stderr",
     "output_type": "stream",
     "text": [
      "Epoch 1: 102004it [1:08:03, 35.02it/s]"
     ]
    },
    {
     "name": "stdout",
     "output_type": "stream",
     "text": [
      "Step 102000 — train_loss: 0.5347, train_mae: 0.1871, train_win_acc: 0.7817\n"
     ]
    },
    {
     "name": "stderr",
     "output_type": "stream",
     "text": [
      "Epoch 1: 103007it [1:08:31, 35.75it/s]"
     ]
    },
    {
     "name": "stdout",
     "output_type": "stream",
     "text": [
      "Step 103000 — train_loss: 0.5345, train_mae: 0.1870, train_win_acc: 0.7818\n"
     ]
    },
    {
     "name": "stderr",
     "output_type": "stream",
     "text": [
      "Epoch 1: 104007it [1:09:00, 35.78it/s]"
     ]
    },
    {
     "name": "stdout",
     "output_type": "stream",
     "text": [
      "Step 104000 — train_loss: 0.5343, train_mae: 0.1870, train_win_acc: 0.7819\n"
     ]
    },
    {
     "name": "stderr",
     "output_type": "stream",
     "text": [
      "Epoch 1: 104999it [1:09:28, 36.23it/s]"
     ]
    },
    {
     "name": "stdout",
     "output_type": "stream",
     "text": [
      "Step 105000 — train_loss: 0.5342, train_mae: 0.1870, train_win_acc: 0.7820\n"
     ]
    },
    {
     "name": "stderr",
     "output_type": "stream",
     "text": [
      "Epoch 1: 105004it [1:10:29,  3.86s/it]"
     ]
    },
    {
     "name": "stdout",
     "output_type": "stream",
     "text": [
      "\n",
      "[Validation] Step 105000 — train_loss: 0.5342, train_mae: 0.1870, train_win_acc: 0.7820, val_loss: 0.0814, val_mae: 0.1855, val_win_acc: 0.7686, LR: 0.000610\n",
      "--------No significant MAE improvement for 5000 iterations--------\n"
     ]
    },
    {
     "name": "stderr",
     "output_type": "stream",
     "text": [
      "Epoch 1: 106004it [1:10:59, 32.84it/s]"
     ]
    },
    {
     "name": "stdout",
     "output_type": "stream",
     "text": [
      "Step 106000 — train_loss: 0.5341, train_mae: 0.1869, train_win_acc: 0.7821\n"
     ]
    },
    {
     "name": "stderr",
     "output_type": "stream",
     "text": [
      "Epoch 1: 107006it [1:11:27, 36.55it/s]"
     ]
    },
    {
     "name": "stdout",
     "output_type": "stream",
     "text": [
      "Step 107000 — train_loss: 0.5340, train_mae: 0.1869, train_win_acc: 0.7821\n"
     ]
    },
    {
     "name": "stderr",
     "output_type": "stream",
     "text": [
      "Epoch 1: 108006it [1:11:55, 36.69it/s]"
     ]
    },
    {
     "name": "stdout",
     "output_type": "stream",
     "text": [
      "Step 108000 — train_loss: 0.5338, train_mae: 0.1868, train_win_acc: 0.7822\n"
     ]
    },
    {
     "name": "stderr",
     "output_type": "stream",
     "text": [
      "Epoch 1: 109005it [1:12:23, 36.46it/s]"
     ]
    },
    {
     "name": "stdout",
     "output_type": "stream",
     "text": [
      "Step 109000 — train_loss: 0.5337, train_mae: 0.1868, train_win_acc: 0.7823\n"
     ]
    },
    {
     "name": "stderr",
     "output_type": "stream",
     "text": [
      "Epoch 1: 109996it [1:12:52, 36.15it/s]"
     ]
    },
    {
     "name": "stdout",
     "output_type": "stream",
     "text": [
      "Step 110000 — train_loss: 0.5335, train_mae: 0.1867, train_win_acc: 0.7823\n"
     ]
    },
    {
     "name": "stderr",
     "output_type": "stream",
     "text": [
      "Epoch 1: 110004it [1:13:54,  3.27s/it]"
     ]
    },
    {
     "name": "stdout",
     "output_type": "stream",
     "text": [
      "\n",
      "[Validation] Step 110000 — train_loss: 0.5335, train_mae: 0.1867, train_win_acc: 0.7823, val_loss: 0.0803, val_mae: 0.1802, val_win_acc: 0.7745, LR: 0.000580\n",
      "Saved new best model after 110000 iters\n",
      "--------Validation MAE improved to 0.180151--------\n"
     ]
    },
    {
     "name": "stderr",
     "output_type": "stream",
     "text": [
      "Epoch 1: 111004it [1:14:21, 36.31it/s]"
     ]
    },
    {
     "name": "stdout",
     "output_type": "stream",
     "text": [
      "Step 111000 — train_loss: 0.5333, train_mae: 0.1867, train_win_acc: 0.7824\n"
     ]
    },
    {
     "name": "stderr",
     "output_type": "stream",
     "text": [
      "Epoch 1: 112004it [1:14:49, 35.44it/s]"
     ]
    },
    {
     "name": "stdout",
     "output_type": "stream",
     "text": [
      "Step 112000 — train_loss: 0.5331, train_mae: 0.1866, train_win_acc: 0.7825\n"
     ]
    },
    {
     "name": "stderr",
     "output_type": "stream",
     "text": [
      "Epoch 1: 113007it [1:15:18, 35.16it/s]"
     ]
    },
    {
     "name": "stdout",
     "output_type": "stream",
     "text": [
      "Step 113000 — train_loss: 0.5329, train_mae: 0.1865, train_win_acc: 0.7826\n"
     ]
    },
    {
     "name": "stderr",
     "output_type": "stream",
     "text": [
      "Epoch 1: 114007it [1:15:47, 35.55it/s]"
     ]
    },
    {
     "name": "stdout",
     "output_type": "stream",
     "text": [
      "Step 114000 — train_loss: 0.5327, train_mae: 0.1864, train_win_acc: 0.7827\n"
     ]
    },
    {
     "name": "stderr",
     "output_type": "stream",
     "text": [
      "Epoch 1: 114999it [1:16:15, 36.90it/s]"
     ]
    },
    {
     "name": "stdout",
     "output_type": "stream",
     "text": [
      "Step 115000 — train_loss: 0.5326, train_mae: 0.1864, train_win_acc: 0.7828\n"
     ]
    },
    {
     "name": "stderr",
     "output_type": "stream",
     "text": [
      "Epoch 1: 115004it [1:17:17,  3.92s/it]"
     ]
    },
    {
     "name": "stdout",
     "output_type": "stream",
     "text": [
      "\n",
      "[Validation] Step 115000 — train_loss: 0.5326, train_mae: 0.1864, train_win_acc: 0.7828, val_loss: 0.0805, val_mae: 0.1829, val_win_acc: 0.7732, LR: 0.000549\n",
      "--------No significant MAE improvement for 5000 iterations--------\n"
     ]
    },
    {
     "name": "stderr",
     "output_type": "stream",
     "text": [
      "Epoch 1: 116007it [1:17:46, 36.11it/s]"
     ]
    },
    {
     "name": "stdout",
     "output_type": "stream",
     "text": [
      "Step 116000 — train_loss: 0.5324, train_mae: 0.1863, train_win_acc: 0.7829\n"
     ]
    },
    {
     "name": "stderr",
     "output_type": "stream",
     "text": [
      "Epoch 1: 117007it [1:18:14, 35.99it/s]"
     ]
    },
    {
     "name": "stdout",
     "output_type": "stream",
     "text": [
      "Step 117000 — train_loss: 0.5322, train_mae: 0.1862, train_win_acc: 0.7829\n"
     ]
    },
    {
     "name": "stderr",
     "output_type": "stream",
     "text": [
      "Epoch 1: 118007it [1:18:42, 36.38it/s]"
     ]
    },
    {
     "name": "stdout",
     "output_type": "stream",
     "text": [
      "Step 118000 — train_loss: 0.5320, train_mae: 0.1861, train_win_acc: 0.7830\n"
     ]
    },
    {
     "name": "stderr",
     "output_type": "stream",
     "text": [
      "Epoch 1: 119003it [1:19:10, 34.96it/s]"
     ]
    },
    {
     "name": "stdout",
     "output_type": "stream",
     "text": [
      "Step 119000 — train_loss: 0.5317, train_mae: 0.1860, train_win_acc: 0.7831\n"
     ]
    },
    {
     "name": "stderr",
     "output_type": "stream",
     "text": [
      "Epoch 1: 119999it [1:19:38, 35.63it/s]"
     ]
    },
    {
     "name": "stdout",
     "output_type": "stream",
     "text": [
      "Step 120000 — train_loss: 0.5315, train_mae: 0.1859, train_win_acc: 0.7833\n"
     ]
    },
    {
     "name": "stderr",
     "output_type": "stream",
     "text": [
      "Epoch 1: 120004it [1:20:40,  3.84s/it]"
     ]
    },
    {
     "name": "stdout",
     "output_type": "stream",
     "text": [
      "\n",
      "[Validation] Step 120000 — train_loss: 0.5315, train_mae: 0.1859, train_win_acc: 0.7833, val_loss: 0.0801, val_mae: 0.1798, val_win_acc: 0.7748, LR: 0.000518\n",
      "Saved new best model after 120000 iters\n",
      "--------No significant MAE improvement for 10000 iterations--------\n"
     ]
    },
    {
     "name": "stderr",
     "output_type": "stream",
     "text": [
      "Epoch 1: 121004it [1:21:08, 34.97it/s]"
     ]
    },
    {
     "name": "stdout",
     "output_type": "stream",
     "text": [
      "Step 121000 — train_loss: 0.5312, train_mae: 0.1858, train_win_acc: 0.7834\n"
     ]
    },
    {
     "name": "stderr",
     "output_type": "stream",
     "text": [
      "Epoch 1: 122004it [1:21:36, 35.17it/s]"
     ]
    },
    {
     "name": "stdout",
     "output_type": "stream",
     "text": [
      "Step 122000 — train_loss: 0.5310, train_mae: 0.1857, train_win_acc: 0.7835\n"
     ]
    },
    {
     "name": "stderr",
     "output_type": "stream",
     "text": [
      "Epoch 1: 123007it [1:22:06, 36.05it/s]"
     ]
    },
    {
     "name": "stdout",
     "output_type": "stream",
     "text": [
      "Step 123000 — train_loss: 0.5308, train_mae: 0.1857, train_win_acc: 0.7835\n"
     ]
    },
    {
     "name": "stderr",
     "output_type": "stream",
     "text": [
      "Epoch 1: 124007it [1:22:34, 34.76it/s]"
     ]
    },
    {
     "name": "stdout",
     "output_type": "stream",
     "text": [
      "Step 124000 — train_loss: 0.5306, train_mae: 0.1856, train_win_acc: 0.7836\n"
     ]
    },
    {
     "name": "stderr",
     "output_type": "stream",
     "text": [
      "Epoch 1: 124999it [1:23:02, 35.11it/s]"
     ]
    },
    {
     "name": "stdout",
     "output_type": "stream",
     "text": [
      "Step 125000 — train_loss: 0.5305, train_mae: 0.1856, train_win_acc: 0.7837\n"
     ]
    },
    {
     "name": "stderr",
     "output_type": "stream",
     "text": [
      "Epoch 1: 125004it [1:24:04,  3.85s/it]"
     ]
    },
    {
     "name": "stdout",
     "output_type": "stream",
     "text": [
      "\n",
      "[Validation] Step 125000 — train_loss: 0.5305, train_mae: 0.1856, train_win_acc: 0.7837, val_loss: 0.0794, val_mae: 0.1794, val_win_acc: 0.7748, LR: 0.000488\n",
      "Saved new best model after 125000 iters\n",
      "--------Validation MAE improved to 0.179400--------\n"
     ]
    },
    {
     "name": "stderr",
     "output_type": "stream",
     "text": [
      "Epoch 1: 126004it [1:24:32, 35.66it/s]"
     ]
    },
    {
     "name": "stdout",
     "output_type": "stream",
     "text": [
      "Step 126000 — train_loss: 0.5303, train_mae: 0.1855, train_win_acc: 0.7838\n"
     ]
    },
    {
     "name": "stderr",
     "output_type": "stream",
     "text": [
      "Epoch 1: 127004it [1:25:00, 34.62it/s]"
     ]
    },
    {
     "name": "stdout",
     "output_type": "stream",
     "text": [
      "Step 127000 — train_loss: 0.5301, train_mae: 0.1855, train_win_acc: 0.7839\n"
     ]
    },
    {
     "name": "stderr",
     "output_type": "stream",
     "text": [
      "Epoch 1: 128004it [1:25:28, 36.24it/s]"
     ]
    },
    {
     "name": "stdout",
     "output_type": "stream",
     "text": [
      "Step 128000 — train_loss: 0.5299, train_mae: 0.1854, train_win_acc: 0.7840\n"
     ]
    },
    {
     "name": "stderr",
     "output_type": "stream",
     "text": [
      "Epoch 1: 128708it [1:25:48, 25.00it/s]\n"
     ]
    },
    {
     "ename": "KeyboardInterrupt",
     "evalue": "",
     "output_type": "error",
     "traceback": [
      "\u001b[0;31m---------------------------------------------------------------------------\u001b[0m",
      "\u001b[0;31mKeyboardInterrupt\u001b[0m                         Traceback (most recent call last)",
      "Cell \u001b[0;32mIn[18], line 28\u001b[0m\n\u001b[1;32m     25\u001b[0m total_win_correct \u001b[38;5;241m=\u001b[39m \u001b[38;5;241m0\u001b[39m\n\u001b[1;32m     26\u001b[0m total_samples \u001b[38;5;241m=\u001b[39m \u001b[38;5;241m0\u001b[39m\n\u001b[0;32m---> 28\u001b[0m \u001b[43m\u001b[49m\u001b[38;5;28;43;01mfor\u001b[39;49;00m\u001b[43m \u001b[49m\u001b[43minputs\u001b[49m\u001b[43m,\u001b[49m\u001b[43m \u001b[49m\u001b[43mlabels\u001b[49m\u001b[43m,\u001b[49m\u001b[43m \u001b[49m\u001b[43mwinning_labels\u001b[49m\u001b[43m \u001b[49m\u001b[38;5;129;43;01min\u001b[39;49;00m\u001b[43m \u001b[49m\u001b[43mtqdm\u001b[49m\u001b[43m(\u001b[49m\u001b[43mtrain_loader\u001b[49m\u001b[43m,\u001b[49m\u001b[43m \u001b[49m\u001b[43mdesc\u001b[49m\u001b[38;5;241;43m=\u001b[39;49m\u001b[38;5;124;43mf\u001b[39;49m\u001b[38;5;124;43m\"\u001b[39;49m\u001b[38;5;124;43mEpoch \u001b[39;49m\u001b[38;5;132;43;01m{\u001b[39;49;00m\u001b[43mepoch\u001b[49m\u001b[38;5;132;43;01m}\u001b[39;49;00m\u001b[38;5;124;43m\"\u001b[39;49m\u001b[43m)\u001b[49m\u001b[43m:\u001b[49m\n\u001b[1;32m     29\u001b[0m \u001b[43m    \u001b[49m\u001b[43minputs\u001b[49m\u001b[43m,\u001b[49m\u001b[43m \u001b[49m\u001b[43mlabels\u001b[49m\u001b[43m,\u001b[49m\u001b[43m \u001b[49m\u001b[43mwinning_labels\u001b[49m\u001b[43m \u001b[49m\u001b[38;5;241;43m=\u001b[39;49m\u001b[43m \u001b[49m\u001b[43minputs\u001b[49m\u001b[38;5;241;43m.\u001b[39;49m\u001b[43mto\u001b[49m\u001b[43m(\u001b[49m\u001b[43mDEVICE\u001b[49m\u001b[43m)\u001b[49m\u001b[43m,\u001b[49m\u001b[43m \u001b[49m\u001b[43mlabels\u001b[49m\u001b[38;5;241;43m.\u001b[39;49m\u001b[43mto\u001b[49m\u001b[43m(\u001b[49m\u001b[43mDEVICE\u001b[49m\u001b[43m)\u001b[49m\u001b[43m,\u001b[49m\u001b[43m \u001b[49m\u001b[43mwinning_labels\u001b[49m\u001b[38;5;241;43m.\u001b[39;49m\u001b[43mto\u001b[49m\u001b[43m(\u001b[49m\u001b[43mDEVICE\u001b[49m\u001b[43m)\u001b[49m\n\u001b[1;32m     31\u001b[0m \u001b[43m    \u001b[49m\u001b[43moptimizer\u001b[49m\u001b[38;5;241;43m.\u001b[39;49m\u001b[43mzero_grad\u001b[49m\u001b[43m(\u001b[49m\u001b[43m)\u001b[49m\n",
      "File \u001b[0;32m/usr/local/lib/python3.11/dist-packages/tqdm/std.py:1181\u001b[0m, in \u001b[0;36mtqdm.__iter__\u001b[0;34m(self)\u001b[0m\n\u001b[1;32m   1178\u001b[0m time \u001b[38;5;241m=\u001b[39m \u001b[38;5;28mself\u001b[39m\u001b[38;5;241m.\u001b[39m_time\n\u001b[1;32m   1180\u001b[0m \u001b[38;5;28;01mtry\u001b[39;00m:\n\u001b[0;32m-> 1181\u001b[0m \u001b[43m    \u001b[49m\u001b[38;5;28;43;01mfor\u001b[39;49;00m\u001b[43m \u001b[49m\u001b[43mobj\u001b[49m\u001b[43m \u001b[49m\u001b[38;5;129;43;01min\u001b[39;49;00m\u001b[43m \u001b[49m\u001b[43miterable\u001b[49m\u001b[43m:\u001b[49m\n\u001b[1;32m   1182\u001b[0m \u001b[43m        \u001b[49m\u001b[38;5;28;43;01myield\u001b[39;49;00m\u001b[43m \u001b[49m\u001b[43mobj\u001b[49m\n\u001b[1;32m   1183\u001b[0m \u001b[43m        \u001b[49m\u001b[38;5;66;43;03m# Update and possibly print the progressbar.\u001b[39;49;00m\n\u001b[1;32m   1184\u001b[0m \u001b[43m        \u001b[49m\u001b[38;5;66;43;03m# Note: does not call self.update(1) for speed optimisation.\u001b[39;49;00m\n",
      "File \u001b[0;32m/usr/local/lib/python3.11/dist-packages/torch/utils/data/dataloader.py:630\u001b[0m, in \u001b[0;36m_BaseDataLoaderIter.__next__\u001b[0;34m(self)\u001b[0m\n\u001b[1;32m    627\u001b[0m \u001b[38;5;28;01mif\u001b[39;00m \u001b[38;5;28mself\u001b[39m\u001b[38;5;241m.\u001b[39m_sampler_iter \u001b[38;5;129;01mis\u001b[39;00m \u001b[38;5;28;01mNone\u001b[39;00m:\n\u001b[1;32m    628\u001b[0m     \u001b[38;5;66;03m# TODO(https://github.com/pytorch/pytorch/issues/76750)\u001b[39;00m\n\u001b[1;32m    629\u001b[0m     \u001b[38;5;28mself\u001b[39m\u001b[38;5;241m.\u001b[39m_reset()  \u001b[38;5;66;03m# type: ignore[call-arg]\u001b[39;00m\n\u001b[0;32m--> 630\u001b[0m data \u001b[38;5;241m=\u001b[39m \u001b[38;5;28;43mself\u001b[39;49m\u001b[38;5;241;43m.\u001b[39;49m\u001b[43m_next_data\u001b[49m\u001b[43m(\u001b[49m\u001b[43m)\u001b[49m\n\u001b[1;32m    631\u001b[0m \u001b[38;5;28mself\u001b[39m\u001b[38;5;241m.\u001b[39m_num_yielded \u001b[38;5;241m+\u001b[39m\u001b[38;5;241m=\u001b[39m \u001b[38;5;241m1\u001b[39m\n\u001b[1;32m    632\u001b[0m \u001b[38;5;28;01mif\u001b[39;00m \u001b[38;5;28mself\u001b[39m\u001b[38;5;241m.\u001b[39m_dataset_kind \u001b[38;5;241m==\u001b[39m _DatasetKind\u001b[38;5;241m.\u001b[39mIterable \u001b[38;5;129;01mand\u001b[39;00m \\\n\u001b[1;32m    633\u001b[0m         \u001b[38;5;28mself\u001b[39m\u001b[38;5;241m.\u001b[39m_IterableDataset_len_called \u001b[38;5;129;01mis\u001b[39;00m \u001b[38;5;129;01mnot\u001b[39;00m \u001b[38;5;28;01mNone\u001b[39;00m \u001b[38;5;129;01mand\u001b[39;00m \\\n\u001b[1;32m    634\u001b[0m         \u001b[38;5;28mself\u001b[39m\u001b[38;5;241m.\u001b[39m_num_yielded \u001b[38;5;241m>\u001b[39m \u001b[38;5;28mself\u001b[39m\u001b[38;5;241m.\u001b[39m_IterableDataset_len_called:\n",
      "File \u001b[0;32m/usr/local/lib/python3.11/dist-packages/torch/utils/data/dataloader.py:673\u001b[0m, in \u001b[0;36m_SingleProcessDataLoaderIter._next_data\u001b[0;34m(self)\u001b[0m\n\u001b[1;32m    671\u001b[0m \u001b[38;5;28;01mdef\u001b[39;00m \u001b[38;5;21m_next_data\u001b[39m(\u001b[38;5;28mself\u001b[39m):\n\u001b[1;32m    672\u001b[0m     index \u001b[38;5;241m=\u001b[39m \u001b[38;5;28mself\u001b[39m\u001b[38;5;241m.\u001b[39m_next_index()  \u001b[38;5;66;03m# may raise StopIteration\u001b[39;00m\n\u001b[0;32m--> 673\u001b[0m     data \u001b[38;5;241m=\u001b[39m \u001b[38;5;28;43mself\u001b[39;49m\u001b[38;5;241;43m.\u001b[39;49m\u001b[43m_dataset_fetcher\u001b[49m\u001b[38;5;241;43m.\u001b[39;49m\u001b[43mfetch\u001b[49m\u001b[43m(\u001b[49m\u001b[43mindex\u001b[49m\u001b[43m)\u001b[49m  \u001b[38;5;66;03m# may raise StopIteration\u001b[39;00m\n\u001b[1;32m    674\u001b[0m     \u001b[38;5;28;01mif\u001b[39;00m \u001b[38;5;28mself\u001b[39m\u001b[38;5;241m.\u001b[39m_pin_memory:\n\u001b[1;32m    675\u001b[0m         data \u001b[38;5;241m=\u001b[39m _utils\u001b[38;5;241m.\u001b[39mpin_memory\u001b[38;5;241m.\u001b[39mpin_memory(data, \u001b[38;5;28mself\u001b[39m\u001b[38;5;241m.\u001b[39m_pin_memory_device)\n",
      "File \u001b[0;32m/usr/local/lib/python3.11/dist-packages/torch/utils/data/_utils/fetch.py:43\u001b[0m, in \u001b[0;36m_IterableDatasetFetcher.fetch\u001b[0;34m(self, possibly_batched_index)\u001b[0m\n\u001b[1;32m     41\u001b[0m \u001b[38;5;28;01melse\u001b[39;00m:\n\u001b[1;32m     42\u001b[0m     data \u001b[38;5;241m=\u001b[39m \u001b[38;5;28mnext\u001b[39m(\u001b[38;5;28mself\u001b[39m\u001b[38;5;241m.\u001b[39mdataset_iter)\n\u001b[0;32m---> 43\u001b[0m \u001b[38;5;28;01mreturn\u001b[39;00m \u001b[38;5;28;43mself\u001b[39;49m\u001b[38;5;241;43m.\u001b[39;49m\u001b[43mcollate_fn\u001b[49m\u001b[43m(\u001b[49m\u001b[43mdata\u001b[49m\u001b[43m)\u001b[49m\n",
      "Cell \u001b[0;32mIn[3], line 27\u001b[0m, in \u001b[0;36mcollate_fn\u001b[0;34m(batch)\u001b[0m\n\u001b[1;32m     24\u001b[0m     winning_labels\u001b[38;5;241m.\u001b[39mappend(winning)\n\u001b[1;32m     26\u001b[0m     \u001b[38;5;66;03m# Process input\u001b[39;00m\n\u001b[0;32m---> 27\u001b[0m     inputs\u001b[38;5;241m.\u001b[39mappend(\u001b[43mtorch\u001b[49m\u001b[38;5;241;43m.\u001b[39;49m\u001b[43mtensor\u001b[49m\u001b[43m(\u001b[49m\u001b[43mfen_to_piece_maps\u001b[49m\u001b[43m(\u001b[49m\u001b[43mfen\u001b[49m\u001b[43m)\u001b[49m\u001b[43m,\u001b[49m\u001b[43m \u001b[49m\u001b[43mdtype\u001b[49m\u001b[38;5;241;43m=\u001b[39;49m\u001b[43mtorch\u001b[49m\u001b[38;5;241;43m.\u001b[39;49m\u001b[43mfloat32\u001b[49m\u001b[43m)\u001b[49m)\n\u001b[1;32m     29\u001b[0m inputs \u001b[38;5;241m=\u001b[39m torch\u001b[38;5;241m.\u001b[39mstack(inputs)\n\u001b[1;32m     30\u001b[0m winning_labels \u001b[38;5;241m=\u001b[39m torch\u001b[38;5;241m.\u001b[39mtensor(winning_labels, dtype\u001b[38;5;241m=\u001b[39mtorch\u001b[38;5;241m.\u001b[39mfloat32)  \u001b[38;5;66;03m# Make sure it's float32 for BCEWithLogitsLoss etc.\u001b[39;00m\n",
      "\u001b[0;31mKeyboardInterrupt\u001b[0m: "
     ]
    }
   ],
   "source": [
    "best_val_loss = float('inf')\n",
    "best_val_mae = float('inf')\n",
    "num_iterations = 0\n",
    "patience_counter = 0\n",
    "\n",
    "PATIENCE = 25000\n",
    "MIN_IMPROVEMENT = 5e-4\n",
    "VAL_ITERS = 5000\n",
    "LOG_ITERS = 1000\n",
    "\n",
    "early_stop = False\n",
    "\n",
    "# for tracking performance\n",
    "steps = []\n",
    "train_losses, train_maes, train_win_accs = [], [], []\n",
    "val_losses, val_maes, val_win_accs = [], [], []\n",
    "\n",
    "for epoch in range(1, NUM_EPOCHS + 1):\n",
    "    if early_stop:\n",
    "        break\n",
    "\n",
    "    model.train()\n",
    "    total_loss = 0.0\n",
    "    total_mae = 0.0\n",
    "    total_win_correct = 0\n",
    "    total_samples = 0\n",
    "\n",
    "    for inputs, labels, winning_labels in tqdm(train_loader, desc=f\"Epoch {epoch}\"):\n",
    "        inputs, labels, winning_labels = inputs.to(DEVICE), labels.to(DEVICE), winning_labels.to(DEVICE)\n",
    "\n",
    "        optimizer.zero_grad()\n",
    "        eval_pred, win_pred = model(inputs)\n",
    "\n",
    "        loss_eval = eval_criterion(eval_pred.squeeze(), labels)\n",
    "        loss_win = win_criterion(win_pred.squeeze(), winning_labels)\n",
    "\n",
    "        loss = loss_eval + loss_win\n",
    "\n",
    "        loss.backward()\n",
    "        optimizer.step()\n",
    "        scheduler.step()\n",
    "\n",
    "        batch_loss = loss.item()\n",
    "        batch_mae = torch.mean(torch.abs(eval_pred.squeeze() - labels)).item()\n",
    "\n",
    "        # Calculate batch binary accuracy\n",
    "        win_pred_labels = (torch.sigmoid(win_pred.squeeze()) > 0.5).float()\n",
    "        batch_win_acc = (win_pred_labels == winning_labels).float().mean().item()\n",
    "\n",
    "        total_loss += batch_loss * inputs.size(0)\n",
    "        total_mae += batch_mae * inputs.size(0)\n",
    "        total_win_correct += (win_pred_labels == winning_labels).sum().item()\n",
    "        total_samples += inputs.size(0)\n",
    "        num_iterations += 1\n",
    "\n",
    "        if num_iterations % LOG_ITERS == 0:\n",
    "            avg_train_loss = total_loss / total_samples\n",
    "            avg_train_mae = total_mae / total_samples\n",
    "            avg_train_win_acc = total_win_correct / total_samples\n",
    "\n",
    "            print(f\"Step {num_iterations} — train_loss: {avg_train_loss:.4f}, train_mae: {avg_train_mae:.4f}, train_win_acc: {avg_train_win_acc:.4f}\")\n",
    "\n",
    "    # Validation every VAL_ITERS iterations\n",
    "        if num_iterations % VAL_ITERS == 0:\n",
    "            model.eval()\n",
    "            val_loss_sum = 0.0\n",
    "            val_mae_sum = 0.0\n",
    "            val_win_correct = 0\n",
    "            val_total_samples = 0\n",
    "\n",
    "            with torch.no_grad():\n",
    "                for val_inputs, val_labels, val_winning_labels in val_loader:\n",
    "                    val_inputs, val_labels, val_winning_labels = val_inputs.to(DEVICE), val_labels.to(DEVICE), val_winning_labels.to(DEVICE)\n",
    "\n",
    "                    val_pred, val_win_pred = model(val_inputs)\n",
    "\n",
    "                    val_loss = eval_criterion(val_pred.squeeze(), val_labels)\n",
    "                    val_mae = torch.mean(torch.abs(val_pred.squeeze() - val_labels))\n",
    "\n",
    "                    val_loss_sum += val_loss.item() * val_inputs.size(0)\n",
    "                    val_mae_sum += val_mae.item() * val_inputs.size(0)\n",
    "\n",
    "                    val_win_preds = (torch.sigmoid(val_win_pred.squeeze()) > 0.5).float()\n",
    "                    val_win_correct += (val_win_preds == val_winning_labels).sum().item()\n",
    "\n",
    "                    val_total_samples += val_inputs.size(0)\n",
    "\n",
    "            avg_val_loss = val_loss_sum / val_total_samples\n",
    "            avg_val_mae = val_mae_sum / val_total_samples\n",
    "            avg_val_win_acc = val_win_correct / val_total_samples\n",
    "\n",
    "            avg_train_loss = total_loss / total_samples\n",
    "            avg_train_mae = total_mae / total_samples\n",
    "            avg_train_win_acc = total_win_correct / total_samples\n",
    "\n",
    "            print(f\"\\n[Validation] Step {num_iterations} — train_loss: {avg_train_loss:.4f}, train_mae: {avg_train_mae:.4f}, train_win_acc: {avg_train_win_acc:.4f}, val_loss: {avg_val_loss:.4f}, val_mae: {avg_val_mae:.4f}, val_win_acc: {avg_val_win_acc:.4f}, LR: {scheduler.get_last_lr()[0]:.6f}\")\n",
    "\n",
    "            steps.append(num_iterations)\n",
    "            train_losses.append(avg_train_loss)\n",
    "            train_maes.append(avg_train_mae)\n",
    "            train_win_accs.append(avg_train_win_acc)\n",
    "\n",
    "            val_losses.append(avg_val_loss)\n",
    "            val_maes.append(avg_val_mae)\n",
    "            val_win_accs.append(avg_val_win_acc)\n",
    "\n",
    "            # Checkpoint best\n",
    "            if avg_val_loss < best_val_loss:\n",
    "                best_val_loss = avg_val_loss\n",
    "                torch.save(model.state_dict(), \"best_chess_mlp.pth\")\n",
    "                print(f\"Saved new best model after {num_iterations} iters\")\n",
    "            \n",
    "            # Early stopping on validation MAE\n",
    "            if avg_val_mae + MIN_IMPROVEMENT < best_val_mae:\n",
    "                best_val_mae = avg_val_mae\n",
    "                patience_counter = 0\n",
    "                print(f\"--------Validation MAE improved to {best_val_mae:.6f}--------\")\n",
    "            else:\n",
    "                patience_counter += VAL_ITERS\n",
    "                print(f\"--------No significant MAE improvement for {patience_counter} iterations--------\")\n",
    "\n",
    "            if patience_counter >= PATIENCE:\n",
    "                print(f\"Early stopping triggered at {num_iterations} iterations (no significant MAE improvement)\")\n",
    "                early_stop = True\n",
    "                break\n",
    "\n",
    "            model.train()\n"
   ]
  },
  {
   "cell_type": "code",
   "execution_count": 19,
   "id": "ab29bbb3-eee4-40f5-a1dd-3e4e3ea7b4fb",
   "metadata": {},
   "outputs": [
    {
     "name": "stdout",
     "output_type": "stream",
     "text": [
      "Test results: test_loss: 0.5228, test_mae: 0.1750, test_acc: 0.7825\n"
     ]
    }
   ],
   "source": [
    "model.eval()\n",
    "test_loss_sum = 0.0\n",
    "test_mae_sum = 0.0\n",
    "test_acc_sum = 0.0\n",
    "total_samples = 0\n",
    "with torch.no_grad():\n",
    "    for test_inputs, test_labels, test_winning_labels in test_loader:\n",
    "        test_inputs = test_inputs.to(DEVICE)\n",
    "        test_labels = test_labels.to(DEVICE)\n",
    "        test_winning_labels = test_winning_labels.to(DEVICE)\n",
    "\n",
    "        eval_pred, win_pred = model(test_inputs)\n",
    "\n",
    "        # Compute losses\n",
    "        loss_eval = eval_criterion(eval_pred.squeeze(), test_labels)\n",
    "        loss_win = win_criterion(win_pred.squeeze(), test_winning_labels)\n",
    "\n",
    "        loss = loss_eval + loss_win\n",
    "\n",
    "        # Compute MAE\n",
    "        mae = torch.mean(torch.abs(eval_pred.squeeze() - test_labels))\n",
    "\n",
    "        # Compute binary classification accuracy\n",
    "        win_pred_labels = (torch.sigmoid(win_pred.squeeze()) > 0.5).float()\n",
    "        acc = (win_pred_labels == test_winning_labels).float().mean()\n",
    "\n",
    "        # Aggregate\n",
    "        batch_size = test_inputs.size(0)\n",
    "        test_loss_sum += loss.item() * batch_size\n",
    "        test_mae_sum += mae.item() * batch_size\n",
    "        test_acc_sum += acc.item() * batch_size\n",
    "        total_samples += batch_size\n",
    "\n",
    "avg_test_loss = test_loss_sum / total_samples\n",
    "avg_test_mae = test_mae_sum / total_samples\n",
    "avg_test_acc = test_acc_sum / total_samples\n",
    "\n",
    "print(f\"Test results: test_loss: {avg_test_loss:.4f}, test_mae: {avg_test_mae:.4f}, test_acc: {avg_test_acc:.4f}\")"
   ]
  },
  {
   "cell_type": "code",
   "execution_count": 25,
   "id": "8771145b-2c11-4d3f-ae58-9ad75a36faba",
   "metadata": {},
   "outputs": [
    {
     "name": "stdout",
     "output_type": "stream",
     "text": [
      "Data saved to 'training_metrics.pkl'\n"
     ]
    }
   ],
   "source": [
    "import pickle\n",
    "\n",
    "# Define the data you want to save\n",
    "data = {\n",
    "    'steps': steps,\n",
    "    'train_losses': train_losses,\n",
    "    'train_maes': train_maes,\n",
    "    'val_maes': val_maes,\n",
    "    'train_win_accs': train_win_accs,\n",
    "    'val_win_accs': val_win_accs\n",
    "}\n",
    "\n",
    "# Save the data to a file using pickle\n",
    "with open('training_metrics.pkl', 'wb') as f:\n",
    "    pickle.dump(data, f)\n",
    "\n",
    "print(\"Data saved to 'training_metrics.pkl'\")"
   ]
  },
  {
   "cell_type": "code",
   "execution_count": 2,
   "id": "31aca98c-17d8-40d8-a767-00a58ea0434f",
   "metadata": {},
   "outputs": [
    {
     "data": {
      "image/png": "[encoded data removed]",
      "text/plain": [
       "<Figure size 1200x600 with 1 Axes>"
      ]
     },
     "metadata": {},
     "output_type": "display_data"
    },
    {
     "data": {
      "image/png": "[encoded data removed]",
      "text/plain": [
       "<Figure size 1200x600 with 1 Axes>"
      ]
     },
     "metadata": {},
     "output_type": "display_data"
    },
    {
     "data": {
      "image/png": "[encoded data removed]",
      "text/plain": [
       "<Figure size 1200x600 with 1 Axes>"
      ]
     },
     "metadata": {},
     "output_type": "display_data"
    }
   ],
   "source": [
    "import matplotlib.pyplot as plt\n",
    "import pickle\n",
    "\n",
    "with open('training_metrics.pkl', 'rb') as f:\n",
    "    loaded_data = pickle.load(f)\n",
    "\n",
    "# Accessing individual arrays\n",
    "steps = loaded_data['steps']\n",
    "train_losses = loaded_data['train_losses']\n",
    "train_maes = loaded_data['train_maes']\n",
    "val_maes = loaded_data['val_maes']\n",
    "train_win_accs = loaded_data['train_win_accs']\n",
    "val_win_accs = loaded_data['val_win_accs']\n",
    "\n",
    "# --- Plotting Loss Curves ---\n",
    "plt.figure(figsize=(12, 6))  # Set the figure size\n",
    "plt.plot(steps, train_losses, label='Train Loss at Validation Step')\n",
    "plt.xlabel('Training Steps')\n",
    "plt.ylabel('Loss')\n",
    "plt.title('Training Loss Curve vs. Steps')\n",
    "plt.legend()\n",
    "plt.grid(True)  # Add a grid for better readability\n",
    "plt.tight_layout()  # Adjust layout\n",
    "\n",
    "# --- Plotting MAE Curves ---\n",
    "plt.figure(figsize=(12, 6))  # Set the figure size\n",
    "plt.plot(steps, train_maes, label='Train MAE at Validation Step')\n",
    "plt.plot(steps, val_maes, label='Validation MAE')\n",
    "plt.xlabel('Training Steps')\n",
    "plt.ylabel('MAE')\n",
    "plt.title('Training and Validation MAE Curves vs. Steps')\n",
    "plt.legend()\n",
    "plt.grid(True)  # Add a grid for better readability\n",
    "plt.tight_layout()  # Adjust layout\n",
    "\n",
    "# --- Plotting Accuracy Curves ---\n",
    "plt.figure(figsize=(12, 6))  # Set the figure size\n",
    "plt.plot(steps, train_win_accs, label='Train Accuracy at Validation Step')\n",
    "plt.plot(steps, val_win_accs, label='Validation Accuracy')\n",
    "plt.xlabel('Training Steps')\n",
    "plt.ylabel('Accuracy')\n",
    "plt.title('Training and Validation Accuracy Curves vs. Steps')\n",
    "plt.legend()\n",
    "plt.grid(True)  # Add a grid for better readability\n",
    "plt.tight_layout()  # Adjust layout\n",
    "\n",
    "# Show all the plots\n",
    "plt.show()"
   ]
  },
  {
   "cell_type": "code",
   "execution_count": null,
   "id": "ac17eb96-780d-40be-9759-13f2f871a80c",
   "metadata": {},
   "outputs": [],
   "source": []
  }
 ],
 "metadata": {
  "kernelspec": {
   "display_name": "Python 3 (ipykernel)",
   "language": "python",
   "name": "python3"
  },
  "language_info": {
   "codemirror_mode": {
    "name": "ipython",
    "version": 3
   },
   "file_extension": ".py",
   "mimetype": "text/x-python",
   "name": "python",
   "nbconvert_exporter": "python",
   "pygments_lexer": "ipython3",
   "version": "3.11.10"
  }
 },
 "nbformat": 4,
 "nbformat_minor": 5
}
